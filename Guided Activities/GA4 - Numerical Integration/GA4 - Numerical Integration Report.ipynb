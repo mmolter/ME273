{
 "cells": [
  {
   "cell_type": "markdown",
   "metadata": {},
   "source": [
    "# Numerical Integration Report\n",
    "### M. Molter\n",
    "\n",
    "Analytically compute the value of\n",
    "\n",
    "$$\n",
    "    I = \\int^{10}_0 \\sin x \\, dx\n",
    "$$\n",
    "\n",
    "Then use your left-hand Riemann sum rule, the Trapezoid rule, and the Simpson 1/3 rule to compute the integral numerically using a range of step sizes $10^0 \\le \\Delta x \\le 10^{-8}$. (It will probably be easiest if you automate this last process by using a for loop to cycle through the various values of your step size; don't forget to rest your accumulator after each integral). Make a log--log plot of the error (magnitude of the difference between the analytic and numeric answers) vs. the step size $\\Delta x$. Ensure that the interval (0, 10) can be divided evenly into intervals of the step size you choose! Do the graphs look like you expect them to? How do you explain their behavior for large step sizes? For very small step sizes? How do you interpret their slopes?\n",
    "\n",
    "### Solution\n",
    "\n",
    "The first step, as usuall, is our library imports. `pyplot` is for plotting , and `numpy` is for heavy numerical computions."
   ]
  },
  {
   "cell_type": "code",
   "execution_count": 2,
   "metadata": {},
   "outputs": [],
   "source": [
    "import matplotlib.pyplot as plt\n",
    "import numpy as np"
   ]
  },
  {
   "cell_type": "markdown",
   "metadata": {},
   "source": [
    "The next step is to evaluate the integral analytically so we have an exact solution to compare to. I am lazy, so I will use `sympy` to perform the integral."
   ]
  },
  {
   "cell_type": "code",
   "execution_count": 58,
   "metadata": {},
   "outputs": [
    {
     "data": {
      "text/plain": [
       "-cos(10) + 1"
      ]
     },
     "execution_count": 58,
     "metadata": {},
     "output_type": "execute_result"
    }
   ],
   "source": [
    "from sympy import Symbol, integrate\n",
    "\n",
    "x = Symbol('x')\n",
    "\n",
    "integrate('sin(x)', (x, 0, 10))"
   ]
  },
  {
   "cell_type": "code",
   "execution_count": 59,
   "metadata": {},
   "outputs": [
    {
     "data": {
      "text/plain": [
       "1.8390715290764525"
      ]
     },
     "execution_count": 59,
     "metadata": {},
     "output_type": "execute_result"
    }
   ],
   "source": [
    "exact_soln = -np.cos(10) + 1\n",
    "exact_soln"
   ]
  },
  {
   "cell_type": "markdown",
   "metadata": {},
   "source": [
    "Now we can start fleshing out a `integrate` function of our own. A lot of the code for \"right-hand\", \"trapezoid\", and \"Simpson's\" gets repeated, so I will stuff this all in one function with a `method=` argument."
   ]
  },
  {
   "cell_type": "code",
   "execution_count": 13,
   "metadata": {},
   "outputs": [],
   "source": [
    "def integrate(func, start, stop, step, method='trap'):\n",
    "    ''' Return the numerical integration of func from start to stop. \n",
    "    \n",
    "        Args:\n",
    "            \n",
    "            func (function):    function to be integrated\n",
    "            start (float):      start of integration interval\n",
    "            stop (float):       end of integration interval\n",
    "            step (float):       step size for integration\n",
    "            \n",
    "            method (string): \n",
    "            \n",
    "                'right':        right-hand Riemann sum\n",
    "                'trap':         trapezoidal sum\n",
    "                'simp':         Simpson's 1/3 rule\n",
    "                \n",
    "        Returns:\n",
    "        \n",
    "            float:              result of integration.\n",
    "    '''\n",
    "    \n",
    "    assert (stop > start), \"Stop must be larger than start.\"\n",
    "\n",
    "        \n",
    "    if method == 'right':\n",
    "        x = np.arange(start + step, stop + step, step)\n",
    "        y = func(x)\n",
    "        \n",
    "        return sum(y * step)\n",
    "    \n",
    "    elif method == 'left':\n",
    "        x = np.arange(start, stop, step)\n",
    "        y = func(x)\n",
    "        \n",
    "        return sum(y * step)\n",
    "    \n",
    "    elif method == 'trap':\n",
    "        x = np.arange(start, stop + step, step)\n",
    "        y = func(x)\n",
    "        \n",
    "        result = 0\n",
    "        for i in range(len(x) - 1):\n",
    "            result += step * (0.5 * (y[i] + y[i+1]))\n",
    "        \n",
    "        return result\n",
    "    \n",
    "    elif method == 'simp':\n",
    "        x = np.arange(start, stop + step, step)\n",
    "        y = func(x)\n",
    "        \n",
    "        result = 0\n",
    "        for i in range(len(x) - 1):\n",
    "            result += (step / 6) * (y[i] + 4*func(0.5 * (x[i] + x[i+1])) + y[i+1])\n",
    "    \n",
    "        return result \n",
    "    \n",
    "    else:\n",
    "        raise ValueError('\"%s\" is not a valid integration method' % method)\n",
    "    "
   ]
  },
  {
   "cell_type": "markdown",
   "metadata": {},
   "source": [
    "Now let's test out all three versions to make sure things are working as we'd expect."
   ]
  },
  {
   "cell_type": "code",
   "execution_count": 70,
   "metadata": {},
   "outputs": [
    {
     "data": {
      "text/plain": [
       "1.8390715290611133"
      ]
     },
     "execution_count": 70,
     "metadata": {},
     "output_type": "execute_result"
    }
   ],
   "source": [
    "integrate(lambda x: np.sin(x), start=0, stop=10, step=1e-5, method='trap')"
   ]
  },
  {
   "cell_type": "code",
   "execution_count": 24,
   "metadata": {},
   "outputs": [
    {
     "data": {
      "text/plain": [
       "1.8390715018748673"
      ]
     },
     "execution_count": 24,
     "metadata": {},
     "output_type": "execute_result"
    }
   ],
   "source": [
    "integrate(lambda x: np.sin(x), start=0, stop=10, step=1e-7, method='right')"
   ]
  },
  {
   "cell_type": "code",
   "execution_count": 75,
   "metadata": {},
   "outputs": [
    {
     "data": {
      "text/plain": [
       "1.8390715290765045"
      ]
     },
     "execution_count": 75,
     "metadata": {},
     "output_type": "execute_result"
    }
   ],
   "source": [
    "integrate(lambda x: np.sin(x), start=0, stop=10, step=1e-5, method='simp')"
   ]
  },
  {
   "cell_type": "code",
   "execution_count": 22,
   "metadata": {},
   "outputs": [
    {
     "data": {
      "text/plain": [
       "1.8390715562769773"
      ]
     },
     "execution_count": 22,
     "metadata": {},
     "output_type": "execute_result"
    }
   ],
   "source": [
    "integrate(lambda x: np.sin(x), start=0, stop=10, step=10e-8, method='left')"
   ]
  },
  {
   "cell_type": "markdown",
   "metadata": {},
   "source": [
    "Now we need a relative error function."
   ]
  },
  {
   "cell_type": "code",
   "execution_count": 87,
   "metadata": {},
   "outputs": [],
   "source": [
    "def relative_error(numerical, exact):\n",
    "    ''' Return relative error given numerical and exact solutions. '''\n",
    "    \n",
    "    return abs(numerical - exact) * 100 / exact"
   ]
  },
  {
   "cell_type": "markdown",
   "metadata": {},
   "source": [
    "Now let's create our plots."
   ]
  },
  {
   "cell_type": "code",
   "execution_count": 121,
   "metadata": {},
   "outputs": [],
   "source": [
    " dts = [10e0, 10e-1, 10e-2, 10e-3, 10e-4, 10e-5, 10e-6, 10e-7]\n",
    "func = lambda x: np.sin(x)\n",
    "\n",
    "right_errors = [relative_error(integrate(func, 0, 10, dt, method='right'), exact_soln) for dt in dts]\n",
    "trap_errors  = [relative_error(integrate(func, 0, 10, dt, method='trap'),  exact_soln) for dt in dts]\n",
    "simp_errors  = [relative_error(integrate(func, 0, 10, dt, method='simp'),  exact_soln) for dt in dts]"
   ]
  },
  {
   "cell_type": "markdown",
   "metadata": {},
   "source": [
    "I can't quite get the $10^{-8}$ run. My laptop runs out of memory!"
   ]
  },
  {
   "cell_type": "code",
   "execution_count": 124,
   "metadata": {},
   "outputs": [
    {
     "data": {
      "text/plain": [
       "(10, 1e-06)"
      ]
     },
     "execution_count": 124,
     "metadata": {},
     "output_type": "execute_result"
    },
    {
     "data": {
      "image/png": "[encoded data removed]",
      "text/plain": [
       "<matplotlib.figure.Figure at 0x7fe321556e50>"
      ]
     },
     "metadata": {},
     "output_type": "display_data"
    }
   ],
   "source": [
    "plt.loglog(dts, right_errors, label='right-hand')\n",
    "plt.loglog(dts, trap_errors, label='trapezoidal')\n",
    "plt.loglog(dts, simp_errors, label='simpsons')\n",
    "\n",
    "plt.legend()\n",
    "plt.xlabel('dx')\n",
    "plt.ylabel('Relative Error (%)')\n",
    "plt.title('Relative Error of Numerical Integration Methods')\n",
    "\n",
    "plt.grid(linestyle=':', \n",
    "plt.tick_params(which='both', direction='in')\n",
    "plt.xlim(10, 10e-7)"
   ]
  },
  {
   "cell_type": "code",
   "execution_count": 31,
   "metadata": {},
   "outputs": [
    {
     "data": {
      "text/plain": [
       "array([ 2,  4,  6,  8, 10])"
      ]
     },
     "execution_count": 31,
     "metadata": {},
     "output_type": "execute_result"
    }
   ],
   "source": [
    "start = 0\n",
    "stop = 10\n",
    "step = 2\n",
    "\n",
    "x = np.arange(start + step, stop + step, step)\n",
    "x"
   ]
  }
 ],
 "metadata": {
  "kernelspec": {
   "display_name": "Python 2",
   "language": "python",
   "name": "python2"
  },
  "language_info": {
   "codemirror_mode": {
    "name": "ipython",
    "version": 2
   },
   "file_extension": ".py",
   "mimetype": "text/x-python",
   "name": "python",
   "nbconvert_exporter": "python",
   "pygments_lexer": "ipython2",
   "version": "2.7.14"
  }
 },
 "nbformat": 4,
 "nbformat_minor": 2
}
