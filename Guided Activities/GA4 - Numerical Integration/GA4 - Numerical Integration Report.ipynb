{
 "cells": [
  {
   "cell_type": "markdown",
   "metadata": {},
   "source": [
    "# Numerical Integration Report\n",
    "### M. Molter\n",
    "\n",
    "Analytically compute the value of\n",
    "\n",
    "$$\n",
    "    I = \\int^{10}_0 \\sin x \\, dx\n",
    "$$\n",
    "\n",
    "Then use your left-hand Riemann sum rule, the Trapezoid rule, and the Simpson 1/3 rule to compute the integral numerically using a range of step sizes $10^0 \\le \\Delta x \\le 10^{-8}$. (It will probably be easiest if you automate this last process by using a for loop to cycle through the various values of your step size; don't forget to rest your accumulator after each integral). Make a log--log plot of the error (magnitude of the difference between the analytic and numeric answers) vs. the step size $\\Delta x$. Ensure that the interval (0, 10) can be divided evenly into intervals of the step size you choose! Do the graphs look like you expect them to? How do you explain their behavior for large step sizes? For very small step sizes? How do you interpret their slopes?\n",
    "\n",
    "### Solution\n",
    "\n",
    "The first step, as usuall, is our library imports. `pyplot` is for plotting , and `numpy` is for heavy numerical computions."
   ]
  },
  {
   "cell_type": "code",
   "execution_count": 9,
   "metadata": {},
   "outputs": [],
   "source": [
    "import matplotlib.pyplot as plt\n",
    "import numpy as np"
   ]
  },
  {
   "cell_type": "markdown",
   "metadata": {},
   "source": [
    "The next step is to evaluate the integral analytically so we have an exact solution to compare to. I am lazy, so I will use `sympy` to perform the integral."
   ]
  },
  {
   "cell_type": "code",
   "execution_count": 10,
   "metadata": {},
   "outputs": [
    {
     "data": {
      "text/plain": [
       "-cos(10) + 1"
      ]
     },
     "execution_count": 10,
     "metadata": {},
     "output_type": "execute_result"
    }
   ],
   "source": [
    "from sympy import Symbol, integrate, evalf\n",
    "\n",
    "x = Symbol('x')\n",
    "\n",
    "integrate('sin(x)', (x, 0, 10))"
   ]
  },
  {
   "cell_type": "markdown",
   "metadata": {},
   "source": [
    "Now we can use `evalf()` again from `SymPy` to evalute:\n",
    "\n",
    "$$\n",
    "    -\\cos(10) + 1\n",
    "$$\n",
    "\n",
    "to an *accuracy of 1000 decimal places...* Note the following statement performed the integral analytically, then approximates the solution function above (the way any standard calculator would) but with optional precision."
   ]
  },
  {
   "cell_type": "code",
   "execution_count": 11,
   "metadata": {},
   "outputs": [
    {
     "data": {
      "text/plain": [
       "1.839071529076452452258863947824064834519930165133168546835953731048792586866270768400933712760422138927451054405350243623698423379879577519696186361385990162405761991820064001009665509654690410482844596668980386754716971171010520826921307324183412567072265618301100931356149209028142233252908147897125879634134601060579714780896940046110100624727132542261844576459416993482406301608812959379424111444870651749203255639087227862266296127943799036902963093607956076908003978087974155906635485944198520314167806689493577702882917753444256505960829347642513290199138135090495631210224781180414956312562883324766209229755398393080630315773289355370930553917653356517998546604404668830132713338128962471015499737682184867622135396968733045264280685105584031377193719369641097712472741782261006134944062572948504091850569504743925855887881669875193025794551488834652344526419056696442741503141341546949744028283330123126093062554831022578023183053724844408424337274287094615447703346343860541826000392600251"
      ]
     },
     "execution_count": 11,
     "metadata": {},
     "output_type": "execute_result"
    }
   ],
   "source": [
    "soln = (integrate('sin(x)', (x, 0, 10))).evalf(n=1000)\n",
    "soln"
   ]
  },
  {
   "cell_type": "markdown",
   "metadata": {},
   "source": [
    "Now we can start fleshing out a `integrate` function of our own. A lot of the code for \"right-hand\", \"trapezoid\", and \"Simpson's\" gets repeated, so I will stuff this all in one function with a `method=` argument."
   ]
  },
  {
   "cell_type": "code",
   "execution_count": 12,
   "metadata": {},
   "outputs": [],
   "source": [
    "import sys\n",
    "\n",
    "def integrate(func, start, stop, step, method='trap'):\n",
    "    ''' Return the numerical integration of func from start to stop. \n",
    "    \n",
    "        Performs:\n",
    "        \n",
    "                      I = int^a_b func(x) dx\n",
    "    \n",
    "        Args:\n",
    "            \n",
    "            func (function):    function\n",
    "            start (float):      a bound\n",
    "            stop (float):       b bound\n",
    "            step (float):       dx\n",
    "            \n",
    "            method (string): \n",
    "            \n",
    "                'right':        right-hand Riemann sum\n",
    "                'left':         left-hand Riemann sum\n",
    "                'trap':         trapezoidal sum\n",
    "                'simp':         Simpson's 1/3 rule\n",
    "                \n",
    "        Returns:\n",
    "        \n",
    "            float:              I.\n",
    "    '''\n",
    "    \n",
    "    assert (stop > start), \"Stop must be larger than start.\"\n",
    "    assert method in ['left', 'right', 'trap', 'simp']\n",
    "\n",
    "    if method == 'left':\n",
    "        x = np.arange(start, stop, step)\n",
    "        return (func(x) * step).sum()\n",
    "        \n",
    "    elif method == 'right':\n",
    "        x = np.arange(start + step, stop + step, step)\n",
    "        return (func(x) * step).sum()\n",
    "    \n",
    "    elif method == 'trap':\n",
    "        x = np.arange(start, stop + step, step)\n",
    "        y = func(x)\n",
    "        \n",
    "        return (step * (0.5 * (y[:-1] + y[1:]))).sum()\n",
    "        \n",
    "    elif method == 'simp':\n",
    "        x = np.arange(start, stop + step, step)\n",
    "        y = func(x)\n",
    "        \n",
    "        y_left  = y[:-1]\n",
    "        y_right = y[1:]\n",
    "        \n",
    "        x_mid = 0.5 * (x[:-1] + x[1:])\n",
    "        y_mid = func(x_mid)\n",
    "        \n",
    "        return (y_left + 4.0 * y_mid + y_right).sum() * (step / 6.0)"
   ]
  },
  {
   "cell_type": "markdown",
   "metadata": {},
   "source": [
    "Now let's test out all three versions to make sure things are working as we'd expect."
   ]
  },
  {
   "cell_type": "code",
   "execution_count": 5,
   "metadata": {},
   "outputs": [
    {
     "name": "stdout",
     "output_type": "stream",
     "text": [
      "1.8390715562775095\n",
      "1.8390715562775095\n",
      "1.8390715562775095\n",
      "1.8390715562775095\n",
      "1 loop, best of 3: 2.79 s per loop\n",
      "1.8390715018753934\n",
      "1.8390715018753934\n",
      "1.8390715018753934\n",
      "1.8390715018753934\n",
      "1 loop, best of 3: 2.9 s per loop\n",
      "1.8390715290764523\n",
      "1.8390715290764523\n",
      "1.8390715290764523\n",
      "1.8390715290764523\n",
      "1 loop, best of 3: 3.4 s per loop\n",
      "1.8390715290764494\n",
      "1.8390715290764494\n",
      "1.8390715290764494\n",
      "1.8390715290764494\n",
      "1 loop, best of 3: 5.95 s per loop\n"
     ]
    }
   ],
   "source": [
    "func = lambda x: np.sin(x)\n",
    "\n",
    "%timeit print(integrate(func, start=0, stop=10, step=10e-8, method='left'))\n",
    "%timeit print(integrate(func, start=0, stop=10, step=10e-8, method='right'))\n",
    "%timeit print(integrate(func, start=0, stop=10, step=10e-8, method='trap'))\n",
    "%timeit print(integrate(func, start=0, stop=10, step=10e-8, method='simp'))"
   ]
  },
  {
   "cell_type": "markdown",
   "metadata": {},
   "source": [
    "Now we need a relative error function."
   ]
  },
  {
   "cell_type": "code",
   "execution_count": 13,
   "metadata": {},
   "outputs": [],
   "source": [
    "def relative_error(numerical, exact):\n",
    "    ''' Return relative error given numerical and exact solutions. '''\n",
    "    \n",
    "    return abs(numerical - exact) * 100 / exact"
   ]
  },
  {
   "cell_type": "markdown",
   "metadata": {},
   "source": [
    "Now let's create our plots."
   ]
  },
  {
   "cell_type": "code",
   "execution_count": 7,
   "metadata": {},
   "outputs": [
    {
     "data": {
      "text/plain": [
       "(10, 1e-07)"
      ]
     },
     "execution_count": 7,
     "metadata": {},
     "output_type": "execute_result"
    },
    {
     "data": {
      "image/png": "[encoded data removed]",
      "text/plain": [
       "<matplotlib.figure.Figure at 0x7f0995058310>"
      ]
     },
     "metadata": {},
     "output_type": "display_data"
    }
   ],
   "source": [
    "func = lambda x: np.sin(x)\n",
    "\n",
    "dx = np.logspace(start=1, stop=-7, num=9)\n",
    "plt.loglog(dx, [relative_error(integrate(func, 0, 10, i, method='left'),  soln) for i in dx], label='left')\n",
    "plt.loglog(dx, [relative_error(integrate(func, 0, 10, i, method='right'), soln) for i in dx], label='right')\n",
    "plt.loglog(dx, [relative_error(integrate(func, 0, 10, i, method='trap'),  soln) for i in dx], label='trapezoidal')\n",
    "plt.loglog(dx, [relative_error(integrate(func, 0, 10, i, method='simp'),  soln) for i in dx], label='simpsons')\n",
    "    \n",
    "plt.title('Relative Error of Numerical Integration Methods')    \n",
    "plt.xlabel('dx')\n",
    "plt.ylabel('Relative Error (%)')\n",
    "plt.legend()\n",
    "\n",
    "plt.grid(linestyle=':', which='both') \n",
    "plt.tick_params(which='both', direction='in')\n",
    "plt.xlim([10, 10e-8])    "
   ]
  },
  {
   "cell_type": "markdown",
   "metadata": {},
   "source": [
    "The first thing I notice is that the `left` and `right` integration methods are produced essentially the same performance. Further, for the same number of function executions, `trapezoidal` produces far more precice results. The `simpsons` version is even better--even though it has *double* the executions its timestep would suggest. It still more than makes up for this extra step with a faster converging error.\n",
    "\n",
    "The next major feature is that the error for Simpson's decrease to about $10^{-12}$ %, and then starts increasing again. I suspect this is the point where **roundoff** error dominates, and that the other methods would face a similar issue onces they reach similarly accurate results."
   ]
  }
 ],
 "metadata": {
  "kernelspec": {
   "display_name": "Python 2",
   "language": "python",
   "name": "python2"
  },
  "language_info": {
   "codemirror_mode": {
    "name": "ipython",
    "version": 2
   },
   "file_extension": ".py",
   "mimetype": "text/x-python",
   "name": "python",
   "nbconvert_exporter": "python",
   "pygments_lexer": "ipython2",
   "version": "2.7.14"
  }
 },
 "nbformat": 4,
 "nbformat_minor": 2
}
