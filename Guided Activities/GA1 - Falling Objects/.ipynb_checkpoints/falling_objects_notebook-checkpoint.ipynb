{
 "cells": [
  {
   "cell_type": "markdown",
   "metadata": {},
   "source": [
    "## Falling Objects Notebook\n",
    "\n",
<<<<<<< HEAD
    "The real meat of this implmentation is not here. A detailed explanation of the code can be found in the assignment report, and the bulk of the python code is in `falling objects.py`. This notebook is simply executable access to the results"
=======
    "**The real meat of this implmentation is not here**. A detailed explanation of the code can be found in the assignment report, and the bulk of the python code is in `falling objects.py`. This notebook is simply executable access to the results. Again, **the details and explanations are in the submitted report.**"
>>>>>>> 02cf6d1db458f09ce34aa9a3418de961e0583c7e
   ]
  },
  {
   "cell_type": "markdown",
   "metadata": {},
   "source": [
    "### Exercise 1: Computational Model of a Falling Sphere with Air Resistance\n",
    "\n",
    "Produce a working compuational model in MATLAB (or OCTAVE, or in another programming language of your choice) of a sphere that has been dropped from rest from a very tall building using the simple Eurler method. Assume that the sphere will move entirely in one dimension, and that it is csubect to the contastant gravitational force nera Earth's surface and to a drag force proportional to the square of the sphere's instantaneous speed."
   ]
  },
  {
   "cell_type": "code",
   "execution_count": 1,
<<<<<<< HEAD
   "metadata": {},
=======
   "metadata": {
    "collapsed": true
   },
>>>>>>> 02cf6d1db458f09ce34aa9a3418de961e0583c7e
   "outputs": [],
   "source": [
    "from falling_objects import *\n",
    "import numpy as np\n",
    "\n",
    "mass = 8\n",
    "radius = 0.012\n",
    "area = np.pi * radius**2\n",
    "h = 440\n",
    "dt = 0.01\n",
    "    \n",
    "t_num, x_num, v_num, a_num = euler_projectile(mass=mass, \n",
    "                                       area=area, x0=h, dt=dt)"
   ]
  },
  {
<<<<<<< HEAD
=======
   "cell_type": "markdown",
   "metadata": {},
   "source": [
    "### Exercise 2: Accuracy of Computational Model: Velocity v. Time\n",
    "\n",
    "Since the computational model is based on an approximation, it is important to determine just how small $\\Delta t$ should be for the approximation to accurately solve the 1-D air resistance problem. Make a comparison between the time dependence of the velocity predicted by the computational model, and that predicted by the exact result,\n",
    "\n",
    "$$\n",
    "    v_x(t)=\\sqrt{\\frac{2mg}{D\\rho A}} \\tanh \\left(\\sqrt{\\frac{D\\rho A g}{2m}}t\\right)\n",
    "$$\n",
    "\n",
    "Use parameters that describe a 16-pound bowling ball (you should look up the diameter, and convert to meters), and let it fall a distance equivalent to the height of the Sears, oops - Willis, tower (440 m). Assume the ball is initially at rest. Use a value of 0.5 for the drag coefficient, and the density of air near sea level. What value of ∆t do you deem to be sufficiently small for the computational model to be accurate? Explain how you arrived at this value of ∆t "
   ]
  },
  {
>>>>>>> 02cf6d1db458f09ce34aa9a3418de961e0583c7e
   "cell_type": "code",
   "execution_count": 9,
   "metadata": {},
   "outputs": [
    {
     "name": "stdout",
     "output_type": "stream",
     "text": [
      "At a timestep of 1.000 (s), the worst-case velocity error was 0.079 (m/s) and position error 48.548498 (m)\n",
      "At a timestep of 0.100 (s), the worst-case velocity error was 0.008 (m/s) and position error 4.659118 (m)\n",
      "At a timestep of 0.010 (s), the worst-case velocity error was 0.001 (m/s) and position error 0.460626 (m)\n",
      "At a timestep of 0.001 (s), the worst-case velocity error was 0.000 (m/s) and position error 0.046043 (m)\n"
     ]
    }
   ],
   "source": [
    "for dt in [1, 0.1, 0.01, 0.001]:   \n",
    "    t_num, x_num, v_num, a_num = euler_projectile(mass=mass, area=area, x0=h, dt=dt)\n",
    "    t_ext, x_ext, v_ext, a_ext = exact_projectile(times=t_num, mass=mass, area=area, x0=h)\n",
    "    \n",
    "    x_abs_error = max(absolute_error(x_num, x_ext))\n",
    "    v_abs_error = max(absolute_error(v_num, v_ext))\n",
    "    \n",
    "    print('At a timestep of {:.3f} (s), the worst-case velocity error was {:.3f} (m/s) and position error {:3f} (m)'.format(dt, v_abs_error, x_abs_error))"
   ]
  },
  {
<<<<<<< HEAD
=======
   "cell_type": "markdown",
   "metadata": {},
   "source": [
    "### Exercise 3: Accuracy of Computational Model: Position vs. Time \n",
    "\n",
    "Carry out the same comparison (computational vs. exact analytical solution) for the bowling ball’s position as a function of time. The exact result for the ball’s position is given by\n",
    "\n",
    "$$x(t) = \\frac{2m}{D\\rho A} \\ln \\left[ \\cosh \\left( \\sqrt{\\frac{D \\rho A g}{2m} \\right) t \\right] $$\n",
    "\n",
    "Assume the bowling ball is falling the same distance of 440 m. Do you findthe same value of ∆t, as found for the velocity comparison of Exercise 2, to be acceptable for the position comparison?"
   ]
  },
  {
   "cell_type": "markdown",
   "metadata": {},
   "source": [
    "### Exercise 4: Position and Velocity of Dropped Bowling Ball\n",
    "\n",
    "Produce plots of the bowling ball’s velocity and vertical position as functions of time from the results of the computational model, using the parameters from the previous ex-\n",
    "ercises and the value of ∆t (determined in Exercises 2 and 3) that produces a tolerably accurate computational solution. Has the bowling ball reached its teminal velocity by the time it hits the ground? Use your model to predict the time required for the bowling ball to fall the full 440 meters to the ground. "
   ]
  },
  {
>>>>>>> 02cf6d1db458f09ce34aa9a3418de961e0583c7e
   "cell_type": "code",
   "execution_count": 6,
   "metadata": {},
   "outputs": [
    {
     "data": {
      "image/png": "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\n",
      "text/plain": [
       "<matplotlib.figure.Figure at 0x33436f0>"
      ]
     },
     "metadata": {},
     "output_type": "display_data"
    }
   ],
   "source": [
    "from falling_objects import *\n",
    "import matplotlib.pyplot as plt\n",
    "import numpy as np\n",
    "\n",
    "radius = 0.012\n",
    "area = np.pi * radius**2\n",
    "\n",
    "h = 440\n",
    "mass = 8\n",
    "\n",
    "t_num, x_num, v_num, a_num = euler_projectile(mass, area, h, dt=0.001)\n",
    "t_ext, x_ext, v_ext, a_ext = exact_projectile(t_num, mass, area, h)\n",
    "\n",
    "kinematics_plots(t_num, x_num, v_num, a_num, xe=x_ext, ve=v_ext, ae=a_ext)"
   ]
  },
  {
   "cell_type": "code",
   "execution_count": 7,
   "metadata": {},
   "outputs": [
    {
     "data": {
      "text/plain": [
       "752.50796340177533"
      ]
     },
     "execution_count": 7,
     "metadata": {},
     "output_type": "execute_result"
    }
   ],
   "source": [
    "terminal_speed = terminal_velocity(area=area, mass=mass, rho=1.225, g=9.80665, D=0.5)\n",
    "terminal_speed"
   ]
  },
  {
   "cell_type": "code",
   "execution_count": 9,
   "metadata": {},
   "outputs": [
    {
     "data": {
      "text/plain": [
       "92.554954955536331"
      ]
     },
     "execution_count": 9,
     "metadata": {},
     "output_type": "execute_result"
    }
   ],
   "source": [
    "max_speed = max(np.abs(v_num))\n",
    "max_speed"
   ]
  },
  {
   "cell_type": "code",
   "execution_count": 11,
   "metadata": {},
   "outputs": [
    {
     "data": {
      "text/plain": [
       "12.299531627164967"
      ]
     },
     "execution_count": 11,
     "metadata": {},
     "output_type": "execute_result"
    }
   ],
   "source": [
    "percent_of_terminal = (max_speed / terminal_speed) * 100\n",
    "percent_of_terminal"
   ]
  },
  {
<<<<<<< HEAD
=======
   "cell_type": "markdown",
   "metadata": {},
   "source": [
    "### Exercise 5: Position and Velocity of a Dropped Mystery Sphere \n",
    "\n",
    "Repeat Exercise 4 for a different sphere (of your choice). How long does it take to travel the 440 meters to the ground, and has it reached its terminal velocity upon impact?"
   ]
  },
  {
>>>>>>> 02cf6d1db458f09ce34aa9a3418de961e0583c7e
   "cell_type": "code",
   "execution_count": 14,
   "metadata": {},
   "outputs": [
    {
     "data": {
      "image/png": "iVBORw0KGgoAAAANSUhEUgAAAYgAAAEGCAYAAAB/+QKOAAAABHNCSVQICAgIfAhkiAAAAAlwSFlzAAALEgAACxIB0t1+/AAAADl0RVh0U29mdHdhcmUAbWF0cGxvdGxpYiB2ZXJzaW9uIDIuMS4xLCBodHRwOi8vbWF0cGxvdGxpYi5vcmcvAOZPmwAAIABJREFUeJzsnXt8VOW5qJ83IYRwvyTcLwnXEEgmJCAIKCoKCFU8Wqtu29Nuu9tqe/bR9nTX2stui7u72m4O29O667bW1m7d3uoFLwgKIgoIkoSEISEQIiEQQi4QCIGQZDLv+WMm0wQGyMysZGayvuf3W7+ZWbPWt96HL+TNt9Z3EVXFYDAYDIYLiQl3AAaDwWCITEyCMBgMBoNfTIIwGAwGg19MgjAYDAaDX0yCMBgMBoNfTIIwGAwGg196hTsAq0hMTNTk5OSgzm1paSEuLs7agKIE424/d7t6g3H3556bm1urqkn+zukxCSI5OZmcnJxwh2EwGAxRhYgcvtR3PSZBBEtGRgZFRUXExsYSGxtLTEzMJbf238fFxdG7d2969+5NfHx8h9dLve/bty/9+vXzvbZtF35uv6+r/9rJy8sjKyurS68RqdjV3a7eYNwDdZdQRlKLSD/gvKq2Bl2IRcyePVuDaUE88cQTVFVVoaq43W7cbjetra2+9/621tZWXC4XTU1NNDc3X/L1wn3nzp3D5XIFFF9CQgKDBg3qsA0ePPiife2/Gzp0KMOGDWPYsGH06dPnsuW73W5iYuz5KMqu7nb1BuPuz11EclV1tr9zAmpBiEgMcDdwLzAHaALiRaQGWAc8raolnSwrFsgBKlT1CyKSArwEDAXygK+oarOIxAN/AbKBE8BdqloWSNyX48EHH6SoqIi0tDSrirwszc3NnD17lrNnz3Lu3Dnfe3/7GhoaqK+v5/Tp0x22I0eOcPr0aU6dOkVjY+Nlr9evXz8SExMZNmyY39fGxkYyMzNJSkpi5MiRJCYmEhsb2y3/FuGmuLi42+o9krCrNxj3QN0DvcW0GdgIPALsVVU3gIgMBa4HHhORN1T1+U6U9SCwDxjo/fw4sEZVXxKRp4CvA7/3vtap6mQRudt73F0Bxn1ZUlJSrCzusrTddhoyZIgl5bW0tFyUQE6ePEltbS0nTpy46LW0tJQTJ05w6tQpv+XFxMQwfPhwRo4cecVt4MCBiIglHuGgO+s9krCrNxj3QAnoFpOIxKlqiwXHjAWeA34JfA+4BagBRqqqS0SuBn6uqktFZIP3/aci0gs4DiTpBYEHe4sJoLS0lEmTJgV1brTicrk4efIkeXl59O3bl5qaGo4fP37Jzd+tsYSEBMaOHevbxo0bd9HnYcOGRWwSsWO9g329wbj7c7fsFlP7X/yXSgRXSg5e/h34ATDA+3kYcEpV234LHQXGeN+PAY54y3aJyGnv8bWBxH45hg4dalVRUUOvXr0YPnw4c+fOvWJrxu12U1dX50sWVVVVHD9+nIqKCioqKjhy5AhbtmyhoqKC1taOj6Pi4+M7JIxx48aRnJxMcnIyKSkpjB8/nvj4+K5UvSR2rHewrzcY90AJ6mmNiDwDVInIERHZKSJ/EJF/7OS5XwCqVTW3/W4/h2onvvNRWVlJZmYmDocDh8PBmjVrKC0tpbGxkaKiItxuN3l5eQDk5nounZeXh9vt5sCBAzQ2NlJaWkpdXR0VFRVUVlZSW1tLWVkZDQ0NFBcX43K5KCgo6FBG26vT6aSpqYmSkhLq6+spLy+nurqa6upqysvLqa+vp6SkhKamJpxOp98yCgoKcLlcFBcX09DQQFlZGbW1tVRWVlJRUUFdXV2nnYqKijrldObMmSs6lZaWEhcXx4ABA0hPT+fGG2/ki1/8Ij/72c949NFH+fDDD3nnnXdoampi/fr17Ny5k1//+tc88cQT3H333cyZM4eGhgY++eQTfvOb3/Ctb32LpUuXMnXqVBISEhg5ciQLFizg1ltv5ac//Sk/+9nP2Lx5M2+99RYulytgp87WU21tbdTUk5U/e+fOnetxTp2tp6qqqh7n1Nl62rt3r1+nyxFULyYR2Q/MVNUWERkDOIAMVX2sE+f+CvgK4AL64HkG8QawlDDdYqqsrGTUqFFBnRvtdLd7a2srx44d49ChQ5SVlV30euTIEdxut+/42NhYxo0bx+TJk5kyZYrvdcqUKUycOJHevXsHHYtd692u3mDc/blbdoupHTuAIXhaAhVABZ5eTFdEVR/B85AbEbkO+L6q3isirwJfxNOT6avAWu8pb3k/f+r9/sMLk0Oo2HVkJXS/e9sv/HHjxnHttdde9H1LSwtHjx7l0KFDvqTx+eefc/DgQV566SXq6up8x8bExDBhwoQOSaNtS05OvmLysGu929UbjHugBJsgnga2iMgfgZ3AHlU9HWRZbTwMvCQi/wLsBv7o3f9H4L9E5CBwEk83W0tpaGggMTHR6mKjgkhzj4uLIyUl5ZI9Lk6cOEFJSQklJSUcPHjQ9/6FF17g9Om//QjGxsYyceJEpk+fTlpaGtOnT2f69OmkpqYyYIDn0VekuXcXdvUG4x6oe7C3mA7hGZvQiPf2EtBHVcPWPSCUW0wNDQ3079/f4oiig57irqrU1tb6EkZJSQnFxcUUFRVRUlLSoRfWuHHjmD59OpMnTyYjI8OXPJKS/E5H0+PoKXUeDMb9YveuuMV0VFV/dsFFwtMVxQKOHj1KampquMMICz3FXURISkoiKSmJ+fPnd/iupaWF0tJS9u3bx759+ygqKmLfvn188sknHR7SJSYmkpaWRnp6OhkZGaSnpzNz5kxfi6On0FPqPBiMe2DuwbYgfgscVNUnAj65iwilBeFyuejVy57TUtnZvbm5mcrKyg5Jo7CwEKfTSUNDg++4lJQUX8Joe508eXLU/rvZuc6N+8XuXdGCGAHcKCIP45kWowDIV9VXgywvrBQWFuJwOMIdRliws/u+fftwOBxMmDCBZcuW+fa73W4OHz6M0+nE6XSyZ88enE4nb7/9tq+HVZ8+fUhLS/MljMzMTGbNmmXZCPmuxM51btwDcw91sr54YAaQDqSr6veDLixEQmlBGAyd4fz58+zbt8+XMNqSx/Hjx33HpKSkkJWVxaxZs8jKyiIrK4sRI0aEMWqD4fJcrgUR6FQbcqUupp05pisIJUHk5uaSnZ1tcUTRgXEP3b2mpob8/Hzy8vJ828GDB33fjxo1ypcs2pLH+PHjwzYFialz494eKxPER8BrwFpVLW+3vzewEM94hc2q+ueAIrcA04IwRBKnT5+moKCgQ9LYt2+f7xbV0KFDycrK4qqrrvJtdh3AZQgvViaIPsB9eKb7TgFO4RkNHQu8DzypqvkhRxwEpgURHMa9+9zPnTuH0+n0JYycnBycTqdv/qqxY8d2SBjZ2dkMHDjwCqUGjqlz494eyxLEBYXGAYlAo6r6nzu6GzEtCEM0cu7cOXbv3s2uXbv47LPP+OyzzygtLQU8XXenT5/eIWmkp6eHNL2IwXAhXZIgIo1QEoTT6SQ9Pd3iiKID4x557rW1teTk5PgSxmeffUZNTQ3gmR03KyuLBQsWMH/+fObPnx/wQ/BI9e4OjPvF7iZBXIGmpqawTTkdbox75LurKocPH+azzz5j586d7Nixg5ycHJqbmwGYNGmSL1nMnz+fGTNmXHZVwGjx7gqM+8XuJkFcgZKSEqZMmWJxRNGBcY9O96amJvLy8ti2bRvbt29n27ZtVFdXAzBw4EDmzZvH/PnzWbBgAXPnzu0wGjyavUPFuF/s3hUD5XoUdu6nbtyjk/j4eK6++mquvvpqwNPKOHTokC9hbN++nV/84heoKjExMaSnp7Nw4UIWLVpEZmZmmKMPH9Fc56ESjHuwU23EA3cAybRLMqq6KuDCLCKUFkR5eTnjx4+3OKLowLj3XPfTp0+zc+dOXwvj008/5ezZswBMmzaNa6+9lmuvvZZFixYxbty4MEfbPfT0Or8cl3LvihbEWuA0kAs0BVlGxNCnT59whxA2jHvPZdCgQSxZsoQlS5YAnkkL8/LyWLduHbm5ubzyyiv84Q9/ACA5OZlFixb5EsbEiRMjdi3xUOjpdX45gnEPNkGMVdVlVz7MYDBECnFxccydO5eUlBSGDx9Oa2sre/bs4eOPP2bLli288847PPfccwCMGTPG18K4/vrrmTp1ao9MGIbLE2yC2C4i6arqtDSaMHH+/PlwhxA2jLv9aPOOjY1l1qxZzJo1iwcffBC3282+fft8CWPz5s28+OKLgCdh3HDDDSxevJjFixczduzYcCoEjV3rHIJzD/YZRBEwGTiE5xaTAKqqGQEXZhGhPIOor6/vkhGr0YBxt597Z71VlZKSEjZv3symTZv48MMPOXHiBABTpkzxJYvrrrsualZps2udw6Xdu+IZxM1BnheRVFVV2faHxrjbz72z3iLC1KlTmTp1Kt/61rdwu904nU42bdrEpk2beP7553nqqacQERwOhy9hXHPNNRG7aptd6xyCcw9lqg0HcI334yeqWtDJ88bhWa50JOAGnlbVJ0RkKPAynp5RZcCXVLVOPDc+nwCWA+eAr6lq3oXlmoFywWHc7edulXdLSwu7du3iww8/ZNOmTWzfvp3m5mZ69erF3LlzufHGG1m6dClXXXXVZQfudSd2rXMIbqBcTDAXEpEHgReA4d7teRH5x06e7gL+j6pOB+YB3xGRNOCHwCZVnQJs8n4GT2tlinf7JvD7YGK+HAcOHLC6yKjBuNsPq7zj4uKYP38+P/nJT9i8eTN1dXV88MEHfP/736e5uZlVq1Yxf/58EhMTufPOO3nmmWc4cuSIJdcOFrvWOQTnHuwziD3A1ap61vu5H/BpMM8gRGQt8Dvvdp2qVorIKOAjVZ0mIv/pff+i9/j9bce1L8dM1mcwRBYnTpxg48aNvP/++2zYsIGKigoApk+fzpIlS1i6dCmLFi2ib9++YY7U3ljegsDzULq13edW775AA0sGZgE7gRFtv/S9r8O9h40B2v/ZcdS7rwOVlZVkZmbicDhwOBysWbOG0tJSGhsbKSoqwu12k5fnuTOVm5sLQF5eHm63mw8//JDGxkZKS0upq6ujoqKCyspKamtrKSsro6GhgeLiYlwuFwUFBR3KaHt1Op00NTVRUlJCfX095eXlVFdXU11dTXl5OfX19ZSUlNDU1ITT6fRbRkFBAS6Xi+LiYhoaGigrK6O2tpbKykoqKiqoq6vrtFNRUVGnnHbt2tXjnDpbTzt27OhxTp2pp9zc3G5xOnXqFEuWLGHVqlV89tlnfPLJJ/z4xz9m9OjRPPXUUyxfvpwhQ4Zw00038dBDD+F0Omn7I6+rfva2b98eNfVk9c/eBx984NfpcgTbgvgensWB3sCTGG4D/qyqawIooz+wBfilqr4uIqdUdXC77+tUdYiIvAv8SlW3evdvAn6gqrntyzMtCIMhemhsbOSTTz5hw4YNbNiwgcLCQsCz+t6yZctYvnw5S5Ysse0D5e7E8haEqv5f4O+BE97tqwEmhzg8K9O9oKqve3dXeW8t4X2t9u4/CrSfB2AscCyYuC9FW3a2I8bdfkSCd0JCAkuWLGH16tXs3buXI0eO8Oyzz3LttdfyxhtvcOeddzJs2DBuuOEGVq9eTXFxMVZMLBoJ7uEiGPdAV5TbqqoLReQMoHS8raSqesV07+2V9BxwUlUfarf/N8AJVX1MRH4IDFXVH4jICuB/4enFNBf4f6p61YXlmhaEwdAzcLlcfPrpp7z77ru8++677N27F4CJEyeyYsUKVqxYwaJFi2w9bYaVXK4Fgap264Zn7WoF9gD53m05MAxP76US7+tQ7/ECPAmUAk5gtr9ys7OzNVjy8/ODPjfaMe72I9q8y8rK9D/+4z90xYoVmpCQoID27dtXb731Vv3P//xPPXLkSKfLijZ3K7mUO5Cjl/h9HewziMdV9eEr7etOQmlBuFwuevWy58znxt1+7tHs3djYyObNm32ti8OHDwOQkZHBihUrWLlyJXPmzCEmxv/d82h2D5VLuXdFL6ab/OyL2tHVBw8eDHcIYcO4249o9k5ISGD58uU8+eSTHDp0iL179/L4448zZMgQfv3rXzNv3jzGjh3Lt771LdatW3fR/EPR7B4qwbgH+gziAeDbwEQ8t3zaGABsU9UvBxyBRYTSgmhoaIjYqQG6GuNuP/ee6n3y5EnWrVvH2rVrWb9+PQ0NDfTr149ly5axcuVKVqxYQe/evXuke2e4VL1btuSoiAwChgC/4m8jnQHOqOrJwMK1llASRFlZGcnJydYGFCUY9+Rwh9Ht2MG7qamJDz/8kLVr1/LWW29RWVlJbGwsc+bM4a677mLlypWkpKSEO8xu5VL1btakvgK1tbVRMxul1Rh3+7nbzdvtdpOTk8PatWt5/fXXKS4uBiA9PZ2VK1eycuVKsrOze/x6F5eqd8ueQYhI22C1MyJS793OtH0OKuoIoKWlJdwhhA3jbj/s5h0TE8NVV13FL3/5Sz788EMOHjzI6tWrGTJkCP/6r//KnDlzmDBhAg899BBbt27F7XaHO+QuIZh6DyhBqOpC7+sAVR3o3Qa0fQ746hFCT/2B6AzG3X7Y1Rs87pMmTeJ73/seW7Zsoaqqij/96U9kZmby1FNPcc011zBmzBi+/e1vs2nTJlwuV7hDtoxg6j3Y2VzvFJEB3vc/EZHXRWRWMGVFAnaeLMy42w+7esPF7omJiXzta1/jrbfeoqamhhdffJGFCxfy3HPPceONNzJy5Ei+/vWvs27dOpqbm8MUtTUEU+/BdnP9qaqeEZGFwFI8I6OfCrKssHPyZFifr4cV424/7OoNl3cfMGAAd999N6+++io1NTW8/vrrLFu2jL/+9a+sWLGCpKQkvvzlL/Pmm29ecZK7SCSYeg92oNxuVZ0lIr8CnKr63237Ai7MIkJ5SN3Y2EhCQoLFEUUHxt1+7nb1huDcm5qa2LhxI6+99hpr167l5MmT9OvXj+XLl3PHHXewYsWKqOg6eyn3rhgoV+Fdp+FLwDoRiQ+hrLBz6NChcIcQNoy7/bCrNwTnHh8fz4oVK3j22Wc5fvw4H3zwAV/5ylf4+OOPufvuuxk+fDhf+tKXeO211yK6ZRGMe7AtiL7AMjythxLv7Kvpqvp+wIVZRCgtCLfbfcmh+T0d424/d7t6g7Xura2tbNu2jZdffpm//vWvVFdX079/f2699Vbuuusuli5dGlHLm17KvSum+z6HZyT1UhH5X8DwcCaHUMnPzw93CGHDuNsPu3qDte6xsbFce+21PPnkk1RUVLBx40buuece1q9fz8qVKxkxYgRf+9rXeO+99yKia3Ew7sG2IB4EvgG0reXwP4CnVfW3ARdmEWa6b4PBEAm0tLSwadMmXn75Zd544w1Onz7N0KFDuf3227nrrru47rrrImrCwK54BvF1YK6q/rOq/jMwD0/CiErMIiL2xK7udvWG7nGPi4tj2bJl/OlPf6Kqqoq1a9eybNkyXnrpJW666SbfOIuPP/64W8ekdPmCQb6TRJzAHFU97/3cB9ilqukBF2YRpgVhMBgimcbGRtatW8fLL7/MO++8Q2NjI+PGjeOee+7h3nvvJSMjIyxxdUUL4k/AThH5uYj8HNgB/DHIssJO26LedsS42w+7ekN43RMSErjjjjt45ZVXqK6u5oUXXiA9PZ3Vq1fjcDhIT0/nscceo7y8vEuuH4x70JP1iUgWntXhBPhYVXcHVZBFmF5MwWHc7eduV2+ITPeamhpeeeUVXnjhBT799FMArrnmGu69917uvPNOhg4dasl1urwXk4j0EZGHROR3wBzgP1T1ie5IDiKyTET2i8hB75rVltE2u6MdMe72w67eEJnuSUlJfOc732H79u2Ulpby6KOPUlNTw/3338/IkSO57bbbePXVV0MeYxGMe6DrQbwMtACf4FlBrkxVHwr4qgEiIrHAATwr2R0FdgH3qGpR2zFmJHVwGHf7udvVG6LHXVXZvXs3L7zwAi+++CKVlZUMGDCAO+64g3vvvZfrr7+e2NjYgMrsjpHUaar6ZVX9T+CLwLUBnh8sVwEHVfVzVW0GXgJWWlX4sWPHrCoq6jDu9sOu3hA97iJCVlYWq1ev5siRI2zcuJEvfvGLvPbaa9x0002MGzeO73//++zZs6fTZQbjHmiC8I32UNXunAd3DHCk3eej3n2WYNU9vmjEuNsPu3pDdLrHxsayePFinn32Waqqqnj11VeZM2cOTzzxBA6HA4fDQVVV1RXLCcY90AThaL9QEJDRbtGgrlwwyN9STx3ujVVWVpKZmen7B1uzZg2lpaU0NjZSVFSE2+32PcVv6w+cl5eH2+3mjTfeoLGxkdLSUurq6qioqKCyspLa2lrKyspoaGiguLgYl8tFQUFBhzLaXp1OJ01NTZSUlFBfX095eTnV1dVUV1dTXl5OfX09JSUlNDU14XQ6/ZZRUFCAy+WiuLiYhoYGysrKqK2tpbKykoqKCurq6jrtVFRU1CmnP/zhDz3OqbP19Nxzz/U4p87U09NPP93jnDpbT//1X/8V1U4HDhzgtttu4/HHH6ekpIRf/OIXTJgwgdbW1is6vf32236dLkdULDkqIlcDP1fVpd7PjwCo6q/ajgnlGYTD4fBVqt0w7vZzt6s3GHd/7l0xDqK72QVMEZEUEekN3A28ZVXhPX0t2sth3O2HXb3BuAd8TjS0IABEZDnw70As8Kyq/vKC72uAw0EWnwjUhhZh1GLc7YddvcG4+3OfoKpJ/k6ImgRhMBgMhu4lWm4xGQwGg6GbMQnCYDAYDH4xCcJgMBgMfjEJwmAwGAx+MQnCYDAYDH4xCcJgMBgMfjEJwmAwGAx+MQnCYDAYDH4xCcJgMBgMfgk4QYhIP+8CPgaDwWDowVwxQYhIjIj8nYi8KyLVQDFQKSKFIvIbEZnS9WF27ZKjBoPBYLiYK87FJCJbgI3AWmCvqrq9+4cC1wN/B7yhqs93WZCdWHI0MTFRk5OTgyq/paWFuLg4CyKNPoy7/dzt6g3G3Z97bm5u7aUm6+vViXJvVNWWC3eq6kngNeA1Eenqf3HfkqMAItK25KgvQSQnJxPMehA7duwgKSmJiRMn2noqYIPBYE9E5JKzYF/xFlNbchCRLSIy0Pv+fhF5yLs2A/4SiMV02ZKjX/3qV5k8eTKJiYksXbqUn/zkJ6xduzZq1q4NlbbVpuyIXd3t6g3GPVACeUg9WFXrRSQb+AYwBPhDwFcMji5bcvTFF1/kZz/7GbfeeitHjhzhscce47bbbmPMmDGMGjWKm266iX/+53/mmWeeobq6usctzzlz5swe59TZZR8nTpzY45w6U0+ZmZk9zqmz9TRu3Lge59TZenK73X6dLken14MQkRxgHrAa2Kaqr4hIzqWWqrOSrl5ytKioiLS0NADOnTtHfn4+u3btYteuXeTk5LB//37fsRMnTmTOnDm+LSsri/79+wcvF2bau9sNu7rb1RuMuz/3yy05GkiC+J/Aw0AfYKaqNopIsaqmhhBzZ6/dC89D6sVABZ6H1H+nqoVtx4SSIBobG0lISLjk96dPnyY3N9eXNHbt2kV5eTkAMTExTJ8+vUPSyMjIID4+PqhYupsrufdk7OpuV28w7v7cLUkQ3oL6A63e5DAZ+LGq/n2wAQfClZYcDSVBlJaWMmnSpIDOqaqqIicnp0PSqKmpASAuLg6Hw8GcOXOYPXs2c+bMIS0tjdjYyBs+Eox7T8Gu7nb1BuPuzz2kBOG9vbNDI3xt0lASRF1dHUOGDAnp+qpKeXl5h4SRm5tLfX09AH379iUrK6tDS2PSpElh7zllhXu0Yld3u3qDcffnHmqCeApPN9MDwHpgvaoeDz1cawklQVRUVDBmjCWdojrgdrs5cOBAh5bG7t27OX/+PABDhgzxtTDatq6I43J0lXs0YFd3u3qDcffnfrkEccVxEKp6v7eQVOBm4M8iMgjYjCdhbFPV1lACDzcxMV0zJVVMTAypqamkpqby5S9/GfAMViksLOzQ0nj88cdpbfX8E44aNapDwpg9ezbDhg3rkvjaYrQrdnW3qzcY90DpzEA5AFS1WERKVXWNiCTgGUV9J/B/gS7vydSVdOfIyri4ODIzM8nMzOQb3/gG4Hl41L7n1K5du3jrrbd857T1nGprbWRnZ1vWc8quo0rBvu529QbjHiidThAi8gxwu4icBY4Be4A9qvqPAV81wmhoaCAxMTFs109ISODqq6/m6quv9u27sOfUp59+yssvvwyAiFzUc8rhcATVcyrc7uHEru529QbjHqh7IN1c9+Pp3toiImMAB5Chqo8FHGkXEMoziIaGhqgYy1BdXX1Rz6nq6mrA89dBRkZGh6TRmZ5T0eLeFdjV3a7eYNz9uVs1DuI54J9UtTqkKLuIUBJEcXExqaldPpzDclSVI0eOdEgYOTk5AfWcilZ3K7Cru129wbj7c7cqQSwAngH+COzEc3vpdPDhWksoCcLlctGrV6fvtkU0brebkpKSDknDX8+ptucZs2bNYsKECWHvbhsOelK9B4JdvcG4+3O3KkEcAv4CNOK9vQT0UdWIGHUSSoIoKCjA4XBYHFHk4K/nlNPp9PWcGjlyZIdWxpw5c7q051Sk0NPr/VLY1RuMuz93qxLEJ6p6zQX74lW1KZhgrSaUBGFHGhsbKSgo6JA09u/fT9vPQ0pKykVzTg0YMCDMURsMBquxKkH8Fs+aDE9YGZxVhJIgcnNzyc7Otjii6KC9e319/UVzTh0+7Jkq3sqeU5GCXevdrt5g3P25W5UgXgHSgUFAHlAA5Kvqq0FHbCGmBdE1dKbnVPvR4Glpaba9x2swRCOWTdbnLSwemIEnWaSr6vdDDzF0TAsiOAJ1b+s51T5p5OTkcPq0p79CQkICmZmZZGdnM3v2bLKzs5k+fXpETlRo13q3qzcYd8tbECIiV5qorzPHdDWmBRE+3G43Bw8e9E1QmJOTw+7du2loaAA83W1nzZrVIWlMmzYtIpOGwWA3Qk0QH+FZe3qtqpa3298bWAh8Fdisqn+2KuBgCCVBOJ1O0tPTLY4oOugq99bWVg4cOOBLGLm5ueTl5XHu3DkA+vXrR1ZWVocfYbDTAAAgAElEQVSkMXXq1G6dK8eu9W5XbzDu/txDTRB9gPuAe4EU4BSeRYNigfeBJ1U1P7TQQyeUBNHU1BTVD1tDoTvdW1tbKS4u7pA0du/e7Vv2cMCAARcljcmTJ3dZ0rBrvdvVG4y7P3crFwyKAxKBRlU9FWygXUEoCaKkpIQpU6ZYHFF0EG53l8vFvn37OiSN/Px838C+gQMHkp2d3SFpWLWORrjdw4VdvcG4+3O39CF1pBJKgqivr2fgwIEWRxQdRKJ7S0sL+/btIycnx5c0CgoKaGryDLkZPHjwRUkjJSUl4KQRie7dgV29wbj7cw9pPQg7cOrUKdv+0ESie1v32YyMDO677z7gb6PB2yeNNWvW0NLSAvxtCpH2SeNKU4hEont3YFdvMO6BupsEAfTp0yfcIYSNaHFvv47GP/zDPwDQ3NzM3r17OySN1atX+5LGsGHDLkoa48aN8yWNaHG3Grt6g3EPlEDWg/hfwAuqWhfwVQyGLqB3795kZWWRlZXFN7/5TcDzIM7pdHZIGr/+9a9xuVwAJCUl+RLGpEmTWLx4MWPHjrXlZIUGw5UIpAUxEtglInnAs8CGcI99sIq2B6J2pKe5x8fH+2arbeP8+fPs2bOnQ9L41a9+5ZusMDEx0Zdo2npRBfNMI1roaXUeCMY9MALtxSTAEuDv8Swz+grwR1UtDfjKFmMeUgeHXd0bGxvZvn07+/fvJy8vj7y8PPbu3eu7PTVo0KAOSSMrK4spU6b0iMF9dq1zMO5d+pBaVVVEjgPHARcwBPiriHygqj8IIuaIoKqqyrY/NHZ1T0hIYPz48SxevNi3r6mpicLCQl/CyM3N5Xe/+52v91S/fv3IzMzskDSmT58edesc27XOwbgH6h7IZH3/G8+o6Vo8Cwe96V1+NAYoCfe6EGagXHAY98u7t7S0UFxc7EsaeXl57N69m7NnzwKeW1oZGRm+W1NZWVnMnDkzov9NTZ0b9/ZYNZvrKjy3kw77+W66qu4LMN725/8c+AZQ4931I1Vd5/3uEeDrQCvwv1V1g78yzFQbwWHcA3dvbW3l4MGDHZJGXl4ep055xo726tWLmTNndmhpZGRk0K9fP6sVgsLUuXFvj1UJ4nFVffhK+4LBmyAaVPXfLtifBrwIXAWMBjYCU1W19cIyzGR9hnCiqhw6dKhDwsjNzaW2thaAmJgYUlNTOySNzMxMBg0aFObIDXbHqgSRp6pZF+zbo6oZFgT4c/wniEcAVPVX3s8bgJ+r6qcXlmGm+w4O49517qpKRUXFRS2NiooK3zGTJ0/ucHtq1qxZXb7cq6lz496eUCfrewD4NjARaN9baQCwTVW/HHTEf7vGz4GvAfVADvB/VLVORH4H7FDV573H/RF4T1X/emEZpgVhiBaqqqouShplZWW+78ePH8+sWbPIzMz0vY4fP77Hdrs1hJfLJYjOTJP538AtwFve17YtO5DkICIbRWSvn20l8HtgEpAJVAKr207zU5TfjFZZWUlmZiYOhwOHw8GaNWsoLS2lsbGRoqIi3G43eXl5gCeTAuTl5eF2u/nwww9pbGyktLSUuro6KioqqKyspLa2lrKyMhoaGiguLsblclFQUNChjLZXp9NJU1MTJSUl1NfXU15eTnV1NdXV1ZSXl1NfX09JSYlvIJe/MgoKCnC5XBQXF9PQ0EBZWRm1tbVUVlZSUVFBXV1dp52Kioo65bRr164e59TZetqxY0dYnEaMGMGIESN45JFHePTRRykqKiInJ4c33niDH//4x8yaNYuioiJWrVrFbbfdRnJyMsOGDeOqq67ie9/7HqtWrcLpdLJz586g6ik3Nzeq6snKn73t27f3OKfO1tMHH3zg1+lyRNxkfSKSDLyjqjO76xaTwRCJnD17FqfTSX5+Prt37yY/P589e/b4BjzFx8czc+bMDi2NjIwMBgwYEObIDdFEqLeYtqrqQhE5Q8e/3gXP0IiQOxWLyChVrfS+/y4wV1XvFpEZeFowbQ+pNwFTrH5IXVBQgMPhCDr+aMa4R5e7y+XiwIEDHZLG7t27OXHiBAAiwuTJkzskjczMTEaNGuUrIxq9rcK4X+we8dN9i8h/4bm9pEAZ8K12CePHeBYscgEPqep7/soIJUG4XC569bLnvIXGPfrd2x6GX5g0Dh065DtmxIgRvqSRnp5OdnY2U6ZM6dYV/CKBnlLnwXAp94hPEFYQSoIoLi4mNTXV4oiiA+Pec91PnTpFQUEB+fn5vqRRWFjom7iwX79+ZGRkdGhppKen9+gZT3t6nV+OS7lb1c31OeDBtpXkRGQIsFpV7ws+ZOsIJUE0NDTQv39/iyOKDoy7vdybmprIycm56DbVmTNnAIiNjSU1NdWXNBwOBxkZGQwfPjzMkVuDHeu8jUu5WzUXU0b7ZUa93VBnBR5m5FFbW2vbHxrjbi/3+Ph4xowZw4IFC3z73G43hw4d6pAwNm/ezPPPP+87ZuTIkb5k0dZTcNq0aVE3D5Ud67yNYNwDSRAxIjKkbT0IERka4PkRi11/YMC425ELvWNiYpg0aRKTJk3ijjvu8O2vqalhz549FBQU+F6feOIJmpubAc96HGlpaR0SR0ZGBklJSd3qEwh2rXMIzj2QX/Crge0i0jZI7U7glwFfMQJpm+LZjhh3+9FZ76SkJBYvXtxhxtuWlhb2799PQUGBL3Fs2LCB5557znfMqFGjLmptTJ06NSJaG3atcwjOvdMJQlX/IiI5wA3eXberalHAV4xA3G53uEMIG8bdfoTiHRcXx8yZM5k5cyb33nuvb391dfVFrY1Nmzb5fin17t2bGTNmdEgaGRkZJCYmhuwTCHatcwjOPdBbRHF4xz943/cI+vbtG+4QwoZxtx9d4T18+HBuvPFGbrzxRt++5uZmX2ujLWmsX7++Q2tj9OjRflsbXdUV1a51DsG5B7Im9YN4puR+DU+SeF5EnlbV3wZ81Qjj5MmTDBkyJNxhhAXjbj/37vLu3bs36enpF00xXVVVdVFrY+PGjb7WRnx8vK+10XZ+eno6I0aMCHk+KrvWOQTnHkg31z3A1ap61vu5H/CpFbO5WkEo3VwbGxtJSEiwOKLowLjbzz0SvZubmykuLu6QNPbs2UNVVZXvmMTERNLT05k5c6YvacyYMSOgqUUi0b27uJS7Vd1cBc+iPW204n8yvajj0KFDpKWlhTuMsGDc7eceid69e/cmIyODjIyOf2/W1NTgdDpxOp3s3bsXp9PJs88+61vRDyA5OblDSyM9Pf2SD8Uj0b27CMY9kBbE9/AsOfqGd9dtwJ9V9d8DumIXEUoLwu12227KgTaMu/3co93b7XZTVlbmSxht2/79+2lt9fwNGxcXR2pqqi9htLU6xo4dS2xsbJgNwsOl6t2yqTZEJBtYgKfl8LGq7g4yVssJJUHk5eWRlZV15QN7IMbdfu491bupqYn9+/df1OIoLy/3HdOvXz8cDsdFt6qGDh0axsi7h0vVu5mLyWAw2JbTp0+zd+/ei1ocdXV1vmNGjx7dIWHMnDmT6dOn26LXU6jTfbef5lsufG/FdN9WYJYcDQ7jbj93u3rD39xVlcrKyg4Jw+l0UlRURFNTE+CZOj0lJYUZM2Z02FJTU6PyQXeXLDkaLZgWhMFgCJXW1lYOHjzI3r17KSws9G0HDhzwdcMVESZOnHhR4pg2bVpUJg6rZnMV4F4gRVUfFZFxwChV/cy6UIPHPIMIDuNuP3e7ekPw7i0tLRw8eLBD0igqKmL//v2+6dNjYmIumTgiYQr1Ln0GISK/B9zADao63Tvd9/uqOieEmC3D9GIKDuNuP3e7eoP17i0tLZSUlFyUOA4cONAhcUyaNOmixDF16tRuTRxd2otJRPJUNUtEdqvqLO++AlWNiPX7QkkQRUVFtu0bbdzt525Xb+g+9+bm5g6Jo6ioyHerqq0rbkxMDJMnT+6QNNLS0roscVzK3aqBci0iEov3IbWIJOFpUUQ9KSkp4Q4hbBh3+2FXb+g+97bJCWfMmNFhf3NzMwcOHLgocbz11lsdEsfEiROZPn06aWlpTJ8+3bcFMmr8QoJxDyRB/D88g+SGi8gvgS8CPwn4ihHIsWPHmDRpUrjDCAvG3X7udvWG8Lv37t3bNxtue5qamjhw4ABFRUXs27fP97p+/foO03SPHTv2osSRlpbWqVlxg3G/YoIQkd8B/62qL4hILrAYTxfX21R1X0BXi1DsMEjmUhh3+2FXb4hc9/j4eL8TG7pcLj7//PMOSaOoqIhnnnmmw3QjdXV1DB48+LLXCMa9M09rSoDVIlIG/D2wTVV/11OSA8DTTz8d7hDChnG3H3b1huhz79WrF1OnTmXlypU88sgj/OUvfyEnJ4f6+noOHz7Me++9x5NPPnnF5ADBuQfykHoCcLd36wO8CLykqge83/cDzqtq66VL6TpCeUjtcDgoKCiwOKLowLjbz92u3mDc/blf7iF1p/t7qephVX3c24Pp74D/ARSLyLsiUg0UA5UiUigivxGRKcFpdD+hzjEfzRh3+2FXbzDuAZ8TQAsiDliGpwWxGE9y+QB4HNirqm7vcUOB6/EkkTdU9fmAowoCEakBDgd5eiJQa2E40YRxtx929Qbj7s99gqom+TuhM3Mx3QTcA6wAPgNeAt4EmlX1sqtgi0jclY4xGAwGQ2TSmVtMPwI+Baar6i2q+gIwH/gPEXEAiMg3/Z1okoPBYDBEL1fs5qqq1/vZ/W08PZp+IiLDgEyrAzMYDAZDeAl2UpIaVT2lqt8HlgARMR+TwWAwGKwj2ATxbtsbVf0h8BdrwjEYDAZDpNBj1oMwGAwGg7WEPO+tiGwRkYHe9/eLyEMi0jv00AwGg8EQTqyYGH2wqtaLSDbwDWAI8AcLyjUYDAZDGAlkNtdL0SIivYD/CTyuqq+IiFn702AwGKIcKxLEb4ECPPMz/dC7r78F5RoMBoMhjAR9i0lErhYRUdXngLnATFVtFJHJeAbWGQwGgyGKCboXk4g8BVwFHADWA+tV9biFsQVEYmKiJicnB3VuS0sLcXFx1gYUJRh3+7nb1RuMuz/33Nzc2kvNxRT0LSZVvR9ARFKBm4E/i8ggYDOehLGtO6f+Tk5OJtjpvg0Gg8GuiMglJzkNuReTqhar6hpVXQbcAGwF7gR2hlp2d5GXlxfuEMKGcbcfdvWGnuXe1NTEunXr+OlPf9qp44Nxt2SgXCTM2hrKgkFut5uYGCt6/EYfxt1+7nb1huh3P3PmDO+99x5vvPEG7777LmfOnGHAgAEcPHiQ4cOHX/bcS7lbsmDQpRCRZ4AqETkiIjtF5A8i8o+hltudFBcXhzuEsGHc7YddvSE63Wtra/nTn/7ELbfcQlJSEnfddRebNm3irrvu4t1336WmpuaKyQGCc7eim+s1wAhVbRGRMYADyLCg3G4jJSUl3CGEDeNuP+zqDdHjfuTIEd58801ef/11Pv74Y9xuN+PHj+f+++/n9ttvZ8GCBcTGxgZUZjDuViSIHXhGT1eragVQAayzoNxu49ixY0yaNCncYYQF424/d7t6Q+S6qyqFhYWsXbuWN99809fhJi0tjUceeYTbb7+dWbNmhbRkajDuViSIp4EtIvJHPA+m96jqaQvK7TaGDh0a7hDChnG3H3b1hshyb21tZfv27bz55pusXbuW0tJSAObOncu//uu/cvvttzNt2jTLrheMuxUJ4nk80333wrOQUIaI9FHVyEvTl+DcuXMMGTIk3GGEBeNuP3e7ekP43c+dO8fGjRt58803efvtt6mtrSUuLo7FixfzT//0T9xyyy2MHj26y64dqLsVCeKoqv6s/Q4Ribeg3G4jmns1hIpxtx929YbwuNfW1vLOO++wdu1aNmzYQGNjI4MGDWL58uXcdtttLFu2jIEDB3Z5HMG4W5Eg8kXkQVV9om2HqjZZUG63YdeRlWDc7YhdvaH73D///HPf84StW7fidrsZM2YM9913HytXrmTRokX07t29qyIE425FghgB3CgiDwN5eCbuy1fVVy0ou1toaGggMTEx3GGEBeNuP3e7ekPXuasqeXl5vqTgdDoBmDlzJj/60Y9YuXIl2dnZIT1kDpVg3ENOEKr6JfDdVpoBpOOZvM+SBCEimcBTeGaLdQHfVtXPrCi7Dbv+ZwHjbkfs6g3Wure0tLBlyxbWrl3L2rVrOXLkCDExMSxcuJDVq1ezcuXKiOoxFYx70AnCO5Orbxi297ZSnnfze0yQ/Br4haq+JyLLvZ+vC7HMDhw9epTU1FQri4wajLv93O3qDaG7nzhxgvfee4933nmH9evXc/r0aRISEliyZAmrVq1ixYoVJCX5nfcu7ATjHkoLYrOIvAasVdXytp3e5UYXAl/FM3Hfn0O4BoACbU9wBgHHQizvIiZPnmx1kVGDcbcfdvWGwN1Vlf379/P222/z9ttvs23bNtxuNyNGjOCOO+7glltuYcmSJfTt27eLIraOYOo9lEf6y4BW4EUROSYiRSLyOVAC3AOsUdU/h1B+Gw8BvxGRI8C/AY/4O6iyspLMzEwcDgcOh4M1a9ZQWlpKY2MjRUVFuN1u32RVubm5gGfyKrfbzdatW2lsbKS0tJS6ujoqKiqorKyktraWsrIyGhoaKC4uxuVyUVBQ0KGMtlen00lTUxMlJSXU19dTXl5OdXU11dXVlJeXU19fT0lJCU1NTb77kxeWUVBQgMvlori4mIaGBsrKyqitraWyspKKigrq6uo67VRUVNQpJ6fT2eOcOltPu3fv7nFOnamnwsLCHufU2XrKzc29olNLSwtPPfUU3/3ud5kwYQLTp0/nBz/4AadOneKBBx7g/fffZ9euXfzLv/wLCxcupLq6Oip+R3z00Ud+6+lyWDZZH5AINKrqqSDO3wiM9PPVj4HFwBZVfU1EvgR8U1VvvPDAUCbrMxgM9ubkyZO89957vP32275bR/Hx8dxwww184Qtf4Atf+ALjx48Pd5hdwuUm67MkQXQlInIaGKyqKp4uAKdV9aJOw6EkiNzcXLKzs0OMNDox7vZzt6s3/M39creOVqxYwS233MKNN95I//49Z/XkS9V7tCeIfcADqvqRiCwGfq2qF1maFoTBYLgcLS0tbN261ZcUDh48CIDD4eCWW27hlltuYfbs2bYbSHi5BGHFOIiu5hvAEyLSCzgPfNPqC5i/qIy7nbCT97Fjx1i/fj3r1q3jgw8+oL6+3nfr6Lvf/W6PvnV0IcHUe8S3IDqLaUEYDAaXy8XOnTtZt24d7733Hrt37wZgzJgxLF++nOXLl/e4W0eh0qUtCO8AuTuA5PblqeqqUMvuLpxOJ+np6eEOIywYd/u59zTv6upqNmzYwLp169iwYQN1dXXExsayYMECHnvsMZYvX87MmTMREZxOp22TQzD1bsUtprXAaSAXiKo5mNqYOnVquEMIG8bdfkS7t9vtJicnh3Xr1rFu3TpycnJQVUaMGMHKlStZvnw5N910E4MHD77o3Gh3D4Vg3K1IEGNVdZkF5YSN8vJypkyZEu4wwoJxt597NHqfOHGC999/39dKqKmpQUSYN28eq1atYvny5WRmZl7xAXM0ultFMO5WJIjtIpKuqk4LygoLI0aMCHcIYcO4249o8Ha5XOzatYsNGzbw/vvvs3PnTtxuN8OGDePmm2/m5ptvZsmSJQHPLxQN7l1FMO5WJIiFwNdE5BCeW0wCqKpGzbrUp06d6pb52CMR424/90j1Pnz4sC8hbNq0iVOnTiEizJkzhx//+MesWLGC2bNnB7wWc3si1b07CMbdigRxswVlhJU+ffqEO4SwYdztR6R4NzQ0sGXLFjZs2MCGDRs4cOAAAGPHjuWOO+5gyZIlLF68mGHDhll2zUhxDwfBuFsx3fdhEXEA13h3faKqBaGWazAYehZut5uCggJfK2Hr1q20tLSQkJDAddddxwMPPMDSpUtJTU0N67oJhr9hRTfXB/EMZnvdu+t5EXlaVX8batndxfnz58MdQtgw7vajO72PHz/O+++/z/vvv88HH3xAdXU1ABkZGTz00EMsWbKEhQsXdttf9natcwjO3YpbTF8H5qrqWQAReRz4FIiaBOGvO5xdMO72oyu9T58+zZYtW9i0aRObNm2isLAQgKSkJJYsWcKSJUu46aabGDVqVJfFcDnsWucQnLsVCULwTPvdRqt3X9RQVVVl2wdXxt1+7lZ6nz9/nu3bt/sSQk5ODq2trSQkJLBw4UK+8pWvsGTJEhwOR0TMcWTXOofg3K1IEH8CdorIG3gSw23AsxaU223YZS4Wfxh3+xGKd2trK3l5eWzatImNGzeybds2zp8/T2xsLFdddRWPPPIIixcv5uqrryY+Pt7CqK3BrnUOwblb8ZD6/4rIR8ACPAniq6qaH2q53cmBAwd61NQDgWDc7eceiLeqUlxc7GshfPTRR5w65VnyJT09nfvvv5/Fixdz7bXXRsVf5natcwjOPejJ+kRkq6ouFJEzeJYFbX9bSf2t2dCVmMn6DIbQUVVKSkr46KOP2LJlCx999BHHjnlW+U1JSWHx4sUsXryY66+/3taDznoSXTJZn6ou9L4OCLaMSMFO0x9fiHG3n3t777aFc9onhOPHjwMwcuRIFi1a5EsKEydODGfYlmDXOocwTfctIo+r6sNX2tfVmBaEwXBlVJWioiJfMvj444+pqqoCYPTo0Vx33XUsWrSI6667jilTppjxCDagqxcMugm4MBnc7GdfxGL+qjDuPRW3201hYWGHhFBTUwN4RizfdNNNvqQwadKkHp8Q7FDnl6JbWxAi8gDwbWAiUNruqwHAdlW9N6iCL76OA3gK6A+UAfeqav2Fx5kWhMEATU1N5ObmsnXrVrZu3cr27ds5ceIEABMmTPC1DhYtWkRKSkqPTwiGK9NVLYj/Bt4DfgX8sN3+M6p6MoRyL+QZ4PuqukVE7gP+CfipheVTUFCAw+GwssiowbhHt/vJkyfZvn07W7duZdu2bezatYumJs+yLFOnTuXWW29l0aJFLFq0iOTkZMDj3ROeJwRDT6jzYAnG3ZIlR0VkCDAF8I2XV9WPQy7YU3Y9MEhVVUTGARtUNe3C40JpQbhcLnr1ioblua3HuEePu6py6NAhXzLYunUrRUVFAMTFxZGdnc3ChQtZsGAB8+fPZ/jw4X7LiTZvKzHuF7t39ZKj/wA8CIwF8oF5eKbauCHUsr3sBW7Fs3LdncA4i8r1cfDgQVJTU60uNiow7pHr3tTURH5+Pp9++inbtm1j27ZtVFZWAjBo0CAWLFjAvffey8KFC5kzZw4JCQmdKjfSvbsS4x6YuxVj3x8E5gCHVfV6YBZQE0gBIrJRRPb62VYC9wHfEZFcPM83mv2VUVlZSWZmJg6HA4fDwZo1aygtLaWxsZGioiLcbjd5eXmA52ENQF5eHm63m/Pnz9PY2EhpaSl1dXVUVFRQWVlJbW0tZWVlNDQ0UFxcjMvloqCgoEMZba9Op5OmpiZKSkqor6+nvLyc6upqqqurKS8vp76+npKSEpqamnA6nX7LKCgowOVyUVxcTENDA2VlZdTW1lJZWUlFRQV1dXWddioqKuqU08iRI3ucU2frafDgwRHjdPDgQfLz83nyySf5xje+wezZsxk4cCDz5s3ju9/9Ljk5OcyaNYvf//73vPTSS5w8eZJVq1bxox/9iCFDhhATE9Ppeho7dmxU1ZOVP3v9+vXrcU6drafTp0/7dbocVnRz3aWqc0QkH8+kfU0ikq+qmSEV7P9aU4HnVfWqC78L5RZTWVmZ7/6s3TDuyWG59pkzZ9i1axc7duxg586d7NixwzfTad++fZk9ezbz5s1j3rx5zJ07l9GjR1t2bVPnyeEOIyxcyr2ru7keFZHBwJvAByJSBxyzoFwARGS4qlaLSAzwEzw9miylf//+VhcZNRj3rsflclFUVORLCDt27KCwsJC2P85SU1O5+eabfQlh5syZXXqf3NS5PQnG3Yq5mP6H9+3PRWQzMAhYH2q57bhHRL7jff86nskBLaWlpcXqIqMG424tbc3/nJwccnNzycnJoaCgwNeUHzJkCPPmzePOO+9k7ty5XHXVVQwZMsTyOC6HqXN7Eox7SAlCPJ2ox6rqEQBV3RJKef5Q1SeAJ6wutz1ut7sri49ojHvwtLa2sn///g7JID8/n3PnzgGev9iysrJ44IEHyM7OZvbs2RExOtnUuT0Jxj2kBOHtevomENVDE/v27RvuEMKGce8czc3NFBcXk5+fT15eHrm5uezevZuzZ8/6ysrKyvI9YG5LBrGxsV0VftCYOrcnwbhbcaNzh4jMUdVdFpQVFk6ePNntzfxIwbhf7H7y5EkKCgooKCggPz+fgoICCgsLfU30hIQEMjMzue+++5g9ezbZ2dmkpqZGZDLwh6lz495ZrEgQ1wP3i0gZcBbPtN+qqhkWlN0tWNlDJNqws/vIkSN93UvbJ4MjR474jhkxYgQOh8O3KprD4WDatGlRPdjKznVu3APDip/ymy0oI6wcOnSItLSLBmfbAju4qyoVFRUUFhZ22JxOp+95QUxMDKmpqSxcuLDDeJqRI0eGOXrrsUOdXwrjHpi7FeMgBLgXmKiqq0RkPDBSVT8LqeAACWUchNvtjoj1csNBT3JXVY4fP35RIigsLPQNEgJISkpixowZzJgxg8zMTDIzM5kxY0anRyJHOz2pzgPFuF/s3tXjIP4DcOOZWmMVcAZ4Dc/o6qggPz+frKyscIcRFqLRvbW1lbKyMvbv3+/bioqK2Lt3L3V1db7jhg4dyowZM7jnnnuYMWMGM2fOZMaMGSQlJQGeEaXR5m4F0VjnVmHcA3O3ogWRp6pZIrJbVWd59xWoardOmWim++551NbWsn//fg4cONAhGZSWltLc/LcZVwYPHkxaWpovAbRtI0aMCHuXUoMh0unqFkSLiMTiWZcaEUnC06KIGswiIuFxV1Vqa2spLRecTfMAAAnlSURBVC3l888/5/PPP6e0tNSXCE6e/Nus8XFxcUyaNIlp06Zxyy23MHXqVKZNm8a0adNITEwMKhHYtd7t6g3GPRxLjt4L3AVkAc8BXwR+oqqvhlRwgJgWRGTS3NzM4cOHfb/82yeCzz//nIaGhg7Hjxo1qsMv/2nTpjF16lRSUlKiuueQwRCpdGkLQlVf8M60uhhPF9fbVHVfqOV2J3a9Fw2hu7fNSulvO3z4MEePHu0wgjM+Pp6JEycyceJErrvuOt/7SZMmkZyc3K0Dmexa73b1BuPe7c8gIgXTiyk4LuWuqpw6dYrKykqOHTtGZWUlR48e9f3yP3LkCOXl5R16BwH06tWLsWPHMn78eMaPH+9LAG1JYOTIkRHzb23XererNxj3buvFJCJn8D53wDs4rv17VR0YbNndTXFxsW36RrtcLk6cOEFNTQ2VlZXs2rWLmJgYXxJoe62srOT8+fMXnT9s2DDfL/7rrrvOlwjathEjRkTNiGI71Xt77OoNxj1Q96AThKoOCPbcSCMlJSXcIQSFqtLQ0EBdXZ3vl/6FW21tbYfPdXV1+Gs1Dhw4kFGjRjF69GiuvvpqRo8ezahRo3z7Ro0axZgxY+jXr18YTLuGaK33ULGrNxj3QLFiydG2gXIpqvqod93oUd09UC4Ujh07xqRJk7rteqpKY2MjDQ0NnD17tsNr23b69GlOnTrFqVOnqKur872/8POlZmiMiYkhMTGRpKQkkpKSyMjIICkpqcO+UaNG0dLSwrx583rUL/7O0t31HinY1RuMe6DuVg+UexRoAJ4kSgbKvf322xw9epSEhATcbjetra243e7Lvne5XDQ1Nfm28+fPd/h84Xb+/HnOnj3bIRl09tlP3759GTx4sG8bOXIkqampHfYNHjyYYcOG+X7xJyUlMXjw4E7da62rq7NlcgDPQDo7YldvMO6BYkWCmNs2UA5AVetEpLcF5XYLDz/8MPv2BdfpKj4+/orb4MGD6dOnD/3796dfv37079//iu/79evH4MGDGTRoEPHx8RYbd+Tpp5/m4Ycf7tJrRCp2dberNxj3QN2tGAexE5gP7PImiiTg/bZR1d1FsL2YDh8+zNKlS1m/fj0xMTHExMQQGxvr933b59jYWOLi4nrEKF2Hw+FbZN1u2NXdrt5g3P25d/VI6v8HvAEMF5Ff4hko91MLyu0WJkyYQJ8+fWy7kHlPSHLBYld3u3qDcQ/4HCvGQYhIKn8bKLcpHAPlRKQGOBzk6YlArYXhRBPG3X7Y1RuMuz/3Caqa5O8EK24xPQc8qKqnvJ+HAKtV9b6QCjYYDAZDWLFiSGFGW3IAz0NqoFufPxgMBoPBeqxIEDHeVgMAIjIUa55tGAwGgyGMWJEgVgPbReRREVkFbAd+bUG5XY6ILBOR/SJyUER+GO54ugsRGScim0Vkn4gUisiD4Y6puxGRWBHZLSLvhDuW7kREBovIX0Wk2Fv/V4c7pu5CRL7r/XnfKyIvikifcMfUVYjIsyJSLSJ72+0bKiIfiEiJ93XI5coACxKEqv4FuAOoAmqA21X1v0Itt6vxrmHxJJ41tdOAe0TELpO0uID/o6rTgXnAd2zk3saDQFTNOmwRTwDrVTUVcGCTfwMRGQP8b2C2qs4EYoG7wxtVl/JnYNkF+36IpxPRFGCT9/NlsWRaQ1UtUtXfqepvVbXIijK7gauAg6r6uao2Ay8BK8McU7egqpWqmud9fwbPL4kx4Y2q+xCRscAK4Jlwx9KdiMhA4FrgjwCq2tz++aEN6AUkiEgvoC9wLMzxdBmq+jFw8oLdK/Gs2YP39bYrlRNyghCR50RkcLvPQ0Tk2VDL7QbGAEfafT6KjX5JtiEiyXg6FewMbyTdyr8DPyDKVj60gIl4Wvl/8t5ee0ZEbDHPiqpWAP8GlAOVwGlVfT+8UXU7I1S1Ejx/JALDr3SCnXsx+Rs10jMWx+gkItIfeA14SFXrwx1PdyAiXwCqVTU33LGEgV54Vn78vXemg7N04jZDT8B7v30lkML/b+/uQqSqwziOf3+9mCZeGUFhZJJZEGJEkWw3unoT1E0vZil7IXVj3UQQRlAQRBcVBBFkdiG09IKZSQQJFSUVZG9oGlG0VhuY0Z292u6vi/PfHJbjbu3OnFl3fh9Yds7sM2eeZWfnmf855//84XxgvqQN3c1q5uvlq5iGgQtathcxi4ec40k6k6o4DNre2e18GtQH3CDpMNVhxdWSnu9uSo0ZBoZtj40Wd1AVjF6wBhiy/bPt48BOqhZBveQnSecBlO9HJ3tAu69iephT5yqmfcBSSReV5oK3Aru7nFMjSov254AvbT/R7XyaZHuL7UW2F1P9zd+23ROfJG0fAX6QtKzc1Q+cKucMp+t74BpJZ5fXfz89coK+xW5goNweAF6b7AHtvorpKHAn1ZUxM5rtv4G7gDepXigv2z7Y3awa0wdspPr0/Hn5uq7bSUUj7gYGJe0HVgCPdDmfRpRR0w7gU+AA1Xvf1q4m1UGSXgA+BJZJGpa0CXgUWCvpa2Bt2Z54P23qxbQCuA24BRgCXrH91LR3HBERXTOdNakvoRqirwd+AV6iKjir2pRbRER00ZRHEJJGgb3AJtvflPu+tb2kjflFRESXTOccxI3AEeAdSc9KGmv3HRERs0A72n3Pp5qRt55qXertwKs9OAklImJWactJ6n93Vs2BuBlYZ3t123YcERGNa2uBiIiI2aMtzfoiImL2SYGIaCFpYcvkwSOSfmzZniPpgw497zxJ75Y29HU/nyPpvdKJNKIROcQUcRKSHgKO2X6sgefaDJxh+8kJYh6kalE/2Ol8IiAjiIj/RdIxSYvLimzbyupkg5LWSHq/rNZ1dUv8BkkflRHIMycbIQC3U3rjSBqQ9Imk/ZL2tsTsKnERjUiBiJiai6lWZ1sOXErVauZa4F7gfgBJlwHrgD7bK4ARat7gS7PIJbYPS1oA3AestL0cuL4l9Avgqo79RhHj5HhmxNQM2T4AIOkg1VKOlnQAWFxi+oErgX1VA1HmUd9i+RxgbE2VkRL3uKTttj8eC7I9IukvSQvKSoARHZUCETE1f7bcHm3ZHuXE/5WA7ba3TLKv34G5ALZ/k3Q51chhq6Rttp9uiT0L+GO6yUf8FznEFNE5bwE3SToXqomkki4cH1RWYTxd0lxJS23/avtF4HVK4SiPXwiMLXgT0XEZQUR0iO1Dkh4A9kg6DTgObAa+qwnfQ3UOY4OklVTLgR4E7miJWQW80dmsI07IZa4RM4CkK4B7bG+cIGYnsMX2V81lFr0sh5giZgDbn1F1Rj7pRDlgV4pDNCkjiIiIqJURRERE1EqBiIiIWikQERFRKwUiIiJqpUBEREStFIiIiKiVAhEREbX+AbEo5zy+LTAwAAAAAElFTkSuQmCC\n",
      "text/plain": [
       "<matplotlib.figure.Figure at 0x7f29df0>"
      ]
     },
     "metadata": {},
     "output_type": "display_data"
    }
   ],
   "source": [
    "# Object: 'Toyota Prius'\n",
    "m = 1325\n",
    "D = 0.25\n",
    "A = 1.470 * 1.760 \n",
    "h = 440\n",
    "\n",
    "\n",
    "dt = 0.01\n",
    "\n",
    "t, x, v, a = euler_projectile(mass=m, area=A, x0=h, dt=dt, D=D)\n",
    "\n",
    "kinematics_plots(t, x, v, a)"
   ]
  },
  {
   "cell_type": "code",
   "execution_count": 16,
   "metadata": {},
   "outputs": [
    {
     "data": {
      "text/plain": [
       "181.10491000119086"
      ]
     },
     "execution_count": 16,
     "metadata": {},
     "output_type": "execute_result"
    }
   ],
   "source": [
    "terminal_speed = terminal_velocity(area=A, mass=m, rho=1.225, g=9.80665, D=0.25)\n",
    "terminal_speed"
   ]
  },
  {
   "cell_type": "code",
   "execution_count": 18,
   "metadata": {},
   "outputs": [
    {
     "data": {
      "text/plain": [
       "87.179754166788044"
      ]
     },
     "execution_count": 18,
     "metadata": {},
     "output_type": "execute_result"
    }
   ],
   "source": [
    "max_speed = max(np.abs(v))\n",
    "max_speed"
   ]
  },
  {
   "cell_type": "code",
   "execution_count": 20,
   "metadata": {},
   "outputs": [
    {
     "data": {
      "text/plain": [
       "48.137708782282488"
      ]
     },
     "execution_count": 20,
     "metadata": {},
     "output_type": "execute_result"
    }
   ],
   "source": [
    "percent_of_terminal = (max_speed / terminal_speed) * 100\n",
    "percent_of_terminal"
   ]
  }
 ],
 "metadata": {
  "kernelspec": {
   "display_name": "Python 3",
   "language": "python",
   "name": "python3"
  },
  "language_info": {
   "codemirror_mode": {
    "name": "ipython",
    "version": 3
   },
   "file_extension": ".py",
   "mimetype": "text/x-python",
   "name": "python",
   "nbconvert_exporter": "python",
   "pygments_lexer": "ipython3",
<<<<<<< HEAD
   "version": "3.6.2"
=======
   "version": "3.6.3"
>>>>>>> 02cf6d1db458f09ce34aa9a3418de961e0583c7e
  }
 },
 "nbformat": 4,
 "nbformat_minor": 2
}
