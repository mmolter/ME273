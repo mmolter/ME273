{
 "cells": [
  {
   "cell_type": "markdown",
   "metadata": {},
   "source": [
    "# GA5 - Roots\n",
    "### M. Molter\n",
    "#### Tuesday, 11 April 2018"
   ]
  },
  {
   "cell_type": "code",
   "execution_count": 2,
   "metadata": {},
   "outputs": [],
   "source": [
    "import matplotlib.pyplot as plt\n",
    "import numpy as np"
   ]
  },
  {
   "cell_type": "code",
   "execution_count": 1,
   "metadata": {},
   "outputs": [],
   "source": [
    "def bisection(func, xl, xu, n):\n",
    "    ''' Find root of `func` within interval (xl, xu) using bisection. \n",
    "    \n",
    "        Args:\n",
    "        \n",
    "            func (func):    function to find roots fo\n",
    "            xl (float):     lower bound \n",
    "            xu (float):     upper bound\n",
    "            n (int):        number of iterations to perfom\n",
    "            \n",
    "        Return:\n",
    "        \n",
    "            float:          root of func within interval.\n",
    "    '''\n",
    "    \n",
    "    pass"
   ]
  },
  {
   "cell_type": "markdown",
   "metadata": {},
   "source": [
    "## Exercise 1 \n",
    "\n",
    "The velocity, $v$, of a falling parachutists is given by\n",
    "\n",
    "$$\n",
    "    v = \\frac{mg}{c} \\left[ 1 - \\exp \\left( -\\frac{c}{m}t \\right) \\right]\n",
    "$$\n",
    "\n",
    "where $g = 9.81$ $m/s^2$. For a parachutist with a drag coefficient of $c=15$ $kg/s$, compute the mass, $m$, so that the velocity is $v=36$ $m/s$ at $t=10$ $s$. Use the `false_position` method to determine $m$ to a level of $\\varepsilon_a =0.1\\%$\n",
    "\n",
    "## Exercise 2\n",
    "\n",
    "Use `bisection` to determine the drag coefficient needed so that an $82$ $kg$ parachutist has a velocity of $36$ $m/s$ after $4$ $s$ of free fall. Iterate unitl the approximate relative error falls below $0.1\\%$. Also perform an error check by substituting your ifnal answer into the original equation.\n",
    "\n",
    "## Exercise 3\n",
    "\n",
    "Determine the highest real root of \n",
    "\n",
    "$$\n",
    "    f(x) = x^3 - 6x^2 + 11x - 6.1\n",
    "$$\n",
    "\n",
    "1. Graphically\n",
    "2. Using the `newton_raphson` method (iterate until $\\varepsilon_s=0.1\\%$)\n",
    "\n",
    "## Exercise 4\n",
    "\n",
    "Use the `newton_raphson` method to find the root of\n",
    "\n",
    "$$\n",
    "    f(x) = \\exp(-0.5x)(4-x)-2\n",
    "$$\n",
    "\n",
    "Employ intial guesses of:\n",
    "\n",
    "1. 2\n",
    "2. 6\n",
    "3. 8\n",
    "\n",
    "Explain your results."
   ]
  }
 ],
 "metadata": {
  "kernelspec": {
   "display_name": "Python 2",
   "language": "python",
   "name": "python2"
  },
  "language_info": {
   "codemirror_mode": {
    "name": "ipython",
    "version": 2
   },
   "file_extension": ".py",
   "mimetype": "text/x-python",
   "name": "python",
   "nbconvert_exporter": "python",
   "pygments_lexer": "ipython2",
   "version": "2.7.14"
  }
 },
 "nbformat": 4,
 "nbformat_minor": 2
}
