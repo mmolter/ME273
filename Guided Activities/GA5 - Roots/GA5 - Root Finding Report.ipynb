{
 "cells": [
  {
   "cell_type": "markdown",
   "metadata": {},
   "source": [
    "# GA5 - Roots\n",
    "### M. Molter\n",
    "#### Tuesday, 11 April 2018"
   ]
  },
  {
   "cell_type": "markdown",
   "metadata": {},
   "source": [
    "Alrihgt, we are in the final stretch of the semester, and the topic for today is root finding. We will be exploring two of the more basic root finding algorithms (e.g. `bisection` and `false_position`) and one more popular method (i.e. `newton_raphson`). Given the timing in the semester, I cannot give this report my full effort; however, all the excercises *will* be completed in full. "
   ]
  },
  {
   "cell_type": "markdown",
   "metadata": {},
   "source": [
    "We start by importing the usual libraries: `matplotlib` for plotting and `numpy` for fast numerical computation."
   ]
  },
  {
   "cell_type": "code",
   "execution_count": 1,
   "metadata": {
    "collapsed": true
   },
   "outputs": [],
   "source": [
    "import matplotlib.pyplot as plt\n",
    "import numpy as np\n",
    "%matplotlib inline"
   ]
  },
  {
   "cell_type": "markdown",
   "metadata": {},
   "source": [
    "When applying a root finding algorithm, you typically don't have an *exact* solution. Because of this, we need a new stopping condition.\n",
    "\n",
    "In most of the excersizes, we will stop the algorithm when the next result of the iteration and the current result of the iteration differ by less than some percentage. This method relies on the assumption that the result is *at least* as accurate as the difference between two iterations (although this is not always the case for `bisection`)."
   ]
  },
  {
   "cell_type": "code",
   "execution_count": 2,
   "metadata": {
    "collapsed": true
   },
   "outputs": [],
   "source": [
    "def approximate_error(new, old):\n",
    "    ''' Return approximate error given old and new values. '''\n",
    "    \n",
    "    return np.abs(new - old) / new"
   ]
  },
  {
   "cell_type": "markdown",
   "metadata": {},
   "source": [
    "Right out the book, we have the formula for the `newton_raphson` method we will use later. It take a function, that same functions derivative, a starting point, and an (optional) required $\\varepsilon_a$. Given more time, I would integrate `sympy` to automatically compute the derivative of `func`."
   ]
  },
  {
   "cell_type": "code",
   "execution_count": 3,
   "metadata": {
    "collapsed": false
   },
   "outputs": [],
   "source": [
    "def newton_raphson(func, func_prime, xi, e_req=0.001):\n",
    "    ''' Return root of func closest to xi given func and func_prime. '''\n",
    "    \n",
    "    while True:\n",
    "        # Save past value for later e_a analysis\n",
    "        old_xi = xi\n",
    "        \n",
    "        # Computer Newton-Raphson\n",
    "        xi = xi - func(xi) / func_prime(xi)\n",
    "        \n",
    "        # Evaluate stopping condition.\n",
    "        if approximate_error(xi, old_xi) < e_req:\n",
    "            return xi"
   ]
  },
  {
   "cell_type": "markdown",
   "metadata": {},
   "source": [
    "Root finding algorithms fall into two main categories: bracketing methods (e.g. `bisection` and `false_position`) and open methods (e.g. `newton_raphson`). Most of the bracketing methods only differ in how they calculate the next point--otherwise, evalauting the signs of the brackets, and choosing the next bracket is the same. To save time, we will right a \"general\" bracketing method, that takes a `next_point` function to differentiate between `bisection` and `false_position`.\n",
    "\n",
    "**Because all the problems ask for $\\varepsilon_a = 0.1\\%$, I have set that as the default, and don't modify it subsequently.**"
   ]
  },
  {
   "cell_type": "code",
   "execution_count": 4,
   "metadata": {
    "collapsed": true
   },
   "outputs": [],
   "source": [
    "def bracketing_method(func, next_point, xl, xu, e_req=0.001):\n",
    "    \n",
    "    # Get the new middle point. \n",
    "    xm = next_point(xl, xu)\n",
    "    \n",
    "    while True:\n",
    "        yl, ym, yu = func(xl), func(xm), func(xu)\n",
    "        \n",
    "        # Set new point to point of same sign.\n",
    "        if np.sign(yl) == np.sign(ym):    \n",
    "            xl = xm \n",
    "        elif np.sign(yu) == np.sign(ym):  \n",
    "            xu = xm\n",
    "        else: \n",
    "            raise ValueError('Interval (%s, %s) does not contain root' \n",
    "                             % (xl, xu))\n",
    "        \n",
    "        # Check if stopping condition reached.\n",
    "        old, xm = xm, next_point(xl, xu)\n",
    "        if approximate_error(xm, old) < e_req:\n",
    "            return xm"
   ]
  },
  {
   "cell_type": "markdown",
   "metadata": {},
   "source": [
    "The `bisection` naively chooses the next bracket point as the middle of the current interval. Its essentially a binomial search for the root.\n",
    "\n",
    "$$\n",
    "    x_m = \\frac{x_l + x_u}{2}\n",
    "$$"
   ]
  },
  {
   "cell_type": "code",
   "execution_count": 5,
   "metadata": {
    "collapsed": true
   },
   "outputs": [],
   "source": [
    "def bisection(func, xl, xu, e_req=0.001):\n",
    "    ''' Find root of `func` within interval (xl, xu) using bisection. \n",
    "    \n",
    "        Args:\n",
    "        \n",
    "            func (func):    function to find roots fo\n",
    "            xl (float):     lower bound \n",
    "            xu (float):     upper bound\n",
    "            e_req (int):    required approximate error\n",
    "            \n",
    "        Return:\n",
    "        \n",
    "            float:          root of func within interval.\n",
    "    '''\n",
    "\n",
    "    xl, xu = float(xl), float(xu)\n",
    "    next_point = lambda xl, xu: (xu + xl) / 2.0\n",
    "    \n",
    "    return bracketing_method(func, next_point, xl, xu, e_req)"
   ]
  },
  {
   "cell_type": "markdown",
   "metadata": {},
   "source": [
    "The `false_position` method works by drawing a line between the two points of teh braket, and estimating where that line would have a root. That point then defines one bound of the next iteration of the algorithm."
   ]
  },
  {
   "cell_type": "code",
   "execution_count": 6,
   "metadata": {
    "collapsed": true
   },
   "outputs": [],
   "source": [
    "def false_position(func, xl, xu, e_req=0.001):\n",
    "    ''' Find root of `func` within interval (xl, xu) using false position. \n",
    "    \n",
    "        Args:\n",
    "        \n",
    "            func (func):    function to find roots fo\n",
    "            xl (float):     lower bound \n",
    "            xu (float):     upper bound\n",
    "            e_req (int):    required approximate error\n",
    "            \n",
    "        Return:\n",
    "        \n",
    "            float:          root of func within interval.\n",
    "    '''\n",
    "    \n",
    "    xl, xu = float(xl), float(xu)\n",
    "    next_point = lambda xl, xu: xu - ((func(xu)*(xl - xu))/(func(xl) - func(xu)))\n",
    "    \n",
    "    return bracketing_method(func, next_point, xl, xu, e_req)"
   ]
  },
  {
   "cell_type": "markdown",
   "metadata": {},
   "source": [
    "Let's quickly test all three of our algorithms."
   ]
  },
  {
   "cell_type": "code",
   "execution_count": 7,
   "metadata": {
    "collapsed": false
   },
   "outputs": [
    {
     "name": "stdout",
     "output_type": "stream",
     "text": [
      "Analytical:    \t 6.70820\n",
      "False Position:\t 6.70742\n",
      "Bisection:     \t 6.70410\n",
      "Newton-Raphson:\t 6.70821\n"
     ]
    }
   ],
   "source": [
    "func = lambda x: x**2 - 45\n",
    "func_prime = lambda x: 2*x\n",
    "\n",
    "print('Analytical:    \\t %.5f' % 6.708203932499369089)\n",
    "print('False Position:\\t %.5f' % false_position(func, xl=0, xu=10))\n",
    "print('Bisection:     \\t %.5f' % bisection(func, xl=0, xu=10))\n",
    "print('Newton-Raphson:\\t %.5f' % newton_raphson(func, func_prime, xi=5))"
   ]
  },
  {
   "cell_type": "markdown",
   "metadata": {},
   "source": [
    "## Exercise 1 \n",
    "\n",
    "The velocity, $v$, of a falling parachutists is given by\n",
    "\n",
    "$$\n",
    "    v = \\frac{mg}{c} \\left[ 1 - \\exp \\left( -\\frac{c}{m}t \\right) \\right]\n",
    "$$\n",
    "\n",
    "where $g = 9.81$ $m/s^2$. For a parachutist with a drag coefficient of $c=15$ $kg/s$, compute the mass, $m$, so that the velocity is $v=36$ $m/s$ at $t=10$ $s$. Use the `false_position` method to determine $m$ to a level of $\\varepsilon_a =0.1\\%$\n",
    "\n"
   ]
  },
  {
   "cell_type": "markdown",
   "metadata": {},
   "source": [
    "As usuall, we'll start by creating a velocity function."
   ]
  },
  {
   "cell_type": "code",
   "execution_count": 8,
   "metadata": {
    "collapsed": true
   },
   "outputs": [],
   "source": [
    "def velocity(m, g, c, t):\n",
    "    ''' Return velocity of parachutist at time, t. '''\n",
    "    \n",
    "    return m*g/c * (1 - np.exp(-c*t/m))"
   ]
  },
  {
   "cell_type": "markdown",
   "metadata": {},
   "source": [
    "Then we'll plot."
   ]
  },
  {
   "cell_type": "code",
   "execution_count": 9,
   "metadata": {
    "collapsed": false
   },
   "outputs": [
    {
     "data": {
      "image/png": "[encoded data removed]",
      "text/plain": [
       "<matplotlib.figure.Figure at 0x765e5f8>"
      ]
     },
     "metadata": {},
     "output_type": "display_data"
    }
   ],
   "source": [
    "m = np.linspace(1e-3, 100, 100)\n",
    "v = velocity(m=m, g=9.81, c=15, t=10)\n",
    "\n",
    "plt.plot(m, v, c='darkgrey', linewidth=3)\n",
    "plt.axhline(36, linestyle='--', c='grey')\n",
    "\n",
    "plt.scatter(59.91, 36, c='k', zorder=10)\n",
    "\n",
    "plt.title('Velocity of Parachutist ($t=10$ (s), $m=82$ (kg), $c=15$ (kg/s))')\n",
    "plt.xlabel('Mass (kg)')\n",
    "plt.ylabel('Velocity (m/s)')\n",
    "plt.grid(which='both', linestyle=':')\n",
    "\n",
    "plt.show()"
   ]
  },
  {
   "cell_type": "markdown",
   "metadata": {},
   "source": [
    "Now we'll get the exact solution."
   ]
  },
  {
   "cell_type": "code",
   "execution_count": 10,
   "metadata": {
    "collapsed": false
   },
   "outputs": [
    {
     "name": "stdout",
     "output_type": "stream",
     "text": [
      "A mass of 59.91 (kg) would produce the above parameters\n"
     ]
    }
   ],
   "source": [
    "func = lambda m: velocity(m=m, g=9.81, c=15, t=10) - 36\n",
    "result = bisection(func, xl=1e-3, xu=100, e_req=0.001)\n",
    "\n",
    "print('A mass of %.2f (kg) would produce the above parameters' % result)"
   ]
  },
  {
   "cell_type": "markdown",
   "metadata": {},
   "source": [
    "## Exercise 2\n",
    "\n",
    "Use `bisection` to determine the drag coefficient needed so that an $82$ $kg$ parachutist has a velocity of $36$ $m/s$ after $4$ $s$ of free fall. Iterate unitl the approximate relative error falls below $0.1\\%$. Also perform an error check by substituting your ifnal answer into the original equation."
   ]
  },
  {
   "cell_type": "markdown",
   "metadata": {},
   "source": [
    "I will start by plotting the function and showing the known (Wolfram Alpha) solution."
   ]
  },
  {
   "cell_type": "code",
   "execution_count": 11,
   "metadata": {
    "collapsed": false
   },
   "outputs": [
    {
     "data": {
      "image/png": "[encoded data removed]",
      "text/plain": [
       "<matplotlib.figure.Figure at 0x81776a0>"
      ]
     },
     "metadata": {},
     "output_type": "display_data"
    }
   ],
   "source": [
    "c = np.linspace(1e-3, 10, 100)\n",
    "v = velocity(m=82, g=9.81, c=c, t=4)\n",
    "\n",
    "plt.plot(c, v, c='darkgrey', linewidth=3)\n",
    "plt.axhline(36, linestyle='--', c='grey')\n",
    "\n",
    "plt.scatter(3.59, 36, c='k', zorder=10)\n",
    "\n",
    "plt.title('Velocity of Parachutist ($t=4$ (s), $m=82$ (kg))')\n",
    "plt.xlabel('Drag Coefficient (kg/s)')\n",
    "plt.ylabel('Terminal Velocity (m/s)')\n",
    "plt.grid(which='both', linestyle=':')\n",
    "\n",
    "plt.show()"
   ]
  },
  {
   "cell_type": "markdown",
   "metadata": {},
   "source": [
    "Then we can use our newly crafted function to find the exact root."
   ]
  },
  {
   "cell_type": "code",
   "execution_count": 12,
   "metadata": {
    "collapsed": false
   },
   "outputs": [
    {
     "name": "stdout",
     "output_type": "stream",
     "text": [
      "A drag coefficient of 3.59 would produce the above parameters\n"
     ]
    }
   ],
   "source": [
    "func = lambda c: velocity(m=82, g=9.81, c=c, t=4) - 36\n",
    "result = bisection(func, xl=1e-3, xu=10, e_req=0.001)\n",
    "\n",
    "print('A drag coefficient of %.2f would produce the above parameters' % result)"
   ]
  },
  {
   "cell_type": "markdown",
   "metadata": {},
   "source": [
    "## Exercise 3\n",
    "\n",
    "Determine the highest real root of \n",
    "\n",
    "$$\n",
    "    f(x) = x^3 - 6x^2 + 11x - 6.1\n",
    "$$\n",
    "\n",
    "1. Graphically\n",
    "2. Using the `newton_raphson` method (iterate until $\\varepsilon_s=0.1\\%$)"
   ]
  },
  {
   "cell_type": "markdown",
   "metadata": {},
   "source": [
    "Again, we will fire up a quick plot with the known solutions."
   ]
  },
  {
   "cell_type": "code",
   "execution_count": 13,
   "metadata": {
    "collapsed": false
   },
   "outputs": [
    {
     "data": {
      "image/png": "[encoded data removed]",
      "text/plain": [
       "<matplotlib.figure.Figure at 0x814acf8>"
      ]
     },
     "metadata": {},
     "output_type": "display_data"
    }
   ],
   "source": [
    "func = lambda x: np.power(x, 3) - 6 * np.power(x, 2) + 11 * x - 6.1\n",
    "\n",
    "x = np.linspace(0.75, 3.25, 1000)\n",
    "f = func(x)\n",
    "\n",
    "plt.plot(x, f, linewidth=3, c='grey')\n",
    "plt.axhline(0, c='k', linestyle='--', zorder=0, linewidth=1)\n",
    "\n",
    "plt.scatter([1.05425, 1.89897, 3.04668], [0,0,0], c='k', zorder=10)\n",
    "\n",
    "plt.title('$f(x) = x^3 - 6x^2 + 11x -6.1$')\n",
    "plt.ylabel('$f(x)$')\n",
    "plt.xlabel('$x$')\n",
    "\n",
    "plt.grid(which='both', linestyle=':')\n",
    "\n",
    "plt.show()"
   ]
  },
  {
   "cell_type": "markdown",
   "metadata": {},
   "source": [
    "And then use our root finding algorithms to find the highest root."
   ]
  },
  {
   "cell_type": "code",
   "execution_count": 14,
   "metadata": {
    "collapsed": false
   },
   "outputs": [
    {
     "name": "stdout",
     "output_type": "stream",
     "text": [
      "False Position method:\t3.042\n",
      "Bisection method:\t3.048\n",
      "Newton-Raphson method:\t3.047\n"
     ]
    }
   ],
   "source": [
    "func = lambda x: np.power(x, 3) - 6*np.power(x, 2) + 11*x - 6.1\n",
    "func_prime = lambda x: 3*np.power(x, 2) - 12*x + 11\n",
    "\n",
    "print('False Position method:\\t{:.3f}'.format(false_position(func, xl=2.5, xu=4.0)))\n",
    "print('Bisection method:\\t{:.3f}'.format(bisection(func, xl=2.5, xu=4.0)))\n",
    "print('Newton-Raphson method:\\t{:.3f}'.format(newton_raphson(func, func_prime, xi=4.0)))"
   ]
  },
  {
   "cell_type": "markdown",
   "metadata": {},
   "source": [
    "## Exercise 4\n",
    "\n",
    "Use the `newton_raphson` method to find the root of\n",
    "\n",
    "$$\n",
    "    f(x) = \\exp(-0.5x)(4-x)-2\n",
    "$$\n",
    "\n",
    "Employ intial guesses of:\n",
    "\n",
    "1. 2\n",
    "2. 6\n",
    "3. 8\n",
    "\n",
    "Explain your results."
   ]
  },
  {
   "cell_type": "markdown",
   "metadata": {},
   "source": [
    "We can use `sympy` to quickly give us the derivative, $f^\\prime(x)$, we need for the `newton_raphson` method."
   ]
  },
  {
   "cell_type": "code",
   "execution_count": 15,
   "metadata": {
    "collapsed": false
   },
   "outputs": [
    {
     "data": {
      "text/plain": [
       "(0.5*x - 3.0)*exp(-0.5*x)"
      ]
     },
     "execution_count": 15,
     "metadata": {},
     "output_type": "execute_result"
    }
   ],
   "source": [
    "from sympy import *\n",
    "\n",
    "x = symbols('x')\n",
    "diff(exp(-0.5 * x) * (4 - x) - 2, x).simplify()"
   ]
  },
  {
   "cell_type": "markdown",
   "metadata": {},
   "source": [
    "Now we can use the `newton-raphson` in a for loop to find the roots at three different intial conditions.\n",
    "\n",
    "**NOTE: as you probably expect, this function will fail in an infinite loop**. Goto `Kernel` $\\rightarrow$ `Interrupt Kernel` to stop the process."
   ]
  },
  {
   "cell_type": "code",
   "execution_count": 16,
   "metadata": {
    "collapsed": false
   },
   "outputs": [
    {
     "data": {
      "image/png": "[encoded data removed]",
      "text/plain": [
       "<matplotlib.figure.Figure at 0x5cd69e8>"
      ]
     },
     "metadata": {},
     "output_type": "display_data"
    },
    {
     "name": "stdout",
     "output_type": "stream",
     "text": [
      "works\n",
      "0.885708801994\n"
     ]
    },
    {
     "name": "stderr",
     "output_type": "stream",
     "text": [
      "C:\\Anaconda3\\lib\\site-packages\\ipykernel\\__main__.py:9: RuntimeWarning: divide by zero encountered in double_scalars\n",
      "C:\\Anaconda3\\lib\\site-packages\\ipykernel\\__main__.py:4: RuntimeWarning: invalid value encountered in double_scalars\n",
      "C:\\Anaconda3\\lib\\site-packages\\ipykernel\\__main__.py:1: RuntimeWarning: invalid value encountered in double_scalars\n",
      "  if __name__ == '__main__':\n",
      "C:\\Anaconda3\\lib\\site-packages\\ipykernel\\__main__.py:2: RuntimeWarning: invalid value encountered in double_scalars\n",
      "  from ipykernel import kernelapp as app\n"
     ]
    },
    {
     "ename": "KeyboardInterrupt",
     "evalue": "",
     "output_type": "error",
     "traceback": [
      "\u001b[1;31m---------------------------------------------------------------------------\u001b[0m",
      "\u001b[1;31mKeyboardInterrupt\u001b[0m                         Traceback (most recent call last)",
      "\u001b[1;32m<ipython-input-16-66427b605e43>\u001b[0m in \u001b[0;36m<module>\u001b[1;34m()\u001b[0m\n\u001b[0;32m     21\u001b[0m \u001b[1;33m\u001b[0m\u001b[0m\n\u001b[0;32m     22\u001b[0m \u001b[1;32mfor\u001b[0m \u001b[0mxi\u001b[0m \u001b[1;32min\u001b[0m \u001b[1;33m[\u001b[0m\u001b[1;36m2\u001b[0m\u001b[1;33m,\u001b[0m \u001b[1;36m6\u001b[0m\u001b[1;33m,\u001b[0m \u001b[1;36m8\u001b[0m\u001b[1;33m]\u001b[0m\u001b[1;33m:\u001b[0m\u001b[1;33m\u001b[0m\u001b[0m\n\u001b[1;32m---> 23\u001b[1;33m     \u001b[0mprint\u001b[0m\u001b[1;33m(\u001b[0m\u001b[0mnewton_raphson\u001b[0m\u001b[1;33m(\u001b[0m\u001b[0mfunc\u001b[0m\u001b[1;33m,\u001b[0m \u001b[0mfunc_prime\u001b[0m\u001b[1;33m,\u001b[0m \u001b[0mxi\u001b[0m\u001b[1;33m)\u001b[0m\u001b[1;33m)\u001b[0m\u001b[1;33m\u001b[0m\u001b[0m\n\u001b[0m",
      "\u001b[1;32m<ipython-input-3-b73efac33ebd>\u001b[0m in \u001b[0;36mnewton_raphson\u001b[1;34m(func, func_prime, xi, e_req)\u001b[0m\n\u001b[0;32m      7\u001b[0m \u001b[1;33m\u001b[0m\u001b[0m\n\u001b[0;32m      8\u001b[0m         \u001b[1;31m# Computer Newton-Raphson\u001b[0m\u001b[1;33m\u001b[0m\u001b[1;33m\u001b[0m\u001b[0m\n\u001b[1;32m----> 9\u001b[1;33m         \u001b[0mxi\u001b[0m \u001b[1;33m=\u001b[0m \u001b[0mxi\u001b[0m \u001b[1;33m-\u001b[0m \u001b[0mfunc\u001b[0m\u001b[1;33m(\u001b[0m\u001b[0mxi\u001b[0m\u001b[1;33m)\u001b[0m \u001b[1;33m/\u001b[0m \u001b[0mfunc_prime\u001b[0m\u001b[1;33m(\u001b[0m\u001b[0mxi\u001b[0m\u001b[1;33m)\u001b[0m\u001b[1;33m\u001b[0m\u001b[0m\n\u001b[0m\u001b[0;32m     10\u001b[0m \u001b[1;33m\u001b[0m\u001b[0m\n\u001b[0;32m     11\u001b[0m         \u001b[1;31m# Evaluate stopping condition.\u001b[0m\u001b[1;33m\u001b[0m\u001b[1;33m\u001b[0m\u001b[0m\n",
      "\u001b[1;32m<ipython-input-16-66427b605e43>\u001b[0m in \u001b[0;36m<lambda>\u001b[1;34m(x)\u001b[0m\n\u001b[1;32m----> 1\u001b[1;33m \u001b[0mfunc\u001b[0m \u001b[1;33m=\u001b[0m       \u001b[1;32mlambda\u001b[0m \u001b[0mx\u001b[0m\u001b[1;33m:\u001b[0m \u001b[0mnp\u001b[0m\u001b[1;33m.\u001b[0m\u001b[0mexp\u001b[0m\u001b[1;33m(\u001b[0m\u001b[1;33m-\u001b[0m\u001b[1;36m0.5\u001b[0m \u001b[1;33m*\u001b[0m \u001b[0mx\u001b[0m\u001b[1;33m)\u001b[0m \u001b[1;33m*\u001b[0m \u001b[1;33m(\u001b[0m\u001b[1;36m4\u001b[0m \u001b[1;33m-\u001b[0m \u001b[0mx\u001b[0m\u001b[1;33m)\u001b[0m \u001b[1;33m-\u001b[0m \u001b[1;36m2\u001b[0m\u001b[1;33m\u001b[0m\u001b[0m\n\u001b[0m\u001b[0;32m      2\u001b[0m \u001b[0mfunc_prime\u001b[0m \u001b[1;33m=\u001b[0m \u001b[1;32mlambda\u001b[0m \u001b[0mx\u001b[0m\u001b[1;33m:\u001b[0m \u001b[1;33m(\u001b[0m\u001b[1;36m0.5\u001b[0m \u001b[1;33m*\u001b[0m \u001b[0mx\u001b[0m \u001b[1;33m-\u001b[0m \u001b[1;36m3.0\u001b[0m\u001b[1;33m)\u001b[0m \u001b[1;33m*\u001b[0m \u001b[0mnp\u001b[0m\u001b[1;33m.\u001b[0m\u001b[0mexp\u001b[0m\u001b[1;33m(\u001b[0m\u001b[1;33m-\u001b[0m\u001b[1;36m0.5\u001b[0m \u001b[1;33m*\u001b[0m \u001b[0mx\u001b[0m\u001b[1;33m)\u001b[0m\u001b[1;33m\u001b[0m\u001b[0m\n\u001b[0;32m      3\u001b[0m \u001b[1;33m\u001b[0m\u001b[0m\n\u001b[0;32m      4\u001b[0m \u001b[0mx\u001b[0m \u001b[1;33m=\u001b[0m \u001b[0mnp\u001b[0m\u001b[1;33m.\u001b[0m\u001b[0mlinspace\u001b[0m\u001b[1;33m(\u001b[0m\u001b[1;33m-\u001b[0m\u001b[1;36m0\u001b[0m\u001b[1;33m,\u001b[0m \u001b[1;36m10\u001b[0m\u001b[1;33m,\u001b[0m \u001b[1;36m1000\u001b[0m\u001b[1;33m)\u001b[0m\u001b[1;33m\u001b[0m\u001b[0m\n\u001b[0;32m      5\u001b[0m \u001b[0my\u001b[0m \u001b[1;33m=\u001b[0m \u001b[0mfunc\u001b[0m\u001b[1;33m(\u001b[0m\u001b[0mx\u001b[0m\u001b[1;33m)\u001b[0m\u001b[1;33m\u001b[0m\u001b[0m\n",
      "\u001b[1;31mKeyboardInterrupt\u001b[0m: "
     ]
    }
   ],
   "source": [
    "func =       lambda x: np.exp(-0.5 * x) * (4 - x) - 2\n",
    "func_prime = lambda x: (0.5 * x - 3.0) * np.exp(-0.5 * x)\n",
    "\n",
    "x = np.linspace(-0, 10, 1000)\n",
    "y = func(x)\n",
    "\n",
    "plt.plot(x, y, linewidth=3, c='grey')\n",
    "plt.axhline(0, c='k', linestyle='--', zorder=0, linewidth=1)\n",
    "plt.scatter(0.8857, 0, c='k', zorder=10)\n",
    "\n",
    "plt.title('$f(x) = (4-x)e^{-0.5x}-2$')\n",
    "plt.ylabel('$f(x)$')\n",
    "plt.xlabel('$x$')\n",
    "\n",
    "plt.grid(which='both', linestyle=':')\n",
    "\n",
    "plt.show()\n",
    "\n",
    "print('works')\n",
    "\n",
    "\n",
    "for xi in [2, 6, 8]:\n",
    "    print(newton_raphson(func, func_prime, xi))"
   ]
  },
  {
   "cell_type": "markdown",
   "metadata": {},
   "source": [
    "Some of the intial conditions failed to converge on a root. There a couple of things to notice here.\n",
    "\n",
    "1. Initial guess 2 worked, but 6 and 8 did not.\n",
    "2. At approximately $x=6$ the function slope upward\n",
    "3. There is only one root, despite the change in slope\n",
    "\n",
    "The `newton-rhapson` is essentially a hill-climbing root finding algorithm. For this reason, it attempt to climb the function at any point $x\\ge6$ and therefore moves further and further from the root.\n",
    "\n",
    "Unlikely the bracketing methods, which have the ability to recognize their interval lacks a root (or has multiple roots), open methods don't provide this security, and may diverge (crash...)"
   ]
  }
 ],
 "metadata": {
  "kernelspec": {
   "display_name": "Python [Root]",
   "language": "python",
   "name": "Python [Root]"
  },
  "language_info": {
   "codemirror_mode": {
    "name": "ipython",
    "version": 3
   },
   "file_extension": ".py",
   "mimetype": "text/x-python",
   "name": "python",
   "nbconvert_exporter": "python",
   "pygments_lexer": "ipython3",
   "version": "3.5.2"
  }
 },
 "nbformat": 4,
 "nbformat_minor": 2
}
