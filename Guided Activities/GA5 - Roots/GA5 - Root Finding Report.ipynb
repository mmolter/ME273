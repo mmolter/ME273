{
 "cells": [
  {
   "cell_type": "markdown",
   "metadata": {},
   "source": [
    "# GA5 - Roots\n",
    "### M. Molter\n",
    "#### Tuesday, 11 April 2018"
   ]
  },
  {
   "cell_type": "code",
   "execution_count": 2,
   "metadata": {},
   "outputs": [],
   "source": [
    "import matplotlib.pyplot as plt\n",
    "import numpy as np"
   ]
  },
  {
   "cell_type": "code",
   "execution_count": 192,
   "metadata": {},
   "outputs": [],
   "source": [
    "def bracketing_method(func, next_point, xl, xu, e_req):\n",
    "    xm = next_point(xl, xu)\n",
    "    \n",
    "    while True:   \n",
    "        yl, ym, yu = func(xl), func(xm), func(xu)\n",
    "        \n",
    "        # Set new point to point of same sign.\n",
    "        if np.sign(yl) == np.sign(ym):    \n",
    "            xl = xm \n",
    "        elif np.sign(yu) == np.sign(ym):  \n",
    "            xu = xm\n",
    "        else: \n",
    "            raise ValueError('Interval (%s, %s) does not contain root' \n",
    "                             % (xl, xu))\n",
    "        \n",
    "        # Check if stopping condition reached.\n",
    "        new_xm = next_point(xl, xu)\n",
    "        if approximate_error(new_xm, xm) < e_req:\n",
    "            return new_xm\n",
    "        else:\n",
    "            xm = new_xm"
   ]
  },
  {
   "cell_type": "code",
   "execution_count": 189,
   "metadata": {},
   "outputs": [],
   "source": [
    "def bisection(func, xl, xu, e_req=0.001):\n",
    "    ''' Find root of `func` within interval (xl, xu) using bisection. \n",
    "    \n",
    "        Args:\n",
    "        \n",
    "            func (func):    function to find roots fo\n",
    "            xl (float):     lower bound \n",
    "            xu (float):     upper bound\n",
    "            e_req (int):    required approximate error\n",
    "            \n",
    "        Return:\n",
    "        \n",
    "            float:          root of func within interval.\n",
    "    '''\n",
    "\n",
    "    xl, xu = float(xl), float(xu)\n",
    "    next_point = lambda xl, xu: (xu + xl) / 2.0\n",
    "    \n",
    "    return bracketing_method(func, next_point, xl, xu, e_req)"
   ]
  },
  {
   "cell_type": "code",
   "execution_count": 190,
   "metadata": {},
   "outputs": [],
   "source": [
    "def false_position(func, xl, xu, e_req=0.001):\n",
    "    ''' Find root of `func` within interval (xl, xu) using false position. \n",
    "    \n",
    "        Args:\n",
    "        \n",
    "            func (func):    function to find roots fo\n",
    "            xl (float):     lower bound \n",
    "            xu (float):     upper bound\n",
    "            e_req (int):    required approximate error\n",
    "            \n",
    "        Return:\n",
    "        \n",
    "            float:          root of func within interval.\n",
    "    '''\n",
    "    \n",
    "    xl, xu = float(xl), float(xu)\n",
    "    next_point = lambda xl, xu: xu - ((func(xu)*(xl - xu))/(func(xl) - func(xu)))\n",
    "    \n",
    "    return bracketing_method(func, next_point, xl, xu, e_req)"
   ]
  },
  {
   "cell_type": "code",
   "execution_count": 184,
   "metadata": {},
   "outputs": [],
   "source": [
    "def approximate_error(new, old):\n",
    "    ''' Return approximate error given old and new values. '''\n",
    "    \n",
    "    return np.abs(new - old) / new"
   ]
  },
  {
   "cell_type": "code",
   "execution_count": 191,
   "metadata": {},
   "outputs": [
    {
     "name": "stdout",
     "output_type": "stream",
     "text": [
      "6.70741936596\n",
      "6.7041015625\n"
     ]
    }
   ],
   "source": [
    "func = lambda x: x**2 - 45\n",
    "print false_position(func, xl=0, xu=10)\n",
    "print      bisection(func, xl=0, xu=10)"
   ]
  },
  {
   "cell_type": "markdown",
   "metadata": {},
   "source": [
    "## Exercise 1 \n",
    "\n",
    "The velocity, $v$, of a falling parachutists is given by\n",
    "\n",
    "$$\n",
    "    v = \\frac{mg}{c} \\left[ 1 - \\exp \\left( -\\frac{c}{m}t \\right) \\right]\n",
    "$$\n",
    "\n",
    "where $g = 9.81$ $m/s^2$. For a parachutist with a drag coefficient of $c=15$ $kg/s$, compute the mass, $m$, so that the velocity is $v=36$ $m/s$ at $t=10$ $s$. Use the `false_position` method to determine $m$ to a level of $\\varepsilon_a =0.1\\%$\n",
    "\n"
   ]
  },
  {
   "cell_type": "code",
   "execution_count": 28,
   "metadata": {},
   "outputs": [],
   "source": [
    "def velocity(m, g, c, t):\n",
    "    ''' Return velocity of parachutist at time, t. '''\n",
    "    \n",
    "    return m*g/c * (1 - np.exp(-c*t/m))"
   ]
  },
  {
   "cell_type": "code",
   "execution_count": null,
   "metadata": {},
   "outputs": [],
   "source": []
  },
  {
   "cell_type": "markdown",
   "metadata": {},
   "source": [
    "## Exercise 2\n",
    "\n",
    "Use `bisection` to determine the drag coefficient needed so that an $82$ $kg$ parachutist has a velocity of $36$ $m/s$ after $4$ $s$ of free fall. Iterate unitl the approximate relative error falls below $0.1\\%$. Also perform an error check by substituting your ifnal answer into the original equation."
   ]
  },
  {
   "cell_type": "code",
   "execution_count": 64,
   "metadata": {},
   "outputs": [
    {
     "data": {
      "image/png": "[encoded data removed]",
      "text/plain": [
       "<matplotlib.figure.Figure at 0x7f6724155250>"
      ]
     },
     "metadata": {},
     "output_type": "display_data"
    }
   ],
   "source": [
    "c = np.linspace(1e-3, 10, 100)\n",
    "v = velocity(m=82, g=9.80665, c=c, t=4)\n",
    "\n",
    "plt.plot(c, v, c='darkgrey', linewidth=3)\n",
    "plt.axhline(36, linestyle='--', c='grey')\n",
    "\n",
    "plt.scatter(3.569979, 36, c='k', zorder=10)\n",
    "\n",
    "plt.title('Velocity of Parachutist ($t=4$ (s), $m=82$ (kg))')\n",
    "plt.xlabel('Drag Coefficient (kg/s)')\n",
    "plt.ylabel('Terminal Velocity (m/s)')\n",
    "plt.grid(which='both', linestyle=':')\n",
    "\n",
    "plt.show()"
   ]
  },
  {
   "cell_type": "code",
   "execution_count": 102,
   "metadata": {},
   "outputs": [
    {
     "data": {
      "text/plain": [
       "3.5724201660156245"
      ]
     },
     "execution_count": 102,
     "metadata": {},
     "output_type": "execute_result"
    }
   ],
   "source": [
    "func = lambda c: velocity(m=82, g=9.80665, c=c, t=4) - 36\n",
    "\n",
    "bisection(func, xl=1e-3, xu=10, e_req=0.001)"
   ]
  },
  {
   "cell_type": "markdown",
   "metadata": {},
   "source": [
    "## Exercise 3\n",
    "\n",
    "Determine the highest real root of \n",
    "\n",
    "$$\n",
    "    f(x) = x^3 - 6x^2 + 11x - 6.1\n",
    "$$\n",
    "\n",
    "1. Graphically\n",
    "2. Using the `newton_raphson` method (iterate until $\\varepsilon_s=0.1\\%$)"
   ]
  },
  {
   "cell_type": "code",
   "execution_count": 68,
   "metadata": {},
   "outputs": [
    {
     "data": {
      "image/png": "[encoded data removed]",
      "text/plain": [
       "<matplotlib.figure.Figure at 0x7f6723a5dd10>"
      ]
     },
     "metadata": {},
     "output_type": "display_data"
    }
   ],
   "source": [
    "func = lambda x: np.power(x, 3) - 6 * np.power(x, 2) + 11 * x - 6.1\n",
    "\n",
    "x = np.linspace(0.75, 3.25, 1000)\n",
    "f = func(x)\n",
    "\n",
    "plt.plot(x, f, linewidth=3, c='grey')\n",
    "plt.axhline(0, c='k', linestyle='--', zorder=0, linewidth=1)\n",
    "\n",
    "plt.scatter([1.05425, 1.89897, 3.04668], [0,0,0], c='k', zorder=10)\n",
    "\n",
    "plt.title('$f(x) = x^3 - 6x^2 + 11x -6.1$')\n",
    "plt.ylabel('$f(x)$')\n",
    "plt.xlabel('$x$')\n",
    "\n",
    "plt.grid(which='both', linestyle=':')\n",
    "\n",
    "plt.show()"
   ]
  },
  {
   "cell_type": "markdown",
   "metadata": {},
   "source": [
    "## Exercise 4\n",
    "\n",
    "Use the `newton_raphson` method to find the root of\n",
    "\n",
    "$$\n",
    "    f(x) = \\exp(-0.5x)(4-x)-2\n",
    "$$\n",
    "\n",
    "Employ intial guesses of:\n",
    "\n",
    "1. 2\n",
    "2. 6\n",
    "3. 8\n",
    "\n",
    "Explain your results."
   ]
  }
 ],
 "metadata": {
  "kernelspec": {
   "display_name": "Python 2",
   "language": "python",
   "name": "python2"
  },
  "language_info": {
   "codemirror_mode": {
    "name": "ipython",
    "version": 2
   },
   "file_extension": ".py",
   "mimetype": "text/x-python",
   "name": "python",
   "nbconvert_exporter": "python",
   "pygments_lexer": "ipython2",
   "version": "2.7.14"
  }
 },
 "nbformat": 4,
 "nbformat_minor": 2
}
