{
 "cells": [
  {
   "cell_type": "markdown",
   "metadata": {},
   "source": [
    "## Exercise 1 \n",
    "### Gause Elimination\n",
    "\n",
    "Consider the following system of linear equations.\n",
    "\n",
    "$$27.6x_1 + 123.5x_2 - 97.8x_3 = -11$$\n",
    "$$45.5x_1 + 100.3x_2 + 2.1x_3 = 744.3$$\n",
    "$$1.2x_1 + 67.3x_2 + 99.4x_3 = 7.7$$\n",
    "\n",
    "Solve the systems for $x_1$, $x_2$, and $x_3$ using **Gaus elimination**. You will, unfortunetly, have to write the solution out by hand (with the aid of a calculator!); but, the good news: this is the only assignment in ME273 this semester that requires a good 'ol fashioned pencil and paper (ha...) effor! Since Hon. Prof. wants you to submit a .pdf of your GA report, can you create a digital copy of your solution for this exercises and include it in your single pdf?"
   ]
  },
  {
   "cell_type": "markdown",
   "metadata": {},
   "source": [
    "## Exercise 2\n",
    "### Cramer's Rule\n",
    "\n",
    "Express the system of equations in the form\n",
    "\n",
    "$$\\vec{A} \\vec{x} = \\vec{b}$$\n",
    "\n",
    "Solve the system of equations above using Cramer's Rule. Write the solution as a script and describe the output in your report."
   ]
  },
  {
   "cell_type": "markdown",
   "metadata": {},
   "source": [
    "## Excersice 3\n",
    "### Inverse of A\n",
    "\n",
    "Use the inverse of $\\vec{A}$ to calculate the solution vector, $\\vec{x}$, for the system of equations. Include this inverse calculation in the same script you created for Exercise 2."
   ]
  },
  {
   "cell_type": "markdown",
   "metadata": {},
   "source": [
    "## Exercise 4\n",
    "### Optimized MATLAB (Python) Solution\n",
    "\n",
    "Calculate the solution vector via optimized MATLAB (Python) solution for a system of equations. Compre the results of each of these methods and comment appropriately. Incluce this cacluation in the same script you created for Exercises 2 and 3."
   ]
  },
  {
   "cell_type": "markdown",
   "metadata": {},
   "source": [
    "## Exercise 5\n",
    "### Large Matrix\n",
    "\n",
    "Create a large matrix, $\\vec{A}$, comprised of elements randomly generated from $\\pm 100$, and a corresponding vector $\\vec{b}$, whose elements are also randomly generated in the same range. Calculate the solution vector $\\vec{x}$ for this system of equations via the matrix inverse method and the optimized MATLAB (Python) method, and compare the results. \"Large\" means a matrix sufficiently large to require at least a few minutes of run time. To make the comparison, define another matrix that calculates the difference between the two solution, and ouptut the minimum and macimum of this difference matrix. Comment on the result."
   ]
  }
 ],
 "metadata": {
  "kernelspec": {
   "display_name": "Python 3",
   "language": "python",
   "name": "python3"
  },
  "language_info": {
   "codemirror_mode": {
    "name": "ipython",
    "version": 3
   },
   "file_extension": ".py",
   "mimetype": "text/x-python",
   "name": "python",
   "nbconvert_exporter": "python",
   "pygments_lexer": "ipython3",
   "version": "3.5.2"
  }
 },
 "nbformat": 4,
 "nbformat_minor": 2
}
