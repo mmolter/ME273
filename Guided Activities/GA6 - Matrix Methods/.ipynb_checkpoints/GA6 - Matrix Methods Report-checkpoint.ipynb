{
 "cells": [
  {
   "cell_type": "markdown",
   "metadata": {},
   "source": [
    "# GA6 - Matrix Methods\n",
    "### M. Molter\n",
    "\n",
    "This looks to be the last Guided Activity of the ME273 semester. While MATLAB was specifically designed for performing matrix operations, I think the modern [`numpy`](https://docs.scipy.org/doc/numpy-dev/user/numpy-for-matlab-users.html) python libraries will give MATLAB a run for its (very large sum of) money. Numpy is a [wraper](https://docs.scipy.org/doc/numpy-1.10.0/user/c-info.python-as-glue.html) for down-to-the-metal `FORTRAN` and `C` methods.\n",
    "\n",
    "Further, Jupyter Notebook has a number of built-in [`magic`](http://ipython.readthedocs.io/en/stable/interactive/magics.html) methods to help with code timing. Today we will be working with `%timeit` and `%%timeit` (the multi-line cousin). These decorators will run the line of code 3 to 1000 times (depending on computational intensity) and report the mean, worst, and best-case runtimes.\n",
    "\n",
    "While we are here, lets get the required libraries imported."
   ]
  },
  {
   "cell_type": "code",
   "execution_count": 1,
   "metadata": {},
   "outputs": [],
   "source": [
    "import numpy as np"
   ]
  },
  {
   "cell_type": "markdown",
   "metadata": {},
   "source": [
    "## Exercise 1 \n",
    "### Gause Elimination\n",
    "\n",
    "Consider the following system of linear equations.\n",
    "\n",
    "$$27.6x_1 + 123.5x_2 - 97.8x_3 = -11$$\n",
    "$$45.5x_1 + 100.3x_2 + 2.1x_3 = 744.3$$\n",
    "$$1.2x_1 + 67.3x_2 + 99.4x_3 = 7.7$$\n",
    "\n",
    "Solve the systems for $x_1$, $x_2$, and $x_3$ using **Gaus elimination**. You will, unfortunetly, have to write the solution out by hand (with the aid of a calculator!); but, the good news: this is the only assignment in ME273 this semester that requires a good 'ol fashioned pencil and paper (ha...) effor! Since Hon. Prof. wants you to submit a .pdf of your GA report, can you create a digital copy of your solution for this exercises and include it in your single pdf?"
   ]
  },
  {
   "cell_type": "markdown",
   "metadata": {},
   "source": [
    "## Exercise 2\n",
    "### Cramer's Rule\n",
    "\n",
    "Express the system of equations in the form\n",
    "\n",
    "$$\\vec{A} \\vec{x} = \\vec{b}$$\n",
    "\n",
    "Solve the system of equations above using Cramer's Rule. Write the solution as a script and describe the output in your report."
   ]
  },
  {
   "cell_type": "markdown",
   "metadata": {},
   "source": [
    "### Solution\n",
    "\n",
    "First up, lets get the matricies into Python."
   ]
  },
  {
   "cell_type": "code",
   "execution_count": 16,
   "metadata": {},
   "outputs": [],
   "source": [
    "A = np.asarray([[27.6, 123.5, -97.8],\n",
    "                [45.5, 100.3,   2.1],\n",
    "                [ 1.2,  67.3,  99.4]])\n",
    "\n",
    "b = np.asarray([[-11.0],\n",
    "                [744.3],\n",
    "                [  7.7]])"
   ]
  },
  {
   "cell_type": "markdown",
   "metadata": {},
   "source": [
    "## Excersice 3\n",
    "### Inverse of A\n",
    "\n",
    "Use the inverse of $\\vec{A}$ to calculate the solution vector, $\\vec{x}$, for the system of equations. Include this inverse calculation in the same script you created for Exercise 2."
   ]
  },
  {
   "cell_type": "markdown",
   "metadata": {},
   "source": [
    "#### Solution \n",
    "\n",
    "The numpy code here is pretty much explains itself. We are essentially performing the following operation:\n",
    "\n",
    "$$\\vec{A} \\vec{x} = \\vec{b}$$\n",
    "$$(\\vec{A})^{-1}\\vec{A} \\vec{x} = \\vec{I} \\vec{x} =  (\\vec{A})^{-1}\\vec{b}=\\vec{x}$$\n",
    "\n"
   ]
  },
  {
   "cell_type": "code",
   "execution_count": 5,
   "metadata": {},
   "outputs": [
    {
     "data": {
      "text/plain": [
       "array([[-0.01710246,  0.03281434, -0.01752043],\n",
       "       [ 0.00786552, -0.00497805,  0.00784408],\n",
       "       [-0.00511898,  0.0029743 ,  0.00496094]])"
      ]
     },
     "execution_count": 5,
     "metadata": {},
     "output_type": "execute_result"
    }
   ],
   "source": [
    "A_inv = np.linalg.inv(A)\n",
    "A_inv"
   ]
  },
  {
   "cell_type": "code",
   "execution_count": 13,
   "metadata": {},
   "outputs": [
    {
     "data": {
      "text/plain": [
       "array([[24.47693002],\n",
       "       [-3.73128319],\n",
       "       [ 2.30828011]])"
      ]
     },
     "execution_count": 13,
     "metadata": {},
     "output_type": "execute_result"
    }
   ],
   "source": [
    "x = np.dot(A_inv, b)\n",
    "x"
   ]
  },
  {
   "cell_type": "markdown",
   "metadata": {},
   "source": [
    "## Exercise 4\n",
    "### Optimized MATLAB (Python) Solution\n",
    "\n",
    "Calculate the solution vector via optimized MATLAB (Python) solution for a system of equations. Compre the results of each of these methods and comment appropriately. Incluce this cacluation in the same script you created for Exercises 2 and 3."
   ]
  },
  {
   "cell_type": "code",
   "execution_count": 18,
   "metadata": {},
   "outputs": [
    {
     "name": "stdout",
     "output_type": "stream",
     "text": [
      "9.74 µs ± 818 ns per loop (mean ± std. dev. of 7 runs, 100000 loops each)\n"
     ]
    },
    {
     "data": {
      "text/plain": [
       "array([[24.47693002],\n",
       "       [-3.73128319],\n",
       "       [ 2.30828011]])"
      ]
     },
     "execution_count": 18,
     "metadata": {},
     "output_type": "execute_result"
    }
   ],
   "source": [
    "%timeit x = np.linalg.solve(A, b)\n",
    "x"
   ]
  },
  {
   "cell_type": "markdown",
   "metadata": {},
   "source": [
    "## Exercise 5\n",
    "### Large Matrix\n",
    "\n",
    "Create a large matrix, $\\vec{A}$, comprised of elements randomly generated from $\\pm 100$, and a corresponding vector $\\vec{b}$, whose elements are also randomly generated in the same range. Calculate the solution vector $\\vec{x}$ for this system of equations via the matrix inverse method and the optimized MATLAB (Python) method, and compare the results. \"Large\" means a matrix sufficiently large to require at least a few minutes of run time. To make the comparison, define another matrix that calculates the difference between the two solution, and ouptut the minimum and macimum of this difference matrix. Comment on the result."
   ]
  },
  {
   "cell_type": "code",
   "execution_count": 35,
   "metadata": {},
   "outputs": [
    {
     "name": "stdout",
     "output_type": "stream",
     "text": [
      "22.8 s ± 4.94 s per loop (mean ± std. dev. of 7 runs, 1 loop each)\n"
     ]
    }
   ],
   "source": [
    "n = int(10e3)\n",
    "\n",
    "A = 200 * np.random.random_sample((n, n)) - 100\n",
    "b = 200 * np.random.random_sample((n, 1)) - 100\n",
    "\n",
    "%timeit x = np.linalg.solve(A, b)"
   ]
  },
  {
   "cell_type": "markdown",
   "metadata": {},
   "source": [
    "Even when performing operations on an $10,000 \\times 10,000$ matrix, the computation time only averages 22.8 (s). I'm not going to go much further than that because the mechanism for the slowdown is machine dependent, not algorithm dependent.\n",
    "\n",
    "Numpy is ultrafast. That is...until your arrays become larger than the avaiable RAM. Then your operating system has to start stashing some of those RAM addresses on the drive--and those `cache misses` are extremely expensive in terms of wasted clock cycles. \n",
    "\n",
    "While a proces can hit the L1 cache in just a few cycles, hitting the RAM takes dozens of cycles. Hitting the drive can take miliseconds!\n",
    "\n",
    "While I *could* push the limits, make the matricies larger, they would only slow down the operation my user-grade Surface Pro 4 (only has 4 GB RAM). If I pushed the operation onto our production server at work (64 GB RAM), even though the process is *slower* (through-put is different), the matrix operations would complete almost instantaneously."
   ]
  }
 ],
 "metadata": {
  "kernelspec": {
   "display_name": "Python 3",
   "language": "python",
   "name": "python3"
  },
  "language_info": {
   "codemirror_mode": {
    "name": "ipython",
    "version": 3
   },
   "file_extension": ".py",
   "mimetype": "text/x-python",
   "name": "python",
   "nbconvert_exporter": "python",
   "pygments_lexer": "ipython3",
   "version": "3.5.2"
  }
 },
 "nbformat": 4,
 "nbformat_minor": 2
}
