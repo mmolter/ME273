{
 "cells": [
  {
   "cell_type": "markdown",
   "metadata": {},
   "source": [
    "# GA6 - Matrix Methods\n",
    "### M. Molter\n",
    "\n",
    "This looks to be the last Guided Activity of the ME273 semester. While MATLAB was specifically designed for performing matrix operations, I think the modern [`numpy`](https://docs.scipy.org/doc/numpy-dev/user/numpy-for-matlab-users.html) python libraries will give MATLAB a run for its (very large sum of) money. Numpy is a [wraper](https://docs.scipy.org/doc/numpy-1.10.0/user/c-info.python-as-glue.html) for down-to-the-metal `FORTRAN` and `C` methods.\n",
    "\n",
    "Further, Jupyter Notebook has a number of built-in [`magic`](http://ipython.readthedocs.io/en/stable/interactive/magics.html) methods to help with code timing. Today we will be working with `%timeit` and `%%timeit` (the multi-line cousin). These decorators will run the line of code 3 to 1000 times (depending on computational intensity) and report the mean, worst, and best-case runtimes.\n",
    "\n",
    "While we are here, lets get the required libraries imported."
   ]
  },
  {
   "cell_type": "code",
   "execution_count": 1,
   "metadata": {},
   "outputs": [],
   "source": [
    "import numpy as np"
   ]
  },
  {
   "cell_type": "markdown",
   "metadata": {},
   "source": [
    "## Exercise 1 \n",
    "### Gause Elimination\n",
    "\n",
    "Consider the following system of linear equations.\n",
    "\n",
    "$$27.6x_1 - 123.5x_2 - 97.8x_3 = -11$$\n",
    "$$45.5x_1 + 100.3x_2 + 2.1x_3 = 744.3$$\n",
    "$$1.2x_1 + 67.3x_2 + 99.4x_3 = 7.7$$\n",
    "\n",
    "Solve the systems for $x_1$, $x_2$, and $x_3$ using **Gaus elimination**. You will, unfortunetly, have to write the solution out by hand (with the aid of a calculator!); but, the good news: this is the only assignment in ME273 this semester that requires a good 'ol fashioned pencil and paper (ha...) effor! Since Hon. Prof. wants you to submit a .pdf of your GA report, can you create a digital copy of your solution for this exercises and include it in your single pdf?\n",
    "\n",
    "#### Solution\n",
    "\n",
    "The first step is to put this system of equations in matrix form:\n",
    "\n",
    "$$\n",
    "\\begin{bmatrix}\n",
    "    27.6  &  -123.5  &  -97.8  \\\\\n",
    "    45.5  &   100.3  &    2.1  \\\\\n",
    "     1.2  &    67.3  &   99.4  \\\\\n",
    "\\end{bmatrix}\n",
    "\\begin{bmatrix}\n",
    "    x_1  \\\\\n",
    "    x_2  \\\\\n",
    "    x_3  \\\\\n",
    "\\end{bmatrix}\n",
    "=\n",
    "\\begin{bmatrix}\n",
    "    -11 \\\\\n",
    "    744.3 \\\\\n",
    "    7.7 \\\\\n",
    "\\end{bmatrix}\n",
    "$$\n",
    "\n",
    "We can now add rows to one another, and multiply rows by constants. The goal is to get a matrix $A$ of the form:\n",
    "\n",
    "$$\n",
    "\\begin{bmatrix}\n",
    "    1 & A & B \\\\\n",
    "    0 & 1 & C \\\\\n",
    "    0 & 0 & 1 \\\\\n",
    "\\end{bmatrix}\n",
    "$$\n",
    "\n",
    "Now we start manipulating the matrix.\n",
    "\n",
    "$$\\frac{1}{27.6}R_1 \\rightarrow R_1$$\n",
    "$$\\frac{1}{45.5}R_2 \\rightarrow R_2$$\n",
    "$$\\frac{1}{1.2}R_3 \\rightarrow R_3$$\n",
    "\n",
    "$$\n",
    "\\begin{bmatrix}\n",
    "     1  &    -4.47464   &   -3.54348   \\\\\n",
    "     1  &     2.204396  &    0.046154  \\\\\n",
    "     1  &    56.083333  &   82.833333  \\\\\n",
    "\\end{bmatrix}\n",
    "\\begin{bmatrix}\n",
    "    x_1  \\\\\n",
    "    x_2  \\\\\n",
    "    x_3  \\\\\n",
    "\\end{bmatrix}\n",
    "=\n",
    "\\begin{bmatrix}\n",
    "    -0.39855 \\\\\n",
    "    16.35824 \\\\\n",
    "     6.41667 \\\\\n",
    "\\end{bmatrix}\n",
    "$$\n",
    "\n",
    "$$R_2 - R_1 \\rightarrow R_2$$\n",
    "$$R_3 - R_1 \\rightarrow R_3$$\n",
    "\n",
    "$$\n",
    "\\begin{bmatrix}\n",
    "     1  &    -4.47464   &   -3.54348   \\\\\n",
    "     0  &     6.679033  &    3.589632  \\\\\n",
    "     0  &    60.55797   &   86.37681  \\\\\n",
    "\\end{bmatrix}\n",
    "\\begin{bmatrix}\n",
    "    x_1  \\\\\n",
    "    x_2  \\\\\n",
    "    x_3  \\\\\n",
    "\\end{bmatrix}\n",
    "=\n",
    "\\begin{bmatrix}\n",
    "    -0.39855 \\\\\n",
    "    16.75679 \\\\\n",
    "     6.815217 \\\\\n",
    "\\end{bmatrix}\n",
    "$$\n",
    "\n",
    "$$\\frac{1}{6.679033}R_2 \\rightarrow R_2$$\n",
    "$$\\frac{1}{60.55797}R_3 \\rightarrow R_3$$\n",
    "\n",
    "$$\n",
    "\\begin{bmatrix}\n",
    "     1  &    -4.47464   &   -3.54348   \\\\\n",
    "     0  &     1         &    0.537448  \\\\\n",
    "     0  &     1         &    1.426349  \\\\\n",
    "\\end{bmatrix}\n",
    "\\begin{bmatrix}\n",
    "    x_1  \\\\\n",
    "    x_2  \\\\\n",
    "    x_3  \\\\\n",
    "\\end{bmatrix}\n",
    "=\n",
    "\\begin{bmatrix}\n",
    "    -0.39855  \\\\\n",
    "     2.508865 \\\\\n",
    "     0.112540 \\\\\n",
    "\\end{bmatrix}\n",
    "$$\n",
    "\n",
    "$$R_3 - R_2 \\rightarrow R_3$$\n",
    "\n",
    "$$\n",
    "\\begin{bmatrix}\n",
    "     1  &    -4.47464   &   -3.54348   \\\\\n",
    "     0  &     1         &    0.537448  \\\\\n",
    "     0  &     0         &    0.888901  \\\\\n",
    "\\end{bmatrix}\n",
    "\\begin{bmatrix}\n",
    "    x_1  \\\\\n",
    "    x_2  \\\\\n",
    "    x_3  \\\\\n",
    "\\end{bmatrix}\n",
    "=\n",
    "\\begin{bmatrix}\n",
    "    -0.39855  \\\\\n",
    "     2.508865 \\\\\n",
    "    -2.39632 \\\\\n",
    "\\end{bmatrix}\n",
    "$$\n",
    "\n",
    "$$\\frac{1}{0.888901}R_3 \\rightarrow R_3$$\n",
    "\n",
    "$$\n",
    "\\begin{bmatrix}\n",
    "     1  &    -4.47464   &   -3.54348   \\\\\n",
    "     0  &     1         &    0.537448  \\\\\n",
    "     0  &     0         &    1         \\\\\n",
    "\\end{bmatrix}\n",
    "\\begin{bmatrix}\n",
    "    x_1  \\\\\n",
    "    x_2  \\\\\n",
    "    x_3  \\\\\n",
    "\\end{bmatrix}\n",
    "=\n",
    "\\begin{bmatrix}\n",
    "    -0.39855  \\\\\n",
    "     2.508865 \\\\\n",
    "    -2.69583 \\\\\n",
    "\\end{bmatrix}\n",
    "$$\n",
    "\n",
    "Now that we have the matrix in the proper form, we revert to simple substitution to find the solutions.\n",
    "\n",
    "$$x_3 = -2.69583$$\n",
    "\n",
    "$$x_2 + 0.537448 x_3 = 2.508865$$\n",
    "$$x_2 = 2.508865 - 0.537448 x_3 = 2.508865 - 0.537448 (-2.69583) = 3.957733$$\n",
    "\n",
    "$$x_1 - 4.47464 x_2 - 3.54348 x_3 = -0.39855$$\n",
    "$$x_1 = -0.39855 + 4.47464 x_2 + 3.54348 x_3 = -0.39855 + 4.47464 (3.95773) + 3.54348 (-2.69583) = 7..758247$$\n",
    "\n",
    "Substiting these back into $x$, we get:\n",
    "\n",
    "$$x = \\begin{bmatrix} 7.758247 \\\\ 3.957733 \\\\ -2.69583 \\end{bmatrix}$$\n",
    "\n",
    "The correct answer (as verified by the later exercises)."
   ]
  },
  {
   "cell_type": "markdown",
   "metadata": {},
   "source": [
    "## Exercise 2\n",
    "### Cramer's Rule\n",
    "\n",
    "Express the system of equations in the form\n",
    "\n",
    "$$\\vec{A} \\vec{x} = \\vec{b}$$\n",
    "\n",
    "Solve the system of equations above using Cramer's Rule. Write the solution as a script and describe the output in your report."
   ]
  },
  {
   "cell_type": "markdown",
   "metadata": {},
   "source": [
    "### Solution\n",
    "\n",
    "First up, lets get the matricies into Python."
   ]
  },
  {
   "cell_type": "code",
   "execution_count": 10,
   "metadata": {},
   "outputs": [],
   "source": [
    "A = np.asarray([[27.6, -123.5, -97.8],\n",
    "                [45.5,  100.3,   2.1],\n",
    "                [ 1.2,   67.3,  99.4]])\n",
    "\n",
    "b = np.asarray([[-11.0],\n",
    "                [744.3],\n",
    "                [  7.7]])"
   ]
  },
  {
   "cell_type": "markdown",
   "metadata": {},
   "source": [
    "[**Cramer's rule**](https://en.wikipedia.org/wiki/Cramer%27s_rule) is an algorithm that can determine the solution to individual $x_i$ variables. \n",
    "\n",
    "It takes a matrix equation fo the form:\n",
    "\n",
    "$$\\vec{A} \\vec{x} = \\vec{b}$$\n",
    "\n",
    "An returns indiviual solutions accroding to:\n",
    "\n",
    "$$x_i = \\frac{\\det(A_i)}{\\det(A)}$$\n",
    "\n",
    "Where $A_i$ is $A$ with the i-th column replaced by the column vector $b$."
   ]
  },
  {
   "cell_type": "code",
   "execution_count": 11,
   "metadata": {},
   "outputs": [
    {
     "name": "stdout",
     "output_type": "stream",
     "text": [
      "49.1 µs ± 4.98 µs per loop (mean ± std. dev. of 7 runs, 10000 loops each)\n",
      "[[ 7.75825837]\n",
      " [ 3.95773162]\n",
      " [-2.69582745]]\n"
     ]
    }
   ],
   "source": [
    "def cramer(A, b):\n",
    "    ''' Return x for sytem Ax = b using Cramer's rule. '''\n",
    "    \n",
    "    # Grab the determinant of A.\n",
    "    det_A = np.linalg.det(A)\n",
    "\n",
    "    # Count columns in A.\n",
    "    columns = A.shape[1]\n",
    "\n",
    "    # Create result array of size `columns`.\n",
    "    x = np.empty((columns, 1))\n",
    "\n",
    "    # Perform Cramer rule on each element of solution array.\n",
    "    for i in range(columns):\n",
    "\n",
    "        # Deep copy (i.e. no referencing) A into A_i.\n",
    "        A_i = np.copy(A)\n",
    "\n",
    "        # Replace column i of A_i with vector b.\n",
    "        A_i[:, i] = b.reshape(columns)\n",
    "\n",
    "        # Get the deteminant of A_i.\n",
    "        det_A_i = np.linalg.det(A_i)\n",
    "\n",
    "        # Calculate the result element x_i and put it in x.\n",
    "        x_i = det_A_i / det_A\n",
    "        x[i] = x_i\n",
    "        \n",
    "    return x\n",
    "\n",
    "x = cramer(A, b)\n",
    "%timeit x = cramer(A, b)\n",
    "print(x)"
   ]
  },
  {
   "cell_type": "markdown",
   "metadata": {},
   "source": [
    "## Excersice 3\n",
    "### Inverse of A\n",
    "\n",
    "Use the inverse of $\\vec{A}$ to calculate the solution vector, $\\vec{x}$, for the system of equations. Include this inverse calculation in the same script you created for Exercise 2."
   ]
  },
  {
   "cell_type": "markdown",
   "metadata": {},
   "source": [
    "#### Solution \n",
    "\n",
    "The numpy code here is pretty much explains itself. We are essentially performing the following operation:\n",
    "\n",
    "$$\\vec{A} \\vec{x} = \\vec{b}$$\n",
    "$$(\\vec{A})^{-1}\\vec{A} \\vec{x} = \\vec{I} \\vec{x} =  (\\vec{A})^{-1}\\vec{b}=\\vec{x}$$\n",
    "\n"
   ]
  },
  {
   "cell_type": "code",
   "execution_count": 12,
   "metadata": {},
   "outputs": [
    {
     "data": {
      "text/plain": [
       "array([[ 0.01814039,  0.01050931,  0.01762636],\n",
       "       [-0.00834287,  0.00528016, -0.00832013],\n",
       "       [ 0.00542965, -0.00370187,  0.01548082]])"
      ]
     },
     "execution_count": 12,
     "metadata": {},
     "output_type": "execute_result"
    }
   ],
   "source": [
    "A_inv = np.linalg.inv(A)\n",
    "A_inv"
   ]
  },
  {
   "cell_type": "code",
   "execution_count": 13,
   "metadata": {},
   "outputs": [
    {
     "data": {
      "text/plain": [
       "array([[ 7.75825837],\n",
       "       [ 3.95773162],\n",
       "       [-2.69582745]])"
      ]
     },
     "execution_count": 13,
     "metadata": {},
     "output_type": "execute_result"
    }
   ],
   "source": [
    "x = np.dot(A_inv, b)\n",
    "x"
   ]
  },
  {
   "cell_type": "code",
   "execution_count": 14,
   "metadata": {},
   "outputs": [
    {
     "name": "stdout",
     "output_type": "stream",
     "text": [
      "23.1 µs ± 1.62 µs per loop (mean ± std. dev. of 7 runs, 10000 loops each)\n"
     ]
    },
    {
     "data": {
      "text/plain": [
       "array([[ 7.75825837],\n",
       "       [ 3.95773162],\n",
       "       [-2.69582745]])"
      ]
     },
     "execution_count": 14,
     "metadata": {},
     "output_type": "execute_result"
    }
   ],
   "source": [
    "def inverse_solve(A, b):\n",
    "    ''' Return x for system Ax = b using inverse and dot method. '''\n",
    "    \n",
    "    return np.dot(np.linalg.inv(A), b)\n",
    "\n",
    "%timeit x = inverse_solve(A, b)\n",
    "x"
   ]
  },
  {
   "cell_type": "markdown",
   "metadata": {},
   "source": [
    "## Exercise 4\n",
    "### Optimized MATLAB (Python) Solution\n",
    "\n",
    "Calculate the solution vector via optimized MATLAB (Python) solution for a system of equations. Compre the results of each of these methods and comment appropriately. Incluce this cacluation in the same script you created for Exercises 2 and 3."
   ]
  },
  {
   "cell_type": "code",
   "execution_count": 15,
   "metadata": {},
   "outputs": [
    {
     "name": "stdout",
     "output_type": "stream",
     "text": [
      "10 µs ± 703 ns per loop (mean ± std. dev. of 7 runs, 100000 loops each)\n"
     ]
    },
    {
     "data": {
      "text/plain": [
       "array([[ 7.75825837],\n",
       "       [ 3.95773162],\n",
       "       [-2.69582745]])"
      ]
     },
     "execution_count": 15,
     "metadata": {},
     "output_type": "execute_result"
    }
   ],
   "source": [
    "%timeit x = np.linalg.solve(A, b)\n",
    "x"
   ]
  },
  {
   "cell_type": "markdown",
   "metadata": {},
   "source": [
    "## Exercise 5\n",
    "### Large Matrix\n",
    "\n",
    "Create a large matrix, $\\vec{A}$, comprised of elements randomly generated from $\\pm 100$, and a corresponding vector $\\vec{b}$, whose elements are also randomly generated in the same range. Calculate the solution vector $\\vec{x}$ for this system of equations via the matrix inverse method and the optimized MATLAB (Python) method, and compare the results. \"Large\" means a matrix sufficiently large to require at least a few minutes of run time. To make the comparison, define another matrix that calculates the difference between the two solution, and ouptut the minimum and macimum of this difference matrix. Comment on the result."
   ]
  },
  {
   "cell_type": "code",
   "execution_count": null,
   "metadata": {},
   "outputs": [],
   "source": [
    "n = int(10e3)\n",
    "\n",
    "A = 200 * np.random.random_sample((n, n)) - 100\n",
    "b = 200 * np.random.random_sample((n, 1)) - 100\n",
    "\n",
    "%timeit x = np.linalg.solve(A, b)"
   ]
  },
  {
   "cell_type": "markdown",
   "metadata": {},
   "source": [
    "Even when performing operations on an $10,000 \\times 10,000$ matrix, the computation time only averages 22.8 (s). I'm not going to go much further than that because the mechanism for the slowdown is machine dependent, not algorithm dependent.\n",
    "\n",
    "Numpy is ultrafast. That is...until your arrays become larger than the avaiable RAM. Then your operating system has to start stashing some of those RAM addresses on the drive--and those `cache misses` are extremely expensive in terms of wasted clock cycles. \n",
    "\n",
    "While a proces can hit the L1 cache in just a few cycles, hitting the RAM takes dozens of cycles. Hitting the drive can take miliseconds!\n",
    "\n",
    "While I *could* push the limits, make the matricies larger, they would only slow down the operation my user-grade Surface Pro 4 (only has 4 GB RAM). If I pushed the operation onto our production server at work (64 GB RAM), even though the process is *slower* (through-put is different), the matrix operations would complete almost instantaneously."
   ]
  }
 ],
 "metadata": {
  "kernelspec": {
   "display_name": "Python 3",
   "language": "python",
   "name": "python3"
  },
  "language_info": {
   "codemirror_mode": {
    "name": "ipython",
    "version": 3
   },
   "file_extension": ".py",
   "mimetype": "text/x-python",
   "name": "python",
   "nbconvert_exporter": "python",
   "pygments_lexer": "ipython3",
   "version": "3.5.2"
  }
 },
 "nbformat": 4,
 "nbformat_minor": 2
}
