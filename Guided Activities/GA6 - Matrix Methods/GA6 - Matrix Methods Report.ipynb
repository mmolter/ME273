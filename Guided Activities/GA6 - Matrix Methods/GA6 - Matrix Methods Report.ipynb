{
 "cells": [
  {
   "cell_type": "markdown",
   "metadata": {},
   "source": [
    "# GA6 - Matrix Methods\n",
    "### M. Molter\n",
    "\n",
    "This looks to be the last Guided Activity of the ME273 semester. While MATLAB was specifically designed for performing matrix operations, I think the modern [`numpy`](https://docs.scipy.org/doc/numpy-dev/user/numpy-for-matlab-users.html) python libraries will give MATLAB a run for its (very large sum of) money. Numpy is a [wraper](https://docs.scipy.org/doc/numpy-1.10.0/user/c-info.python-as-glue.html) for down-to-the-metal `FORTRAN` and `C` methods.\n",
    "\n",
    "Further, Jupyter Notebook has a number of built-in [`magic`](http://ipython.readthedocs.io/en/stable/interactive/magics.html) methods to help with code timing. Today we will be working with `%timeit` and `%%timeit` (the multi-line cousin). These decorators will run the line of code 3 to 1000 times (depending on computational intensity) and report the mean, worst, and best-case runtimes.\n",
    "\n",
    "While we are here, lets get the required libraries imported."
   ]
  },
  {
   "cell_type": "code",
   "execution_count": 1,
   "metadata": {
    "collapsed": true
   },
   "outputs": [],
   "source": [
    "import numpy as np"
   ]
  },
  {
   "cell_type": "markdown",
   "metadata": {},
   "source": [
    "## Exercise 1 \n",
    "### Gause Elimination\n",
    "\n",
    "Consider the following system of linear equations.\n",
    "\n",
    "$$27.6x_1 - 123.5x_2 - 97.8x_3 = -11$$\n",
    "$$45.5x_1 + 100.3x_2 + 2.1x_3 = 744.3$$\n",
    "$$1.2x_1 + 67.3x_2 + 99.4x_3 = 7.7$$\n",
    "\n",
    "Solve the systems for $x_1$, $x_2$, and $x_3$ using **Gaus elimination**. You will, unfortunetly, have to write the solution out by hand (with the aid of a calculator!); but, the good news: this is the only assignment in ME273 this semester that requires a good 'ol fashioned pencil and paper (ha...) effor! Since Hon. Prof. wants you to submit a .pdf of your GA report, can you create a digital copy of your solution for this exercises and include it in your single pdf?\n",
    "\n",
    "#### Solution\n",
    "\n",
    "The first step is to put this system of equations in matrix form:\n",
    "\n",
    "$$\n",
    "\\begin{bmatrix}\n",
    "    27.6  &  -123.5  &  -97.8  \\\\\n",
    "    45.5  &   100.3  &    2.1  \\\\\n",
    "     1.2  &    67.3  &   99.4  \\\\\n",
    "\\end{bmatrix}\n",
    "\\begin{bmatrix}\n",
    "    x_1  \\\\\n",
    "    x_2  \\\\\n",
    "    x_3  \\\\\n",
    "\\end{bmatrix}\n",
    "=\n",
    "\\begin{bmatrix}\n",
    "    -11 \\\\\n",
    "    744.3 \\\\\n",
    "    7.7 \\\\\n",
    "\\end{bmatrix}\n",
    "$$\n",
    "\n",
    "We can now add rows to one another, and multiply rows by constants. The goal is to get a matrix $A$ of the form:\n",
    "\n",
    "$$\n",
    "\\begin{bmatrix}\n",
    "    1 & A & B \\\\\n",
    "    0 & 1 & C \\\\\n",
    "    0 & 0 & 1 \\\\\n",
    "\\end{bmatrix}\n",
    "$$\n",
    "\n",
    "Now we start manipulating the matrix.\n",
    "\n",
    "$$\\frac{1}{27.6}R_1 \\rightarrow R_1$$\n",
    "$$\\frac{1}{45.5}R_2 \\rightarrow R_2$$\n",
    "$$\\frac{1}{1.2}R_3 \\rightarrow R_3$$\n",
    "\n",
    "$$\n",
    "\\begin{bmatrix}\n",
    "     1  &    -4.47464   &   -3.54348   \\\\\n",
    "     1  &     2.204396  &    0.046154  \\\\\n",
    "     1  &    56.083333  &   82.833333  \\\\\n",
    "\\end{bmatrix}\n",
    "\\begin{bmatrix}\n",
    "    x_1  \\\\\n",
    "    x_2  \\\\\n",
    "    x_3  \\\\\n",
    "\\end{bmatrix}\n",
    "=\n",
    "\\begin{bmatrix}\n",
    "    -0.39855 \\\\\n",
    "    16.35824 \\\\\n",
    "     6.41667 \\\\\n",
    "\\end{bmatrix}\n",
    "$$\n",
    "\n",
    "$$R_2 - R_1 \\rightarrow R_2$$\n",
    "$$R_3 - R_1 \\rightarrow R_3$$\n",
    "\n",
    "$$\n",
    "\\begin{bmatrix}\n",
    "     1  &    -4.47464   &   -3.54348   \\\\\n",
    "     0  &     6.679033  &    3.589632  \\\\\n",
    "     0  &    60.55797   &   86.37681  \\\\\n",
    "\\end{bmatrix}\n",
    "\\begin{bmatrix}\n",
    "    x_1  \\\\\n",
    "    x_2  \\\\\n",
    "    x_3  \\\\\n",
    "\\end{bmatrix}\n",
    "=\n",
    "\\begin{bmatrix}\n",
    "    -0.39855 \\\\\n",
    "    16.75679 \\\\\n",
    "     6.815217 \\\\\n",
    "\\end{bmatrix}\n",
    "$$\n",
    "\n",
    "$$\\frac{1}{6.679033}R_2 \\rightarrow R_2$$\n",
    "$$\\frac{1}{60.55797}R_3 \\rightarrow R_3$$\n",
    "\n",
    "$$\n",
    "\\begin{bmatrix}\n",
    "     1  &    -4.47464   &   -3.54348   \\\\\n",
    "     0  &     1         &    0.537448  \\\\\n",
    "     0  &     1         &    1.426349  \\\\\n",
    "\\end{bmatrix}\n",
    "\\begin{bmatrix}\n",
    "    x_1  \\\\\n",
    "    x_2  \\\\\n",
    "    x_3  \\\\\n",
    "\\end{bmatrix}\n",
    "=\n",
    "\\begin{bmatrix}\n",
    "    -0.39855  \\\\\n",
    "     2.508865 \\\\\n",
    "     0.112540 \\\\\n",
    "\\end{bmatrix}\n",
    "$$\n",
    "\n",
    "$$R_3 - R_2 \\rightarrow R_3$$\n",
    "\n",
    "$$\n",
    "\\begin{bmatrix}\n",
    "     1  &    -4.47464   &   -3.54348   \\\\\n",
    "     0  &     1         &    0.537448  \\\\\n",
    "     0  &     0         &    0.888901  \\\\\n",
    "\\end{bmatrix}\n",
    "\\begin{bmatrix}\n",
    "    x_1  \\\\\n",
    "    x_2  \\\\\n",
    "    x_3  \\\\\n",
    "\\end{bmatrix}\n",
    "=\n",
    "\\begin{bmatrix}\n",
    "    -0.39855  \\\\\n",
    "     2.508865 \\\\\n",
    "    -2.39632 \\\\\n",
    "\\end{bmatrix}\n",
    "$$\n",
    "\n",
    "$$\\frac{1}{0.888901}R_3 \\rightarrow R_3$$\n",
    "\n",
    "$$\n",
    "\\begin{bmatrix}\n",
    "     1  &    -4.47464   &   -3.54348   \\\\\n",
    "     0  &     1         &    0.537448  \\\\\n",
    "     0  &     0         &    1         \\\\\n",
    "\\end{bmatrix}\n",
    "\\begin{bmatrix}\n",
    "    x_1  \\\\\n",
    "    x_2  \\\\\n",
    "    x_3  \\\\\n",
    "\\end{bmatrix}\n",
    "=\n",
    "\\begin{bmatrix}\n",
    "    -0.39855  \\\\\n",
    "     2.508865 \\\\\n",
    "    -2.69583 \\\\\n",
    "\\end{bmatrix}\n",
    "$$\n",
    "\n",
    "Now that we have the matrix in the proper form, we revert to simple substitution to find the solutions.\n",
    "\n",
    "$$x_3 = -2.69583$$\n",
    "\n",
    "$$x_2 + 0.537448 x_3 = 2.508865$$\n",
    "$$x_2 = 2.508865 - 0.537448 x_3 = 2.508865 - 0.537448 (-2.69583) = 3.957733$$\n",
    "\n",
    "$$x_1 - 4.47464 x_2 - 3.54348 x_3 = -0.39855$$\n",
    "$$x_1 = -0.39855 + 4.47464 x_2 + 3.54348 x_3 = -0.39855 + 4.47464 (3.95773) + 3.54348 (-2.69583) = 7..758247$$\n",
    "\n",
    "Substiting these back into $x$, we get:\n",
    "\n",
    "$$x = \\begin{bmatrix} 7.758247 \\\\ 3.957733 \\\\ -2.69583 \\end{bmatrix}$$\n",
    "\n",
    "The correct answer (as verified by the later exercises)."
   ]
  },
  {
   "cell_type": "markdown",
   "metadata": {},
   "source": [
    "## Exercise 2\n",
    "### Cramer's Rule\n",
    "\n",
    "Express the system of equations in the form\n",
    "\n",
    "$$\\vec{A} \\vec{x} = \\vec{b}$$\n",
    "\n",
    "Solve the system of equations above using Cramer's Rule. Write the solution as a script and describe the output in your report."
   ]
  },
  {
   "cell_type": "markdown",
   "metadata": {},
   "source": [
    "### Solution\n",
    "\n",
    "First up, lets get the matricies into Python."
   ]
  },
  {
   "cell_type": "code",
   "execution_count": 2,
   "metadata": {
    "collapsed": true
   },
   "outputs": [],
   "source": [
    "A = np.asarray([[27.6, -123.5, -97.8],\n",
    "                [45.5,  100.3,   2.1],\n",
    "                [ 1.2,   67.3,  99.4]])\n",
    "\n",
    "b = np.asarray([[-11.0],\n",
    "                [744.3],\n",
    "                [  7.7]])"
   ]
  },
  {
   "cell_type": "markdown",
   "metadata": {},
   "source": [
    "[**Cramer's rule**](https://en.wikipedia.org/wiki/Cramer%27s_rule) is an algorithm that can determine the solution to individual $x_i$ variables. \n",
    "\n",
    "It takes a matrix equation fo the form:\n",
    "\n",
    "$$\\vec{A} \\vec{x} = \\vec{b}$$\n",
    "\n",
    "An returns indiviual solutions accroding to:\n",
    "\n",
    "$$x_i = \\frac{\\det(A_i)}{\\det(A)}$$\n",
    "\n",
    "Where $A_i$ is $A$ with the i-th column replaced by the column vector $b$."
   ]
  },
  {
   "cell_type": "code",
   "execution_count": 3,
   "metadata": {
    "collapsed": true
   },
   "outputs": [],
   "source": [
    "def cramer(A, b):\n",
    "    ''' Return x for sytem Ax = b using Cramer's rule. '''\n",
    "    \n",
    "    # Grab the determinant of A.\n",
    "    det_A = np.linalg.det(A)\n",
    "\n",
    "    # Count columns in A.\n",
    "    columns = A.shape[1]\n",
    "\n",
    "    # Create result array of size `columns`.\n",
    "    x = np.empty((columns, 1))\n",
    "\n",
    "    # Perform Cramer rule on each element of solution array.\n",
    "    for i in range(columns):\n",
    "\n",
    "        # Deep copy (i.e. no referencing) A into A_i.\n",
    "        A_i = np.copy(A)\n",
    "\n",
    "        # Replace column i of A_i with vector b.\n",
    "        A_i[:, i] = b.reshape(columns)\n",
    "\n",
    "        # Get the deteminant of A_i.\n",
    "        det_A_i = np.linalg.det(A_i)\n",
    "\n",
    "        # Calculate the result element x_i and put it in x.\n",
    "        x_i = det_A_i / det_A\n",
    "        x[i] = x_i\n",
    "        \n",
    "    return x"
   ]
  },
  {
   "cell_type": "markdown",
   "metadata": {},
   "source": [
    "We can time several loops of the function with `timeit`. We will compare the results later."
   ]
  },
  {
   "cell_type": "code",
   "execution_count": 4,
   "metadata": {
    "collapsed": false
   },
   "outputs": [
    {
     "name": "stdout",
     "output_type": "stream",
     "text": [
      "The slowest run took 3254.82 times longer than the fastest. This could mean that an intermediate result is being cached.\n",
      "1 loop, best of 3: 176 µs per loop\n"
     ]
    }
   ],
   "source": [
    "%%timeit\n",
    "cramer(A, b)"
   ]
  },
  {
   "cell_type": "markdown",
   "metadata": {},
   "source": [
    "## Excersice 3\n",
    "### Inverse of A\n",
    "\n",
    "Use the inverse of $\\vec{A}$ to calculate the solution vector, $\\vec{x}$, for the system of equations. Include this inverse calculation in the same script you created for Exercise 2."
   ]
  },
  {
   "cell_type": "markdown",
   "metadata": {},
   "source": [
    "#### Solution \n",
    "\n",
    "The numpy code here is pretty much explains itself. We are essentially performing the following operation:\n",
    "\n",
    "$$\\vec{A} \\vec{x} = \\vec{b}$$\n",
    "$$(\\vec{A})^{-1}\\vec{A} \\vec{x} = \\vec{I} \\vec{x} =  (\\vec{A})^{-1}\\vec{b}=\\vec{x}$$\n",
    "\n"
   ]
  },
  {
   "cell_type": "code",
   "execution_count": 5,
   "metadata": {
    "collapsed": false
   },
   "outputs": [
    {
     "data": {
      "text/plain": [
       "array([[ 0.01814039,  0.01050931,  0.01762636],\n",
       "       [-0.00834287,  0.00528016, -0.00832013],\n",
       "       [ 0.00542965, -0.00370187,  0.01548082]])"
      ]
     },
     "execution_count": 5,
     "metadata": {},
     "output_type": "execute_result"
    }
   ],
   "source": [
    "A_inv = np.linalg.inv(A)\n",
    "A_inv"
   ]
  },
  {
   "cell_type": "code",
   "execution_count": 6,
   "metadata": {
    "collapsed": false
   },
   "outputs": [
    {
     "data": {
      "text/plain": [
       "array([[ 7.75825837],\n",
       "       [ 3.95773162],\n",
       "       [-2.69582745]])"
      ]
     },
     "execution_count": 6,
     "metadata": {},
     "output_type": "execute_result"
    }
   ],
   "source": [
    "x = np.dot(A_inv, b)\n",
    "x"
   ]
  },
  {
   "cell_type": "code",
   "execution_count": 7,
   "metadata": {
    "collapsed": true
   },
   "outputs": [],
   "source": [
    "def inverse_solve(A, b):\n",
    "    ''' Return x for system Ax = b using inverse and dot method. '''\n",
    "    \n",
    "    return np.dot(np.linalg.inv(A), b)"
   ]
  },
  {
   "cell_type": "markdown",
   "metadata": {},
   "source": [
    "Again, run the timing."
   ]
  },
  {
   "cell_type": "code",
   "execution_count": 8,
   "metadata": {
    "collapsed": false
   },
   "outputs": [
    {
     "name": "stdout",
     "output_type": "stream",
     "text": [
      "100 loops, best of 3: 41.1 µs per loop\n"
     ]
    }
   ],
   "source": [
    "%%timeit -n 100\n",
    "inverse_solve(A, b)"
   ]
  },
  {
   "cell_type": "markdown",
   "metadata": {},
   "source": [
    "## Exercise 4\n",
    "### Optimized MATLAB (Python) Solution\n",
    "\n",
    "Calculate the solution vector via optimized MATLAB (Python) solution for a system of equations. Compre the results of each of these methods and comment appropriately. Incluce this cacluation in the same script you created for Exercises 2 and 3."
   ]
  },
  {
   "cell_type": "code",
   "execution_count": 9,
   "metadata": {
    "collapsed": false
   },
   "outputs": [
    {
     "name": "stdout",
     "output_type": "stream",
     "text": [
      "100 loops, best of 3: 36.6 µs per loop\n"
     ]
    }
   ],
   "source": [
    "%%timeit -n 100\n",
    "np.linalg.solve(A, b)"
   ]
  },
  {
   "cell_type": "code",
   "execution_count": 10,
   "metadata": {
    "collapsed": false
   },
   "outputs": [
    {
     "data": {
      "text/plain": [
       "array([[ 7.75825837],\n",
       "       [ 3.95773162],\n",
       "       [-2.69582745]])"
      ]
     },
     "execution_count": 10,
     "metadata": {},
     "output_type": "execute_result"
    }
   ],
   "source": [
    "np.linalg.solve(A, b)"
   ]
  },
  {
   "cell_type": "markdown",
   "metadata": {},
   "source": [
    "All three methods methods produces the same solution, but some were drastically faster than others. Let's compare.\n",
    "\n",
    "| Method  | Time to Complete |\n",
    "| :-----: | :--------------: |\n",
    "| Cramer  |     31 $\\mu s$   |    \n",
    "| Inverse |     16 $\\mu s$   |\n",
    "| Numpy   |     15 $\\mu s$   |\n",
    "\n",
    "All three operations are *very* fast, but the Numpy method is the fastest. Notice that it performed just barely better than the inverse method. Its possible that Numpy implements matrix solving using an inverse approach, but our function call overhead in our inverse method caused a speed penalty."
   ]
  },
  {
   "cell_type": "markdown",
   "metadata": {},
   "source": [
    "## Exercise 5\n",
    "### Large Matrix\n",
    "\n",
    "Create a large matrix, $\\vec{A}$, comprised of elements randomly generated from $\\pm 100$, and a corresponding vector $\\vec{b}$, whose elements are also randomly generated in the same range. Calculate the solution vector $\\vec{x}$ for this system of equations via the matrix inverse method and the optimized MATLAB (Python) method, and compare the results. \"Large\" means a matrix sufficiently large to require at least a few minutes of run time. To make the comparison, define another matrix that calculates the difference between the two solution, and ouptut the minimum and macimum of this difference matrix. Comment on the result."
   ]
  },
  {
   "cell_type": "code",
   "execution_count": 11,
   "metadata": {
    "collapsed": false
   },
   "outputs": [
    {
     "name": "stdout",
     "output_type": "stream",
     "text": [
      "1 loop, best of 3: 7.38 s per loop\n"
     ]
    }
   ],
   "source": [
    "%%timeit\n",
    "n = int(10e3)\n",
    "\n",
    "A = np.random.uniform(-100, 100, n * n)\n",
    "b = np.random.uniform(-100, 100, n)\n",
    "\n",
    "A = A.reshape(n, n)\n",
    "b = b.reshape(n, 1)\n",
    "\n",
    "fast_result = np.linalg.solve(A, b)"
   ]
  },
  {
   "cell_type": "markdown",
   "metadata": {},
   "source": [
    "Even when performing operations on an $10,000 \\times 10,000$ matrix, the computation time only averages 22.8 (s). I'm not going to go much further than that because the mechanism for the slowdown is machine dependent, not algorithm dependent.\n",
    "\n",
    "Numpy is ultrafast. That is...until your arrays become larger than the avaiable RAM. Then your operating system has to start stashing some of those RAM addresses on the drive--and those `cache misses` are extremely expensive in terms of wasted clock cycles. \n",
    "\n",
    "While a proces can hit the L1 cache in just a few cycles, hitting the RAM takes dozens of cycles. Hitting the drive can take miliseconds!\n",
    "\n",
    "While I *could* push the limits, make the matricies larger, they would only slow down the operation my user-grade Surface Pro 4 (only has 4 GB RAM). If I pushed the operation onto our production server at work (64 GB RAM), even though the process is *slower* (through-put is different), the matrix operations would complete almost instantaneously."
   ]
  },
  {
   "cell_type": "code",
   "execution_count": 12,
   "metadata": {
    "collapsed": false
   },
   "outputs": [
    {
     "name": "stdout",
     "output_type": "stream",
     "text": [
      "1 loop, best of 3: 21.3 s per loop\n"
     ]
    }
   ],
   "source": [
    "%%timeit\n",
    "n = int(10e3)\n",
    "\n",
    "A = np.random.uniform(-100, 100, n * n)\n",
    "b = np.random.uniform(-100, 100, n)\n",
    "\n",
    "A = A.reshape(n, n)\n",
    "b = b.reshape(n, 1)\n",
    "\n",
    "slow_result = inverse_solve(A, b)"
   ]
  },
  {
   "cell_type": "markdown",
   "metadata": {},
   "source": [
    "So for large matricies, clearly the inverse method is much, much slower. I'm not sure I fully understand the \"difference\" part? Should I just check to make sure that the two matricies are in fact equal?\n",
    "\n",
    "For some unexplained reason, `jupyter` is not storing the variables `fast_result` or `slow_result`. I will perform this comparison on a smaller set of matricies."
   ]
  },
  {
   "cell_type": "code",
   "execution_count": 22,
   "metadata": {
    "collapsed": false
   },
   "outputs": [
    {
     "data": {
      "text/plain": [
       "1.5137872890966243e-13"
      ]
     },
     "execution_count": 22,
     "metadata": {},
     "output_type": "execute_result"
    }
   ],
   "source": [
    "n = int(5000)\n",
    "\n",
    "A = np.random.uniform(-100, 100, n * n)\n",
    "b = np.random.uniform(-100, 100, n)\n",
    "\n",
    "A = A.reshape(n, n)\n",
    "b = b.reshape(n, 1)\n",
    "\n",
    "fast = np.linalg.solve(A, b)\n",
    "slow = inverse_solve(A, b)\n",
    "\n",
    "(np.abs(fast - slow)).mean()"
   ]
  },
  {
   "cell_type": "markdown",
   "metadata": {},
   "source": [
    "The difference between the two methods is on the order of 1e-13, and changes slightly with matrix size; in other words, different, but not significantly so."
   ]
  }
 ],
 "metadata": {
  "anaconda-cloud": {},
  "kernelspec": {
   "display_name": "Python [Root]",
   "language": "python",
   "name": "Python [Root]"
  },
  "language_info": {
   "codemirror_mode": {
    "name": "ipython",
    "version": 3
   },
   "file_extension": ".py",
   "mimetype": "text/x-python",
   "name": "python",
   "nbconvert_exporter": "python",
   "pygments_lexer": "ipython3",
   "version": "3.5.2"
  }
 },
 "nbformat": 4,
 "nbformat_minor": 2
}
