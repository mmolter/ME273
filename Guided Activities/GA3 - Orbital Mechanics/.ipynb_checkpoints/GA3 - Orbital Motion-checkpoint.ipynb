{
 "cells": [
  {
   "cell_type": "markdown",
   "metadata": {},
   "source": [
    "# Guided Activity Three\n",
    "## Orbital Motion\n",
    "\n",
    "Round three with Python! \n",
    "\n",
    "We will be building a model of orbital motion. This is the first time we will be applying the euler method in more than a single dimension. Let's again try to enfore code re-use: we may need to generalize our alorithms to accept tuples?\n",
    "\n",
    "As usual, we start with imports."
   ]
  },
  {
   "cell_type": "code",
   "execution_count": 1,
   "metadata": {},
   "outputs": [],
   "source": [
    "import matplotlib.pyplot as plt\n",
    "import numpy as np\n",
    "\n",
    "%matplotlib inline"
   ]
  },
  {
   "cell_type": "markdown",
   "metadata": {},
   "source": [
    "Because we are working in multiple dimensions, we can no longer use the manitude of the x-coordinate to determine distance. We want the euclidean distance between points, and a convenient way to get this is the linear algebra concept of a `norm`."
   ]
  },
  {
   "cell_type": "code",
   "execution_count": 12,
   "metadata": {},
   "outputs": [],
   "source": [
    "def dist(x):\n",
    "    ''' Return the distance of point x from the origin <0, 0, .., 0>.\n",
    "    \n",
    "        Uses the linear algebra concept of a norm to calculate \n",
    "        Euclidean distance.\n",
    "        \n",
    "        Examples:\n",
    "            Given two vectors A = <0,3,8> and B = <0,3,9>\n",
    "                >>> A = np.asarray([0,3,8])\n",
    "                >>> B = np.asarray([0,3,9])\n",
    "        \n",
    "            Find the length of A.\n",
    "                >>> dist(A)\n",
    "\n",
    "            Find the distance between A and B.\n",
    "                >>> dist(A - B)\n",
    "                \n",
    "            Given a list of vectors C = [<1,1,1>, <2,3,5>, <8,3,7>].\n",
    "                >>> C = np.asarray([[1,1,1], [2,3,5], [8,3,7]])\n",
    "                \n",
    "            Find the distances from the origin, O.\n",
    "                >>> dist(C)\n",
    "                \n",
    "            Find the distances from point B.\n",
    "                >>> dist(C - B)\n",
    "            \n",
    "        Args:\n",
    "            x (np.array):   point or list of points.\n",
    "            \n",
    "        Returns:\n",
    "            np.array: scalar distance or list of scalar distances.\n",
    "    '''\n",
    "    \n",
    "    return np.linalg.norm(x, axis=(x.ndim - 1))"
   ]
  },
  {
   "cell_type": "markdown",
   "metadata": {},
   "source": [
    "Then we can built a generic gravitational acceleration function. This is slightly different than GA1 and GA2 because it both accepts and returns multi-dimensional inputs and outputs. Heck, we could play with orbital motion in 4-spacial dimensions with this function!"
   ]
  },
  {
   "cell_type": "code",
   "execution_count": 3,
   "metadata": {},
   "outputs": [],
   "source": [
    "def gravitational_acceleration(x, v, m, M=5.972e24, G=6.67408e-11):\n",
    "    ''' Return x and y components of acceleration due to gravitity.\n",
    "    \n",
    "        Uses:\n",
    "                    G * m * M / r**2\n",
    "                    \n",
    "        Args:\n",
    "            G (float):   gravitational constant (m**3/(kg * s**2)))\n",
    "            M (float):   mass of larger object (kg; default is Earth)\n",
    "            m (float):   mass of smaller object (kg)\n",
    "            x (float):   x distance from larger object (m)\n",
    "            y (float):   y distance from larger object (m)\n",
    "        \n",
    "        Return:\n",
    "            [float, float]: direction vector\n",
    "    '''\n",
    "    \n",
    "    r = dist(x)\n",
    "    a = -(x * G * M) / (np.power(r, 3))\n",
    "    \n",
    "    return a"
   ]
  },
  {
   "cell_type": "markdown",
   "metadata": {},
   "source": [
    "This activity compares the Euler and Euler-Cromer methods, so we will probably need a way to calculate energy.\n",
    "\n",
    "$$\n",
    "    E = U_g + U_k\n",
    "$$\n",
    "\n",
    "Where:\n",
    "    \n",
    "$$\n",
    "    U_k = \\frac{1}{2} m v^2\n",
    "$$\n",
    "\n",
    "and,\n",
    "\n",
    "$$ \n",
    "    U_g = -\\frac{G m M}{r}\n",
    "$$"
   ]
  },
  {
   "cell_type": "code",
   "execution_count": 22,
   "metadata": {},
   "outputs": [],
   "source": [
    "def orbital_energy(x, v, m, y=[0,0], M=5.972e24, G=6.67408e-11):\n",
    "    ''' Return energy of orbital body in joules. \n",
    "    \n",
    "        Uses:\n",
    "        \n",
    "                E = Ug + Uk\n",
    "            \n",
    "                where,\n",
    "                \n",
    "                    Ug = -GmM / r\n",
    "                    \n",
    "                    Uk = 0.5 mv^2\n",
    "                    \n",
    "        Args:\n",
    "            x (float):   x distance from larger object (m)\n",
    "            v (float):   velcoity of orbiting body (m/s)\n",
    "            G (float):   gravitational constant (m**3/(kg * s**2)))\n",
    "            M (float):   mass of larger object (kg; default is Earth)\n",
    "            m (float):   mass of smaller object (kg)\n",
    "            y (float):   location of larger object (m; default is (0,0))\n",
    "        \n",
    "        Return:\n",
    "            (float): energy of orbit in joules.\n",
    "    '''\n",
    "    \n",
    "    r = dist(x - y)\n",
    "    v_avg = dist(v)\n",
    "    \n",
    "    return (0.5* m * v_avg * v_avg) - (G * m * M / r)"
   ]
  },
  {
   "cell_type": "markdown",
   "metadata": {},
   "source": [
    "Now let's reuse the Euler method from our last excercise, being careful to make sure it will accept array inputs. Let's try and really tear up this function. I want to write it in super fast (yet horribly unreadable, ugly) numpy arrays."
   ]
  },
  {
   "cell_type": "code",
   "execution_count": 5,
   "metadata": {},
   "outputs": [],
   "source": [
    "def euler_method(acceleration, t0, tf, dt, x0=0, v0=0, modified=False, **kwargs):\n",
    "    ''' Returns t, x, v, and a arrays for Euler Method\n",
    "\n",
    "        Args:\n",
    "            acceleration (func):  a function that accepts x, v, and **kwargs and \n",
    "                                      return acceleration.\n",
    "            t0 (float):           initial time (s)\n",
    "            tf (float):           final time (s)\n",
    "            dt (float):           time step (s)\n",
    "            x0 (np.array):        initial displacement, downwards positive (m)\n",
    "            v0 (np.array):        intiial velocity, downwards positive (m/s)\n",
    "            **kwargs:             any additional arguments required for the \n",
    "                                      accleration function\n",
    "\n",
    "            modified (bool):\tturns on modified euler method.\n",
    "\n",
    "        Returns:\n",
    "            np.float64 (np.array): lisf times (s)\n",
    "            np.float64 (np.array): list of positions, downwards positive (m)\n",
    "            np.float64 (np.array): list of velocities, downwards positive (m/s)\n",
    "            np.float64 (np.array): list of acceleration, downwards positive (m/s**2)\n",
    "    '''\n",
    "\n",
    "    t = np.arange(start=t0, stop=tf, step=dt, dtype=np.float64)\n",
    "    \n",
    "    points = t.size\n",
    "    dimensions, = x0.shape\n",
    "    \n",
    "    x = np.empty([points, dimensions])\n",
    "    v = np.empty([points, dimensions])\n",
    "    a = np.empty([points, dimensions])\n",
    "    \n",
    "    x[0] = x0\n",
    "    v[0] = v0\n",
    "    a[0] = acceleration(x0, v0, **kwargs)\n",
    "\n",
    "    for i in range(1, points):\n",
    "        a[i] = acceleration(x[i-1], v[i-1], **kwargs)\n",
    "        \n",
    "        if modified:\n",
    "            v[i] = v[i-1] + dt * a[i]\n",
    "            x[i] = x[i-1] + dt * v[i]\n",
    "        else:        \n",
    "            x[i] = x[i-1] + dt * v[i-1]\n",
    "            v[i] = v[i-1] + dt * a[i]\n",
    "        \n",
    "    return t, x, v, a"
   ]
  },
  {
   "cell_type": "markdown",
   "metadata": {},
   "source": [
    "Now we can write a function to find the closestest point of the orbit, and the farthest point of the orbit. Notice the unique application of the `norm` from linear algebra. Cool, huh?"
   ]
  },
  {
   "cell_type": "code",
   "execution_count": 6,
   "metadata": {},
   "outputs": [],
   "source": [
    "def periapsis(xs, y=None):\n",
    "    ''' Returns nearest point of object (xs) to center (y).\n",
    "    \n",
    "        Args:\n",
    "            xs (np.array):    list of positions (n-dimensions)\n",
    "             y (np.array):    single position (n-dimensions)\n",
    "             \n",
    "        Returns:\n",
    "            np.array:  n-dimensional np.float64\n",
    "    '''\n",
    "    \n",
    "    return dist(xs - y).min()"
   ]
  },
  {
   "cell_type": "code",
   "execution_count": 7,
   "metadata": {},
   "outputs": [],
   "source": [
    "def apoapsis(xs, y=None):\n",
    "    ''' Returns furthest point of object (xs) from center (y).\n",
    "    \n",
    "        Args:\n",
    "            xs (np.array):    list of positions (n-dimensions)\n",
    "             y (np.array):    single position (n-dimensions)\n",
    "             \n",
    "        Returns:\n",
    "            np.array:  n-dimensional np.float64\n",
    "    '''\n",
    "        \n",
    "    return dist(xs - y).max()"
   ]
  },
  {
   "cell_type": "markdown",
   "metadata": {},
   "source": [
    "The oribital period calculation is a little more complex. I we plot the x-position (or y-) against time, its apparent that the orbit represents a sinusoid. We can use our period finding code from the last guided activity to find the orbital period, so long as we complete at least a few cycles. "
   ]
  },
  {
   "cell_type": "code",
   "execution_count": 8,
   "metadata": {},
   "outputs": [],
   "source": [
    "def orbital_period(t, x):\n",
    "    ''' Return period of signal, specifically an orbital period. \n",
    "    \n",
    "        Performs a FFT and returns the frequency of the strongest frequency\n",
    "        in the sample.\n",
    "        \n",
    "        NOTE: Due to the nature of an FFT, more orbits lead to more resolution.\n",
    "        \n",
    "        Args:\n",
    "            t (list):  times (s)\n",
    "            x (list):  response (unitless)\n",
    "            \n",
    "        Returns:\n",
    "            float:  strongest frequency (Hz)\n",
    "    \n",
    "    '''\n",
    "    from scipy import fftpack\n",
    "\n",
    "    # Find the sample rate\n",
    "    dt = t[1] - t[0]\n",
    "    \n",
    "    # Perform FFT\n",
    "    amplitudes  = fftpack.fft(x)\n",
    "    frequencies = fftpack.fftfreq(len(x)) / dt\n",
    "\n",
    "    # Return the period with maximum amplitude.\n",
    "    return 1 / np.abs(frequencies[amplitudes.argmax()])"
   ]
  },
  {
   "cell_type": "markdown",
   "metadata": {},
   "source": [
    "Now that we have all our convinience functions in place, we can try plotting an orbit."
   ]
  },
  {
   "cell_type": "code",
   "execution_count": 33,
   "metadata": {},
   "outputs": [
    {
     "data": {
      "image/png": "[encoded data removed]",
      "text/plain": [
       "<matplotlib.figure.Figure at 0x9269bd0>"
      ]
     },
     "metadata": {},
     "output_type": "display_data"
    }
   ],
   "source": [
    "# Initial conditions (see https://nssdc.gsfc.nasa.gov/planetary/factsheet/moonfact.html)\n",
    "x0 = np.asarray([0.3633e9, 0], dtype=np.float64) # m \n",
    "v0 = np.asarray([0,  1.082e3], dtype=np.float64) # m/s\n",
    "m = 7.34767309e22 # kg\n",
    "\n",
    "# Simulation parameters.\n",
    "dt   = 1 # Hours\n",
    "time = 30 # Days\n",
    "\n",
    "# Run simulation.\n",
    "t, x, v, a = euler_method(gravitational_acceleration,\n",
    "                            x0=x0,\n",
    "                            v0=v0,\n",
    "                            t0=np.asarray(0.0, dtype=np.float64),\n",
    "                            tf=np.asarray(3600*24*time, dtype=np.float64),\n",
    "                            dt=np.asarray(3600*dt, dtype=np.float64),\n",
    "                            modified=True,\n",
    "                            m=m)\n",
    "\n",
    "# Plot orbit and label bodies.\n",
    "plt.plot(x[:,0], x[:,1], color='black', marker='o', markersize=0.25, linestyle='')\n",
    "plt.plot(0, 0, marker='o', color='black', markersize=4)\n",
    "plt.plot(x0[0], x0[1], marker='o', color='black', markersize=2)\n",
    "plt.annotate('Earth', (0,0))\n",
    "plt.annotate('Moon', x0)\n",
    "\n",
    "# Adjust plot parameters and labels.\n",
    "plt.tick_params(which='both', direction='in')\n",
    "plt.grid(which='both', linestyle=':')\n",
    "plt.axis('equal')\n",
    "plt.xlabel('x-distance (m)')\n",
    "plt.ylabel('y-distance (m)')\n",
    "plt.show()"
   ]
  },
  {
   "cell_type": "markdown",
   "metadata": {},
   "source": [
    "### Excercise 1\n",
    "\n",
    "Recall that in class when we built the gravitational model fo the moon orbiting the Earth with a spreadsheet, we employed the modified Euler method (also known as the Euler-Cromer method) to complete the model. To gain an appreciation of why it is important to use this modified algorithm, first build a compuational (MATLAB or C) model of the moon's orbit arund Earth using the simple, non-modified Euler method. What happens to the moon's trajectory in your model (Hint: somethind disatrous!)? Provide plost of the moon's trajectory to demonstrate this disastrous behavior. Can you get reid fo the artifical behavior by making $\\Delta t$ smaller? Next, build the model (MATLAB or C) using the EUler-Cromer method. Demonstrate your model porduces the correct period of orbit. Finally, try to make an intelligen comment about why the Euler-Cromer algorithm owrks, and the non-modified Euler algorithm does not. Is there soemthing you can calculated and plot that may provide insite into why the Euler algorithm fails?\n",
    "\n",
    "#### Solution 1"
   ]
  },
  {
   "cell_type": "markdown",
   "metadata": {},
   "source": [
    "##### ( Step 1 ) Plot the Moon's Trajectory using Euler and Euler-Cromer"
   ]
  },
  {
   "cell_type": "code",
   "execution_count": 47,
   "metadata": {},
   "outputs": [
    {
     "ename": "AttributeError",
     "evalue": "Unknown property loc",
     "output_type": "error",
     "traceback": [
      "\u001b[1;31m---------------------------------------------------------------------------\u001b[0m",
      "\u001b[1;31mAttributeError\u001b[0m                            Traceback (most recent call last)",
      "\u001b[1;32m<ipython-input-47-59b6759b491c>\u001b[0m in \u001b[0;36m<module>\u001b[1;34m()\u001b[0m\n\u001b[0;32m     35\u001b[0m \u001b[0mplt\u001b[0m\u001b[1;33m.\u001b[0m\u001b[0mplot\u001b[0m\u001b[1;33m(\u001b[0m\u001b[0mx0\u001b[0m\u001b[1;33m[\u001b[0m\u001b[1;36m0\u001b[0m\u001b[1;33m]\u001b[0m\u001b[1;33m,\u001b[0m \u001b[0mx0\u001b[0m\u001b[1;33m[\u001b[0m\u001b[1;36m1\u001b[0m\u001b[1;33m]\u001b[0m\u001b[1;33m,\u001b[0m \u001b[0mmarker\u001b[0m\u001b[1;33m=\u001b[0m\u001b[1;34m'o'\u001b[0m\u001b[1;33m,\u001b[0m \u001b[0mcolor\u001b[0m\u001b[1;33m=\u001b[0m\u001b[1;34m'black'\u001b[0m\u001b[1;33m,\u001b[0m \u001b[0mmarkersize\u001b[0m\u001b[1;33m=\u001b[0m\u001b[1;36m4\u001b[0m\u001b[1;33m)\u001b[0m\u001b[1;33m\u001b[0m\u001b[0m\n\u001b[0;32m     36\u001b[0m \u001b[0mplt\u001b[0m\u001b[1;33m.\u001b[0m\u001b[0mannotate\u001b[0m\u001b[1;33m(\u001b[0m\u001b[1;34m'Earth'\u001b[0m\u001b[1;33m,\u001b[0m \u001b[1;33m(\u001b[0m\u001b[1;36m0\u001b[0m\u001b[1;33m,\u001b[0m\u001b[1;36m0\u001b[0m\u001b[1;33m)\u001b[0m\u001b[1;33m)\u001b[0m\u001b[1;33m\u001b[0m\u001b[0m\n\u001b[1;32m---> 37\u001b[1;33m \u001b[0mplt\u001b[0m\u001b[1;33m.\u001b[0m\u001b[0mannotate\u001b[0m\u001b[1;33m(\u001b[0m\u001b[1;34m'Moon'\u001b[0m\u001b[1;33m,\u001b[0m \u001b[0mx0\u001b[0m\u001b[1;33m,\u001b[0m \u001b[0mloc\u001b[0m\u001b[1;33m=\u001b[0m\u001b[1;34m'left'\u001b[0m\u001b[1;33m)\u001b[0m\u001b[1;33m\u001b[0m\u001b[0m\n\u001b[0m\u001b[0;32m     38\u001b[0m \u001b[1;33m\u001b[0m\u001b[0m\n\u001b[0;32m     39\u001b[0m \u001b[1;31m# Plot both Simple Euler and Euler-Cromer solutionns.\u001b[0m\u001b[1;33m\u001b[0m\u001b[1;33m\u001b[0m\u001b[0m\n",
      "\u001b[1;32mc:\\users\\michael\\appdata\\local\\programs\\python\\python36-32\\lib\\site-packages\\matplotlib\\pyplot.py\u001b[0m in \u001b[0;36mannotate\u001b[1;34m(*args, **kwargs)\u001b[0m\n\u001b[0;32m   3763\u001b[0m \u001b[1;33m@\u001b[0m\u001b[0mdocstring\u001b[0m\u001b[1;33m.\u001b[0m\u001b[0mcopy_dedent\u001b[0m\u001b[1;33m(\u001b[0m\u001b[0mAxes\u001b[0m\u001b[1;33m.\u001b[0m\u001b[0mannotate\u001b[0m\u001b[1;33m)\u001b[0m\u001b[1;33m\u001b[0m\u001b[0m\n\u001b[0;32m   3764\u001b[0m \u001b[1;32mdef\u001b[0m \u001b[0mannotate\u001b[0m\u001b[1;33m(\u001b[0m\u001b[1;33m*\u001b[0m\u001b[0margs\u001b[0m\u001b[1;33m,\u001b[0m \u001b[1;33m**\u001b[0m\u001b[0mkwargs\u001b[0m\u001b[1;33m)\u001b[0m\u001b[1;33m:\u001b[0m\u001b[1;33m\u001b[0m\u001b[0m\n\u001b[1;32m-> 3765\u001b[1;33m     \u001b[0mret\u001b[0m \u001b[1;33m=\u001b[0m \u001b[0mgca\u001b[0m\u001b[1;33m(\u001b[0m\u001b[1;33m)\u001b[0m\u001b[1;33m.\u001b[0m\u001b[0mannotate\u001b[0m\u001b[1;33m(\u001b[0m\u001b[1;33m*\u001b[0m\u001b[0margs\u001b[0m\u001b[1;33m,\u001b[0m \u001b[1;33m**\u001b[0m\u001b[0mkwargs\u001b[0m\u001b[1;33m)\u001b[0m\u001b[1;33m\u001b[0m\u001b[0m\n\u001b[0m\u001b[0;32m   3766\u001b[0m     \u001b[1;32mreturn\u001b[0m \u001b[0mret\u001b[0m\u001b[1;33m\u001b[0m\u001b[0m\n\u001b[0;32m   3767\u001b[0m \u001b[1;33m\u001b[0m\u001b[0m\n",
      "\u001b[1;32mc:\\users\\michael\\appdata\\local\\programs\\python\\python36-32\\lib\\site-packages\\matplotlib\\axes\\_axes.py\u001b[0m in \u001b[0;36mannotate\u001b[1;34m(self, *args, **kwargs)\u001b[0m\n\u001b[0;32m    583\u001b[0m     \u001b[1;33m@\u001b[0m\u001b[0mdocstring\u001b[0m\u001b[1;33m.\u001b[0m\u001b[0mdedent_interpd\u001b[0m\u001b[1;33m\u001b[0m\u001b[0m\n\u001b[0;32m    584\u001b[0m     \u001b[1;32mdef\u001b[0m \u001b[0mannotate\u001b[0m\u001b[1;33m(\u001b[0m\u001b[0mself\u001b[0m\u001b[1;33m,\u001b[0m \u001b[1;33m*\u001b[0m\u001b[0margs\u001b[0m\u001b[1;33m,\u001b[0m \u001b[1;33m**\u001b[0m\u001b[0mkwargs\u001b[0m\u001b[1;33m)\u001b[0m\u001b[1;33m:\u001b[0m\u001b[1;33m\u001b[0m\u001b[0m\n\u001b[1;32m--> 585\u001b[1;33m         \u001b[0ma\u001b[0m \u001b[1;33m=\u001b[0m \u001b[0mmtext\u001b[0m\u001b[1;33m.\u001b[0m\u001b[0mAnnotation\u001b[0m\u001b[1;33m(\u001b[0m\u001b[1;33m*\u001b[0m\u001b[0margs\u001b[0m\u001b[1;33m,\u001b[0m \u001b[1;33m**\u001b[0m\u001b[0mkwargs\u001b[0m\u001b[1;33m)\u001b[0m\u001b[1;33m\u001b[0m\u001b[0m\n\u001b[0m\u001b[0;32m    586\u001b[0m         \u001b[0ma\u001b[0m\u001b[1;33m.\u001b[0m\u001b[0mset_transform\u001b[0m\u001b[1;33m(\u001b[0m\u001b[0mmtransforms\u001b[0m\u001b[1;33m.\u001b[0m\u001b[0mIdentityTransform\u001b[0m\u001b[1;33m(\u001b[0m\u001b[1;33m)\u001b[0m\u001b[1;33m)\u001b[0m\u001b[1;33m\u001b[0m\u001b[0m\n\u001b[0;32m    587\u001b[0m         \u001b[1;32mif\u001b[0m \u001b[1;34m'clip_on'\u001b[0m \u001b[1;32min\u001b[0m \u001b[0mkwargs\u001b[0m\u001b[1;33m:\u001b[0m\u001b[1;33m\u001b[0m\u001b[0m\n",
      "\u001b[1;32mc:\\users\\michael\\appdata\\local\\programs\\python\\python36-32\\lib\\site-packages\\matplotlib\\text.py\u001b[0m in \u001b[0;36m__init__\u001b[1;34m(self, s, xy, xytext, xycoords, textcoords, arrowprops, annotation_clip, **kwargs)\u001b[0m\n\u001b[0;32m   2120\u001b[0m         \u001b[0mx\u001b[0m\u001b[1;33m,\u001b[0m \u001b[0my\u001b[0m \u001b[1;33m=\u001b[0m \u001b[0mxytext\u001b[0m\u001b[1;33m\u001b[0m\u001b[0m\n\u001b[0;32m   2121\u001b[0m \u001b[1;33m\u001b[0m\u001b[0m\n\u001b[1;32m-> 2122\u001b[1;33m         \u001b[0mText\u001b[0m\u001b[1;33m.\u001b[0m\u001b[0m__init__\u001b[0m\u001b[1;33m(\u001b[0m\u001b[0mself\u001b[0m\u001b[1;33m,\u001b[0m \u001b[0mx\u001b[0m\u001b[1;33m,\u001b[0m \u001b[0my\u001b[0m\u001b[1;33m,\u001b[0m \u001b[0ms\u001b[0m\u001b[1;33m,\u001b[0m \u001b[1;33m**\u001b[0m\u001b[0mkwargs\u001b[0m\u001b[1;33m)\u001b[0m\u001b[1;33m\u001b[0m\u001b[0m\n\u001b[0m\u001b[0;32m   2123\u001b[0m \u001b[1;33m\u001b[0m\u001b[0m\n\u001b[0;32m   2124\u001b[0m         \u001b[0mself\u001b[0m\u001b[1;33m.\u001b[0m\u001b[0marrowprops\u001b[0m \u001b[1;33m=\u001b[0m \u001b[0marrowprops\u001b[0m\u001b[1;33m\u001b[0m\u001b[0m\n",
      "\u001b[1;32mc:\\users\\michael\\appdata\\local\\programs\\python\\python36-32\\lib\\site-packages\\matplotlib\\text.py\u001b[0m in \u001b[0;36m__init__\u001b[1;34m(self, x, y, text, color, verticalalignment, horizontalalignment, multialignment, fontproperties, rotation, linespacing, rotation_mode, usetex, wrap, **kwargs)\u001b[0m\n\u001b[0;32m    181\u001b[0m         \u001b[0mself\u001b[0m\u001b[1;33m.\u001b[0m\u001b[0m_linespacing\u001b[0m \u001b[1;33m=\u001b[0m \u001b[0mlinespacing\u001b[0m\u001b[1;33m\u001b[0m\u001b[0m\n\u001b[0;32m    182\u001b[0m         \u001b[0mself\u001b[0m\u001b[1;33m.\u001b[0m\u001b[0mset_rotation_mode\u001b[0m\u001b[1;33m(\u001b[0m\u001b[0mrotation_mode\u001b[0m\u001b[1;33m)\u001b[0m\u001b[1;33m\u001b[0m\u001b[0m\n\u001b[1;32m--> 183\u001b[1;33m         \u001b[0mself\u001b[0m\u001b[1;33m.\u001b[0m\u001b[0mupdate\u001b[0m\u001b[1;33m(\u001b[0m\u001b[0mkwargs\u001b[0m\u001b[1;33m)\u001b[0m\u001b[1;33m\u001b[0m\u001b[0m\n\u001b[0m\u001b[0;32m    184\u001b[0m \u001b[1;33m\u001b[0m\u001b[0m\n\u001b[0;32m    185\u001b[0m     \u001b[1;32mdef\u001b[0m \u001b[0mupdate\u001b[0m\u001b[1;33m(\u001b[0m\u001b[0mself\u001b[0m\u001b[1;33m,\u001b[0m \u001b[0mkwargs\u001b[0m\u001b[1;33m)\u001b[0m\u001b[1;33m:\u001b[0m\u001b[1;33m\u001b[0m\u001b[0m\n",
      "\u001b[1;32mc:\\users\\michael\\appdata\\local\\programs\\python\\python36-32\\lib\\site-packages\\matplotlib\\text.py\u001b[0m in \u001b[0;36mupdate\u001b[1;34m(self, kwargs)\u001b[0m\n\u001b[0;32m    190\u001b[0m         \u001b[0msentinel\u001b[0m \u001b[1;33m=\u001b[0m \u001b[0mobject\u001b[0m\u001b[1;33m(\u001b[0m\u001b[1;33m)\u001b[0m  \u001b[1;31m# bbox can be None, so use another sentinel.\u001b[0m\u001b[1;33m\u001b[0m\u001b[0m\n\u001b[0;32m    191\u001b[0m         \u001b[0mbbox\u001b[0m \u001b[1;33m=\u001b[0m \u001b[0mkwargs\u001b[0m\u001b[1;33m.\u001b[0m\u001b[0mpop\u001b[0m\u001b[1;33m(\u001b[0m\u001b[1;34m\"bbox\"\u001b[0m\u001b[1;33m,\u001b[0m \u001b[0msentinel\u001b[0m\u001b[1;33m)\u001b[0m\u001b[1;33m\u001b[0m\u001b[0m\n\u001b[1;32m--> 192\u001b[1;33m         \u001b[0msuper\u001b[0m\u001b[1;33m(\u001b[0m\u001b[0mText\u001b[0m\u001b[1;33m,\u001b[0m \u001b[0mself\u001b[0m\u001b[1;33m)\u001b[0m\u001b[1;33m.\u001b[0m\u001b[0mupdate\u001b[0m\u001b[1;33m(\u001b[0m\u001b[0mkwargs\u001b[0m\u001b[1;33m)\u001b[0m\u001b[1;33m\u001b[0m\u001b[0m\n\u001b[0m\u001b[0;32m    193\u001b[0m         \u001b[1;32mif\u001b[0m \u001b[0mbbox\u001b[0m \u001b[1;32mis\u001b[0m \u001b[1;32mnot\u001b[0m \u001b[0msentinel\u001b[0m\u001b[1;33m:\u001b[0m\u001b[1;33m\u001b[0m\u001b[0m\n\u001b[0;32m    194\u001b[0m             \u001b[0mself\u001b[0m\u001b[1;33m.\u001b[0m\u001b[0mset_bbox\u001b[0m\u001b[1;33m(\u001b[0m\u001b[0mbbox\u001b[0m\u001b[1;33m)\u001b[0m\u001b[1;33m\u001b[0m\u001b[0m\n",
      "\u001b[1;32mc:\\users\\michael\\appdata\\local\\programs\\python\\python36-32\\lib\\site-packages\\matplotlib\\artist.py\u001b[0m in \u001b[0;36mupdate\u001b[1;34m(self, props)\u001b[0m\n\u001b[0;32m    900\u001b[0m         \u001b[1;32mtry\u001b[0m\u001b[1;33m:\u001b[0m\u001b[1;33m\u001b[0m\u001b[0m\n\u001b[0;32m    901\u001b[0m             ret = [_update_property(self, k, v)\n\u001b[1;32m--> 902\u001b[1;33m                    for k, v in props.items()]\n\u001b[0m\u001b[0;32m    903\u001b[0m         \u001b[1;32mfinally\u001b[0m\u001b[1;33m:\u001b[0m\u001b[1;33m\u001b[0m\u001b[0m\n\u001b[0;32m    904\u001b[0m             \u001b[0mself\u001b[0m\u001b[1;33m.\u001b[0m\u001b[0meventson\u001b[0m \u001b[1;33m=\u001b[0m \u001b[0mstore\u001b[0m\u001b[1;33m\u001b[0m\u001b[0m\n",
      "\u001b[1;32mc:\\users\\michael\\appdata\\local\\programs\\python\\python36-32\\lib\\site-packages\\matplotlib\\artist.py\u001b[0m in \u001b[0;36m<listcomp>\u001b[1;34m(.0)\u001b[0m\n\u001b[0;32m    900\u001b[0m         \u001b[1;32mtry\u001b[0m\u001b[1;33m:\u001b[0m\u001b[1;33m\u001b[0m\u001b[0m\n\u001b[0;32m    901\u001b[0m             ret = [_update_property(self, k, v)\n\u001b[1;32m--> 902\u001b[1;33m                    for k, v in props.items()]\n\u001b[0m\u001b[0;32m    903\u001b[0m         \u001b[1;32mfinally\u001b[0m\u001b[1;33m:\u001b[0m\u001b[1;33m\u001b[0m\u001b[0m\n\u001b[0;32m    904\u001b[0m             \u001b[0mself\u001b[0m\u001b[1;33m.\u001b[0m\u001b[0meventson\u001b[0m \u001b[1;33m=\u001b[0m \u001b[0mstore\u001b[0m\u001b[1;33m\u001b[0m\u001b[0m\n",
      "\u001b[1;32mc:\\users\\michael\\appdata\\local\\programs\\python\\python36-32\\lib\\site-packages\\matplotlib\\artist.py\u001b[0m in \u001b[0;36m_update_property\u001b[1;34m(self, k, v)\u001b[0m\n\u001b[0;32m    893\u001b[0m                 \u001b[0mfunc\u001b[0m \u001b[1;33m=\u001b[0m \u001b[0mgetattr\u001b[0m\u001b[1;33m(\u001b[0m\u001b[0mself\u001b[0m\u001b[1;33m,\u001b[0m \u001b[1;34m'set_'\u001b[0m \u001b[1;33m+\u001b[0m \u001b[0mk\u001b[0m\u001b[1;33m,\u001b[0m \u001b[1;32mNone\u001b[0m\u001b[1;33m)\u001b[0m\u001b[1;33m\u001b[0m\u001b[0m\n\u001b[0;32m    894\u001b[0m                 \u001b[1;32mif\u001b[0m \u001b[1;32mnot\u001b[0m \u001b[0mcallable\u001b[0m\u001b[1;33m(\u001b[0m\u001b[0mfunc\u001b[0m\u001b[1;33m)\u001b[0m\u001b[1;33m:\u001b[0m\u001b[1;33m\u001b[0m\u001b[0m\n\u001b[1;32m--> 895\u001b[1;33m                     \u001b[1;32mraise\u001b[0m \u001b[0mAttributeError\u001b[0m\u001b[1;33m(\u001b[0m\u001b[1;34m'Unknown property %s'\u001b[0m \u001b[1;33m%\u001b[0m \u001b[0mk\u001b[0m\u001b[1;33m)\u001b[0m\u001b[1;33m\u001b[0m\u001b[0m\n\u001b[0m\u001b[0;32m    896\u001b[0m                 \u001b[1;32mreturn\u001b[0m \u001b[0mfunc\u001b[0m\u001b[1;33m(\u001b[0m\u001b[0mv\u001b[0m\u001b[1;33m)\u001b[0m\u001b[1;33m\u001b[0m\u001b[0m\n\u001b[0;32m    897\u001b[0m \u001b[1;33m\u001b[0m\u001b[0m\n",
      "\u001b[1;31mAttributeError\u001b[0m: Unknown property loc"
     ]
    },
    {
     "data": {
      "image/png": "[encoded data removed]",
      "text/plain": [
       "<matplotlib.figure.Figure at 0x31bc730>"
      ]
     },
     "metadata": {},
     "output_type": "display_data"
    }
   ],
   "source": [
    "# adsabs.harard.edu/abs\n",
    "# 1P/Halley Distance @ Perihelion: 8.766e10 m\n",
    "# 1P/Halley Velocity @ Perihelion: 55000 m/s\n",
    "\n",
    "# Initial conditions (see https://nssdc.gsfc.nasa.gov/planetary/factsheet/moonfact.html)\n",
    "x0 = np.asarray([0.3633e9, 0], dtype=np.float64) # m \n",
    "v0 = np.asarray([0,  1.082e3], dtype=np.float64) # m/s\n",
    "m = 7.34767309e22 # kg\n",
    "\n",
    "# Simulation parameters.\n",
    "dt   = 1 # Hours\n",
    "time = 100# Days\n",
    "\n",
    "# Run simulation.\n",
    "t_smp, x_smp, v_smp, a_smp = euler_method(gravitational_acceleration,\n",
    "                                          x0=x0,\n",
    "                                          v0=v0,\n",
    "                                          t0=np.asarray(0.0, dtype=np.float64),\n",
    "                                          tf=np.asarray(3600*24*time, dtype=np.float64),\n",
    "                                          dt=np.asarray(3600*dt, dtype=np.float64),\n",
    "                                          modified=False,\n",
    "                                          m=m)\n",
    "\n",
    "t_cro, x_cro, v_cro, a_cro = euler_method(gravitational_acceleration,\n",
    "                                          x0=x0,\n",
    "                                          v0=v0,\n",
    "                                          t0=np.asarray(0.0, dtype=np.float64),\n",
    "                                          tf=np.asarray(3600*24*time, dtype=np.float64),\n",
    "                                          dt=np.asarray(3600*dt, dtype=np.float64),\n",
    "                                          modified=True,\n",
    "                                          m=m)\n",
    "\n",
    "# Plot orbit and label bodies.\n",
    "plt.plot(0, 0, marker='o', color='black', markersize=5)\n",
    "plt.plot(x0[0], x0[1], marker='o', color='black', markersize=4)\n",
    "plt.annotate('Earth', (0,0))\n",
    "plt.annotate('Moon', x0, loc='left')\n",
    "\n",
    "# Plot both Simple Euler and Euler-Cromer solutionns.\n",
    "plt.plot(x_smp[:,0], x_smp[:,1], color='black', linestyle='--', label='Simple Euler')\n",
    "plt.plot(x_cro[:,0], x_cro[:,1], color='black', linestyle='-', label='Euler-Cromer')\n",
    "\n",
    "# Adjust plot parameters and labels.\n",
    "plt.tick_params(which='both', direction='in')\n",
    "plt.grid(which='both', linestyle=':')\n",
    "plt.axis('equal')\n",
    "plt.xlabel('x-distance (m)')\n",
    "plt.ylabel('y-distance (m)')\n",
    "plt.title('Trajectory of the Orbit of the Moon')\n",
    "plt.legend(loc='upper left')\n",
    "plt.show()"
   ]
  },
  {
   "cell_type": "markdown",
   "metadata": {},
   "source": [
    "### Exercise 2\n",
    "\n",
    "Alter your (MATLAB or C) program to model the orbital trajectory of Halley's Commet around the Sun. Produce plots of the orbital trajectory and demonstrate that your model correctly simulated the period, the aphelion, and perihelion of the comet's orbit. Don't forget to address the accuracy issue (what is a sufficiently small $\\Delta t$?"
   ]
  }
 ],
 "metadata": {
  "kernelspec": {
   "display_name": "Python 3",
   "language": "python",
   "name": "python3"
  },
  "language_info": {
   "codemirror_mode": {
    "name": "ipython",
    "version": 3
   },
   "file_extension": ".py",
   "mimetype": "text/x-python",
   "name": "python",
   "nbconvert_exporter": "python",
   "pygments_lexer": "ipython3",
   "version": "3.6.2"
  }
 },
 "nbformat": 4,
 "nbformat_minor": 2
}
