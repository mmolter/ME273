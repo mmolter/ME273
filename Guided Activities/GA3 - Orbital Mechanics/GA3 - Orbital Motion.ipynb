{
 "cells": [
  {
   "cell_type": "markdown",
   "metadata": {},
   "source": [
    "# Guided Activity Three\n",
    "## Orbital Motion\n",
    "\n",
    "Round three with Python! \n",
    "\n",
    "We will be building a model of orbital motion. This is the first time we will be applying the euler method in more than a single dimension. Let's again try to enfore code re-use: we may need to generalize our alorithms to accept tuples?\n",
    "\n",
    "As usual, we start with imports."
   ]
  },
  {
   "cell_type": "code",
   "execution_count": 4,
   "metadata": {},
   "outputs": [],
   "source": [
    "import matplotlib.pyplot as plt\n",
    "import numpy as np\n",
    "\n",
    "%matplotlib inline"
   ]
  },
  {
   "cell_type": "code",
   "execution_count": 5,
   "metadata": {},
   "outputs": [],
   "source": [
    "def gravitational_acceleration(x, v, m, M=5.972e24, G=6.67408e-11):\n",
    "    ''' Return x and y components of acceleration due to gravitity.\n",
    "    \n",
    "        Uses:\n",
    "                    G * m * M / r**2\n",
    "                    \n",
    "        Args:\n",
    "            G (float):   gravitational constant (m**3/(kg * s**2)))\n",
    "            M (float):   mass of larger object (kg; default is Earth)\n",
    "            m (float):   mass of smaller object (kg)\n",
    "            x (float):   x distance from larger object (m)\n",
    "            y (float):   y distance from larger object (m)\n",
    "        \n",
    "        Return:\n",
    "            [float, float]: direction vector\n",
    "    '''\n",
    "    \n",
    "    r = np.sqrt(np.sum(x**2))\n",
    "    a = -1 * (G * M / (r*r*r)) * x\n",
    "    \n",
    "    return a"
   ]
  },
  {
   "cell_type": "markdown",
   "metadata": {},
   "source": [
    "Now let's reuse the Euler method from our last excercise, being careful to make sure it will accept array inputs. Let's try and really tear up this function. I want to write it in super fast numpy arrays."
   ]
  },
  {
   "cell_type": "code",
   "execution_count": 14,
   "metadata": {},
   "outputs": [],
   "source": [
    "def euler_method(acceleration, t0, tf, dt, x0=0, v0=0, modified=False, **kwargs):\n",
    "    ''' Returns t, x, v, and a arrays for Euler Method\n",
    "\n",
    "        Args:\n",
    "            acceleration (func):  a function that accepts x, v, and **kwargs and \n",
    "                                      return acceleration.\n",
    "            t0 (float):           initial time (s)\n",
    "            tf (float):           final time (s)\n",
    "            dt (float):           time step (s)\n",
    "            x0 (np.array):        initial displacement, downwards positive (m)\n",
    "            v0 (np.array):        intiial velocity, downwards positive (m/s)\n",
    "            **kwargs:             any additional arguments required for the \n",
    "                                      accleration function\n",
    "\n",
    "            modified (bool):\tturns on modified euler method.\n",
    "\n",
    "        Returns:\n",
    "            np.float64 (np.array): lisf times (s)\n",
    "            np.float64 (np.array): list of positions, downwards positive (m)\n",
    "            np.float64 (np.array): list of velocities, downwards positive (m/s)\n",
    "            np.float64 (np.array): list of acceleration, downwards positive (m/s**2)\n",
    "    '''\n",
    "\n",
    "    t = np.arange(start=t0, stop=tf, step=dt, dtype=np.float64)\n",
    "    \n",
    "    points = t.size\n",
    "    dimensions, = x0.shape\n",
    "    \n",
    "    x = np.empty([points, dimensions])\n",
    "    v = np.empty([points, dimensions])\n",
    "    a = np.empty([points, dimensions])\n",
    "    \n",
    "    x[0] = x0\n",
    "    v[0] = v0\n",
    "    a[0] = acceleration(x0, v0, **kwargs)\n",
    "\n",
    "    for i in range(1, points):\n",
    "        a[i] = acceleration(x[i-1], v[i-1], **kwargs)\n",
    "        \n",
    "        if modified:\n",
    "            v[i] = v[i-1] + dt * a[i]\n",
    "            x[i] = x[i-1] + dt * v[i]\n",
    "        else:        \n",
    "            x[i] = x[i-1] + dt * v[i-1]\n",
    "            v[i] = v[i-1] + dt * a[i]\n",
    "        \n",
    "    return t, x, v, a"
   ]
  },
  {
   "cell_type": "markdown",
   "metadata": {},
   "source": [
    "For style points, I will use the `PyEphem` library to grab the current location and velocity of the moon for x0 and v0."
   ]
  },
  {
   "cell_type": "code",
   "execution_count": 2,
   "metadata": {},
   "outputs": [],
   "source": [
    "import ephem\n",
    "\n"
   ]
  },
  {
   "cell_type": "code",
   "execution_count": 29,
   "metadata": {},
   "outputs": [
    {
     "data": {
      "image/png": "[encoded data removed]",
      "text/plain": [
       "<matplotlib.figure.Figure at 0x8934790>"
      ]
     },
     "metadata": {},
     "output_type": "display_data"
    }
   ],
   "source": [
    "for mult in list(np.linspace(1.0, 1.4, 10)):\n",
    "    x0 = np.asarray([363104000, 0], dtype=np.float64)\n",
    "    v0 = np.asarray([0, 1023 * mult], dtype=np.float64)\n",
    "    m = 100\n",
    "\n",
    "    t, x, v, a = euler_method(gravitational_acceleration,\n",
    "                                x0 = x0,\n",
    "                                v0 = v0,\n",
    "                                t0 = np.asarray(0.0, dtype=np.float64),\n",
    "                                tf = np.asarray(60*60*24*100, dtype=np.float64),\n",
    "                                dt = np.asarray(60*30, dtype=np.float64),\n",
    "                                modified=True,\n",
    "                                m=m)\n",
    "\n",
    "    plt.plot(x[:,0], x[:,1], color='black', linestyle='--')\n",
    "    \n",
    "plt.plot(0, 0, marker='o', color='black')\n",
    "plt.annotate('Earth', (0,0))\n",
    "plt.axis('equal')\n",
    "plt.show()"
   ]
  },
  {
   "cell_type": "markdown",
   "metadata": {},
   "source": [
    "### Excercise 1\n",
    "\n",
    "Recall that in class when we built the gravitational model fo the moon orbiting the Earth with a spreadsheet, we employed the modified Euler method (also known as the Euler-Cromer method) to complete the model. To gain an appreciation of why it is important to use this modified algorithm, first build a compuational (MATLAB or C) model of the moon's orbit arund Earth using the simple, non-modified Euler method. What happens to the moon's trajectory in your model (Hint: somethind disatrous!)? Provide plost of the moon's trajectory to demonstrate this disastrous behavior. Can you get reid fo the artifical behavior by making $\\Delta t$ smaller? Next, build the model (MATLAB or C) using the EUler-Cromer method. Demonstrate your model porduces the correct period of orbit. Finally, try to make an intelligen comment about why the Euler-Cromer algorithm owrks, and the non-modified Euler algorithm does not. Is there soemthing you can calculated and plot that may provide insite into why the Euler algorithm fails?\n",
    "\n",
    "#### Solution 1"
   ]
  },
  {
   "cell_type": "markdown",
   "metadata": {},
   "source": [
    "### Exercise 2\n",
    "\n",
    "Alter your (MATLAB or C) program to model the orbital trajectory of Halley's Commet around the Sun. Produce plots of the orbital trajectory and demonstrate that your model correctly simulated the period, the aphelion, and perihelion of teh comet's orbit. Don't forget to address the accuracy issue (what is a sufficiently small $\\Delta t$?"
   ]
  }
 ],
 "metadata": {
  "kernelspec": {
   "display_name": "Python 3",
   "language": "python",
   "name": "python3"
  },
  "language_info": {
   "codemirror_mode": {
    "name": "ipython",
    "version": 3
   },
   "file_extension": ".py",
   "mimetype": "text/x-python",
   "name": "python",
   "nbconvert_exporter": "python",
   "pygments_lexer": "ipython3",
   "version": "3.6.2"
  }
 },
 "nbformat": 4,
 "nbformat_minor": 2
}
