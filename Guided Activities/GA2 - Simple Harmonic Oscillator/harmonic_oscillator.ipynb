{
 "cells": [
  {
   "cell_type": "markdown",
   "metadata": {},
   "source": [
    "# Guided Activity Two\n",
    "## Simple Harmonic Oscillators\n",
    "\n",
    "Time for some more Python!\n",
    "\n",
    "This time we will be exploring simple harmonic oscillators (SHOs). A naive simple Euler method implementation fails to model SHOs accurately because energy is \"not conserved\" with each iteration. Later we will apply a fix for this."
   ]
  },
  {
   "cell_type": "markdown",
   "metadata": {},
   "source": [
    "Set zero is our library imports. We use `matplotlib.pyplot` for graphing, and `numpy` for rapid numerical calculations."
   ]
  },
  {
   "cell_type": "code",
   "execution_count": 1,
   "metadata": {},
   "outputs": [],
   "source": [
    "import matplotlib.pyplot as plt\n",
    "import numpy as np"
   ]
  },
  {
   "cell_type": "markdown",
   "metadata": {},
   "source": [
    "As before, we will build a set of tools that we can use to solve our assignment questions. I will start by encapsulating the exact acceleration function in a Python function.\n",
    "\n",
    "$$\n",
    "    a(t) = -\\frac{k}{m} x^2\n",
    "$$\n",
    "\n",
    "In Python, we get the function,"
   ]
  },
  {
   "cell_type": "code",
   "execution_count": 2,
   "metadata": {},
   "outputs": [],
   "source": [
    "def acceleration(x, v, k, m):\n",
    "    ''' Returns acceleration of a simple harmonic oscillator based on position\n",
    "\n",
    "        Uses the equation:\n",
    "\n",
    "                a(t) = - (k/m) x**2\n",
    "\n",
    "        Args:\n",
    "            x (float):  displacement, downwards positive (m)\n",
    "            v (float):  velocity, ignored (m)\n",
    "            k (float):  spring constant (N/m)\n",
    "            m (float):  mass (kg)\n",
    "\n",
    "        Returns:\n",
    "            float:  acceleration, downwards positive (m/s**2)\n",
    "    '''\n",
    "\n",
    "    return -1 * (k/m) * x"
   ]
  },
  {
   "cell_type": "markdown",
   "metadata": {},
   "source": [
    "From classical physics, we know that the period of an SHO is:\n",
    "\n",
    "$$ T = 2\\pi\\sqrt{\\frac{m}{k}} $$\n",
    "\n",
    "And in Python, this goes something like,"
   ]
  },
  {
   "cell_type": "code",
   "execution_count": 3,
   "metadata": {},
   "outputs": [],
   "source": [
    "def oscillator_period(m, k):\n",
    "    ''' Return the period, T, of a simple harmonic oscillator.\n",
    "\n",
    "    Uses:\n",
    "\n",
    "        T = 2 * pi * sqrt(m / k)\n",
    "\n",
    "    Args:\n",
    "        m (float):  mass (kg)\n",
    "        k (float):  spring constant (N/m)\n",
    "\n",
    "    Returns:\n",
    "        float:  period (s)\n",
    "    '''\n",
    "\n",
    "    return 2 * np.pi * np.sqrt(m / k)"
   ]
  },
  {
   "cell_type": "markdown",
   "metadata": {},
   "source": [
    "Similarly, the angular frequency of an oscillator is:\n",
    "\n",
    "$$\n",
    "    \\omega = \\frac{2\\pi}{T}\n",
    "$$\n",
    "\n",
    "To enforce the DRY principle (do not repeat yourself), we will derrive angular frequency from the period rather than from base units."
   ]
  },
  {
   "cell_type": "code",
   "execution_count": 23,
   "metadata": {},
   "outputs": [],
   "source": [
    "def oscillator_angular_frequency(m, k):\n",
    "    ''' Return the period, T, of a simple harmonic oscillator.\n",
    "\n",
    "    Uses:\n",
    "\n",
    "        w = 2*pi / T\n",
    "\n",
    "    Args:\n",
    "        m (float):  mass (kg)\n",
    "        k (float):  spring constant (N/m)\n",
    "\n",
    "    Returns:\n",
    "        float:  angular frequency (rad/s)\n",
    "    '''\n",
    "\n",
    "    return 2 * np.pi / oscillator_period(m, k)"
   ]
  },
  {
   "cell_type": "markdown",
   "metadata": {},
   "source": [
    "Energy in a SHO, at any instant, is given by the equation:\n",
    "\n",
    "$$\n",
    "    E = U_k + U_p + U_g\n",
    "$$\n",
    "\n",
    "$$\n",
    "    E = \\frac{1}{2}mv^2 + \\frac{1}{2}(y + y_0)^2 - mg(y + y_0)\n",
    "$$\n",
    "\n",
    "In python, we have the function,"
   ]
  },
  {
   "cell_type": "code",
   "execution_count": 4,
   "metadata": {},
   "outputs": [],
   "source": [
    "def oscillator_energy(x, v, k, m):\n",
    "    ''' Return the energy (J) in an oscillator at any instant of time.\n",
    "    \n",
    "        Uses equation:\n",
    "        \n",
    "            E = 0.5*mv**2 + 0.5*x**2 - mgx\n",
    "            \n",
    "        Assuming the oscillators equilibrium position is 0 m.\n",
    "        \n",
    "        Args:\n",
    "            x (float):   displacement (m)\n",
    "            v (float):   velocity (m/s)\n",
    "            k (float):   spring constant (N/m)\n",
    "            m (float):   mass (kg)\n",
    "            \n",
    "        Returns:\n",
    "            float:    energy of system (J)\n",
    "    \n",
    "    '''\n",
    "    \n",
    "    return 0.5 * m * v**2 + 0.5 * x**2 - m * g * x"
   ]
  },
  {
   "cell_type": "markdown",
   "metadata": {},
   "source": [
    "We will try to encourage code reuse by modifying our previous euler function. This new function has a keyword option that allows ther caller to specify \"modified Euler\". Also, the function accepts an `acceleration` function so that its can work with any forcing function (simple harmonic oscillator or free-fall)."
   ]
  },
  {
   "cell_type": "code",
   "execution_count": 5,
   "metadata": {},
   "outputs": [],
   "source": [
    "def euler_method(acceleration, t0, x0, v0, tf, dt, modified=False, verbose=False, **kwargs):\n",
    "    ''' Returns t, x, v, and a lists for Modified Euler Method\n",
    "\n",
    "        Args:\n",
    "            acceleration (func):  a function that accepts x, v, and **kwargs and \n",
    "                                      return acceleration.\n",
    "            t0 (float):           initial time (s)\n",
    "            tf (float):           final time (s)\n",
    "            dt (float):           time step (s)\n",
    "            x0 (float):           initial displacement, downwards positive (m)\n",
    "            v0 (float):           intiial velocity, downwards positive (m/s)\n",
    "            **kwargs:             any additional arguments required for the \n",
    "                                      accleration function\n",
    "\n",
    "            modified (bool):\tturns on modified euler method.\n",
    "            verbose (bool):\t\tturns on printing of each time-step.\n",
    "\n",
    "        Returns:\n",
    "            float (list): lisf times (s)\n",
    "            float (list): list of positions, downwards positive (m)\n",
    "            float (list): list of velocities, downwards positive (m/s)\n",
    "            float (list): list of acceleration, downwards positive (m/s**2)\n",
    "    '''\n",
    "\n",
    "    t = t0\n",
    "    x = x0\n",
    "    v = v0\n",
    "    a = acceleration(x, v, **kwargs)\n",
    "\n",
    "    t_num = [t]\n",
    "    x_num = [x]\n",
    "    v_num = [v]\n",
    "    a_num = [a]\n",
    "\n",
    "    while t < tf:\n",
    "        if verbose: print('{:.3f} {:.3f} {:.3f} {:.3f}'.format(t, x, v, a))\n",
    "\n",
    "        a = acceleration(x, v, **kwargs)\n",
    "        t += dt\n",
    "\n",
    "        if modified:\n",
    "            v += dt * a\n",
    "            x += dt * v\n",
    "        else:\n",
    "            x += dt * v\n",
    "            v += dt * a\n",
    "\n",
    "        t_num.append(t)\n",
    "        x_num.append(x)\n",
    "        v_num.append(v)\n",
    "        a_num.append(a)\n",
    "\n",
    "    return t_num, x_num, v_num, a_num"
   ]
  },
  {
   "cell_type": "markdown",
   "metadata": {},
   "source": [
    "As with the previous guided activity, classical physics gives us an exact solution for both displacement and velocity:\n",
    "\n",
    "$$\n",
    "    x(t) = x_0 \\cos\\left(\\sqrt{\\frac{k}{m}t}\\right)\n",
    "$$\n",
    "\n",
    "and, \n",
    "\n",
    "$$\n",
    "    v(t) = -x_0\\sqrt{\\frac{k}{m}}\\sin\\left(\\sqrt{\\frac{k}{m}}t\\right)\n",
    "$$\n",
    "\n",
    "We will also build a convenience function for returning the exact position, velocity, and acceleration in the same format as our Euler method function."
   ]
  },
  {
   "cell_type": "code",
   "execution_count": 6,
   "metadata": {},
   "outputs": [],
   "source": [
    "def exact_position(t, x0, k, m):\n",
    "    ''' Returns position as determined by analytical SHO position.\n",
    "    \n",
    "        Uses:\n",
    "            \n",
    "            x(t) = x_0 * cos(sqrt(k/m)*t)\n",
    "            \n",
    "        Args:\n",
    "            t (float):   time (s)\n",
    "            x0 (float):  initial displacement, downwards positive (m)\n",
    "            k (float):   spring constant (N/m)\n",
    "            m (float):   mass (kg)\n",
    "            \n",
    "        Returns:\n",
    "            float: displacement (m)\n",
    "    '''\n",
    "    \n",
    "    return x0 * np.cos(np.sqrt(k / m) * t)\n",
    "\n",
    "def exact_velocity(t, x0, k, m):\n",
    "    ''' Returns velocity as determined by analytical SHO position.\n",
    "    \n",
    "        Uses:\n",
    "            \n",
    "            x(t) = -x_0 * sqrt(k/m) * sin(sqrt(k/m)*t)\n",
    "            \n",
    "        Args:\n",
    "            t (float):   time (s)\n",
    "            x0 (float):  initial displacement, downwards positive (m)\n",
    "            k (float):   spring constant (N/m)\n",
    "            m (float):   mass (kg)\n",
    "            \n",
    "        Returns:\n",
    "            float: displacement (m)\n",
    "    '''\n",
    "    \n",
    "    return -1 * x0 * np.sqrt(k / m) * np.sin(np.sqrt(k / m) * t)\n",
    "\n",
    "def exact_oscillator(times, x0, k, m):\n",
    "    ''' Returns t, x, v, and a lists based on analytical solution to SHO.\n",
    "\n",
    "        Args:\n",
    "            times (list):  list of times to calculate x, v, and a (s)\n",
    "            x0 (float):    initial displacement, downwards positive (m)\n",
    "            k (float):     spring constant (N/m)\n",
    "            m (float):     mass (kg)\n",
    "\n",
    "        Returns:\n",
    "            float (list): lisf times (s)\n",
    "            float (list): list of positions, downwards positive (m)\n",
    "            float (list): list of velocities, downwards positive (m/s)\n",
    "            float (list): list of acceleration, downwards positive (m/s**2)\n",
    "    '''\n",
    "\n",
    "    t_ext = np.asarray(times)\n",
    "    x_ext = exact_position(t_ext, x0=x0, k=k, m=m)\n",
    "    v_ext = exact_velocity(t_ext, x0=x0, k=k, m=m)\n",
    "    a_ext = acceleration(x_ext, v_ext, k=k, m=m)\n",
    "    \n",
    "    return t_ext, x_ext, v_ext, a_ext"
   ]
  },
  {
   "cell_type": "markdown",
   "metadata": {},
   "source": [
    "### Excercise 1: Euler Algorithm Model of a SHO\n",
    "\n",
    "Build a computational model of a simple hanging harmonic oscillator using the Euler method with MATLAB or C. Use realistic values for the parameters (i.e., spring constant k and attached mass m) such as would be encountered in a typical introductory mechanics laboratory exercise. Also, assume that the mass of the spring is negligible compared to the attached mass, and that the harmonic oscillator has been stretched vertically downward a distance $y_{0}$, relative to its hanging equilibrium position and released from rest. Use the model to produce graphs of the position and velocity of the mass as a function of time, and compare these with the exact functions for the position and velocity, \n",
    "\n",
    "$$y(t)=y_{0}\\cos\\left(\\sqrt{\\frac{k}{m}}t\\right)$$\n",
    "\n",
    "and,\n",
    "\n",
    "$$v(t)=-\\sqrt{\\frac{k}{m}}y_{0}\\sin\\left(\\sqrt{\\frac{k}{m}}t\\right)$$,\n",
    "\n",
    "that result from solving Newton’s 2nd Law analytically. Does the angular frequency match that expected for a simple harmonic oscillator of mass m and spring constant k?"
   ]
  },
  {
   "cell_type": "markdown",
   "metadata": {},
   "source": [
    "#### Solution 1:\n",
    "\n",
    "The first step is to identify realistic values for $k$ and $m$. A standard physics classroom will have 250 g calibration masses and a meter stick. Therefore a a spring constant, k, of 2.5 N/m sounds normal."
   ]
  },
  {
   "cell_type": "code",
   "execution_count": 45,
   "metadata": {},
   "outputs": [],
   "source": [
    "k = 2.5\n",
    "m = 0.250\n",
    "x0 = 0.10\n",
    "\n",
    "t0 = 0\n",
    "tf = 15"
   ]
  },
  {
   "cell_type": "markdown",
   "metadata": {},
   "source": [
    "Now, with our parameters we can run the numerical and exact models."
   ]
  },
  {
   "cell_type": "code",
   "execution_count": 46,
   "metadata": {},
   "outputs": [],
   "source": [
    "t_num, x_num, v_num, a_num = euler_method(acceleration, t0=t0, x0=x0, v0=0, tf=tf, dt=0.01, \n",
    "                                    modified=False, verbose=False, k=k, m=m)\n",
    "\n",
    "t_ext, x_ext, v_ext, a_ext = exact_oscillator(t_num, x0=x0, k=k, m=m)"
   ]
  },
  {
   "cell_type": "markdown",
   "metadata": {},
   "source": [
    "We can calculated the expected period."
   ]
  },
  {
   "cell_type": "code",
   "execution_count": 47,
   "metadata": {},
   "outputs": [],
   "source": [
    "T = oscillator_period(k=k, m=m)"
   ]
  },
  {
   "cell_type": "markdown",
   "metadata": {},
   "source": [
    "Now we can plot our two functions."
   ]
  },
  {
   "cell_type": "code",
   "execution_count": 48,
   "metadata": {},
   "outputs": [
    {
     "data": {
      "image/png": "[encoded data removed]",
      "text/plain": [
       "<matplotlib.figure.Figure at 0x2aca1f0>"
      ]
     },
     "metadata": {},
     "output_type": "display_data"
    }
   ],
   "source": [
    "plt.plot(t_num, x_num, label='numerical', linestyle='-', color='black', linewidth=2)\n",
    "plt.plot(t_ext, x_ext, label='exact', linestyle='--', color='black', linewidth=1)\n",
    "\n",
    "plt.tick_params(which='both', direction='in')\n",
    "\n",
    "# Gridlines\n",
    "plt.axhline(0,   linestyle=':', color='black', linewidth=0.5)\n",
    "plt.axhline(x0,  linestyle=':', color='black', linewidth=0.5)\n",
    "plt.axhline(-x0, linestyle=':', color='black', linewidth=0.5)\n",
    "\n",
    "t = t0\n",
    "while t < tf:\n",
    "    plt.axvline(t, linestyle=':', color='black', linewidth=0.5)\n",
    "    t += T\n",
    "\n",
    "plt.title('Simple Harmonic Oscillator (k=2.5 N/m, m=250 g, x0=10 cm)')\n",
    "plt.ylabel('Displacement (m)')\n",
    "plt.xlabel('Time (s)')\n",
    "\n",
    "plt.legend(['numerical', 'exact'])\n",
    "\n",
    "plt.show()"
   ]
  },
  {
   "cell_type": "markdown",
   "metadata": {},
   "source": [
    "By simple visual inspection, the peaks of both the numerical and exact solutions seem to line up on period markers; however, we can use a peak detection algorithm to get a more precise answer."
   ]
  },
  {
   "cell_type": "code",
   "execution_count": 49,
   "metadata": {},
   "outputs": [
    {
     "data": {
      "image/png": "[encoded data removed]",
      "text/plain": [
       "<matplotlib.figure.Figure at 0x2b2e3d0>"
      ]
     },
     "metadata": {},
     "output_type": "display_data"
    },
    {
     "data": {
      "text/plain": [
       "1.9869176531592203"
      ]
     },
     "execution_count": 49,
     "metadata": {},
     "output_type": "execute_result"
    }
   ],
   "source": [
    "fy = np.fft.fft(x_num)\n",
    "dt = t_num[1] - t_num[0]\n",
    "n = len(t_num)\n",
    "freqs = np.fft.fftfreq(len(t_num), d=dt) # Frequencies associated with each samples\n",
    "plt.plot(np.fft.fftshift(freqs), np.fft.fftshift(abs(fy)))\n",
    "\n",
    "plt.xlim([0, 2])\n",
    "plt.show()\n",
    "\n",
    "T"
   ]
  },
  {
   "cell_type": "markdown",
   "metadata": {},
   "source": [
    "### Exercise 2: Artificial Behavior with the Euler Algorithm \n",
    "\n",
    "You may (should!) have noticed that something is not right with the Euler model of your hanging oscillator. Describe in detail the artificial behavior you observe in your model, and explain why it doesn’t represent a realistic oscillating mass. Recall that in the Euler method, the accuracy of the solution can be increased by using a smaller value of $\\Delta t$. Can you get rid of the artificial behavior by making \\Delta t smaller? "
   ]
  },
  {
   "cell_type": "markdown",
   "metadata": {},
   "source": [
    "### Exercise 3: Energy in the Euler Algorithm Model of a SHO \n",
    "\n",
    "Modify your model to produce a graph of the total energy of the oscillator as a function of time. Describe in detail what happens to the energy, and the artificial behavior observed. Can this artificial behavior in the energy be corrected by making $\\Delta t$ smaller? What can you conclude about using the Euler method to model a simple harmonic oscillator?"
   ]
  },
  {
   "cell_type": "markdown",
   "metadata": {},
   "source": [
    "### Exercise 4: Euler-Cromer Algorithm Model of a SHO \n",
    "\n",
    "Build a model of the hanging oscillator using the modified Euler, or Euler-Cromer, numerical method. Compare the results you obtain (i.e. position and velocity vs. time) with those obtained from the simple Euler method, and with the exact solution. Comment in detail on your results."
   ]
  },
  {
   "cell_type": "markdown",
   "metadata": {},
   "source": [
    "### Exercise 5: Energy in the Euler-Cromer Algorithm Model of a SHO \n",
    "\n",
    "Modify your model to produce a graph of the total energy as a function of time. Is energy conserved for the Euler-Cromer algorithm?"
   ]
  },
  {
   "cell_type": "code",
   "execution_count": null,
   "metadata": {},
   "outputs": [],
   "source": []
  }
 ],
 "metadata": {
  "kernelspec": {
   "display_name": "Python 3",
   "language": "python",
   "name": "python3"
  },
  "language_info": {
   "codemirror_mode": {
    "name": "ipython",
    "version": 3
   },
   "file_extension": ".py",
   "mimetype": "text/x-python",
   "name": "python",
   "nbconvert_exporter": "python",
   "pygments_lexer": "ipython3",
   "version": "3.6.2"
  }
 },
 "nbformat": 4,
 "nbformat_minor": 2
}
