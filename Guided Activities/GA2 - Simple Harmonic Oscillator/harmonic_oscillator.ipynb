{
 "cells": [
  {
   "cell_type": "markdown",
   "metadata": {},
   "source": [
    "# Guided Activity Two\n",
    "## Simple Harmonic Oscillators\n",
    "\n",
    "Time for some more Python!\n",
    "\n",
    "This time we will be exploring simple harmonic oscillators (SHOs). A naive simple Euler method implementation fails to model SHOs accurately because energy is \"not conserved\" with each iteration. Later we will apply a fix for this."
   ]
  },
  {
   "cell_type": "markdown",
   "metadata": {},
   "source": [
    "Set zero is our library imports. We use `matplotlib.pyplot` for graphing, and `numpy` for rapid numerical calculations."
   ]
  },
  {
   "cell_type": "code",
   "execution_count": 2,
   "metadata": {},
   "outputs": [],
   "source": [
    "import matplotlib.pyplot as plt\n",
    "import numpy as np"
   ]
  },
  {
   "cell_type": "markdown",
   "metadata": {},
   "source": [
    "As before, we will build a set of tools that we can use to solve our assignment questions. I will start by encapsulating the exact acceleration function in a Python function.\n",
    "\n",
    "$$\n",
    "    a(t) = -\\frac{k}{m} x^2\n",
    "$$\n",
    "\n",
    "In Python, we get the function,"
   ]
  },
  {
   "cell_type": "code",
   "execution_count": 3,
   "metadata": {},
   "outputs": [],
   "source": [
    "def acceleration(x, k, m):\n",
    "    ''' Returns acceleration of a simple harmonic oscillator based on position\n",
    "\n",
    "        Uses the equation:\n",
    "\n",
    "                a(t) = - (k/m) x**2\n",
    "\n",
    "        Args:\n",
    "            x (float):\tdisplacement, downwards positive (m)\n",
    "            k (float):\tspring constant (N/m)\n",
    "            m (float):\tmass (kg)\n",
    "\n",
    "        Returns:\n",
    "            float:\tacceleration, downwards positive (m/s**2)\n",
    "    '''\n",
    "\n",
    "    return -1 * (k/m) * x"
   ]
  },
  {
   "cell_type": "markdown",
   "metadata": {},
   "source": [
    "From classical physics, we know that the period of an SHO is:\n",
    "\n",
    "$$ T = 2\\pi\\sqrt{\\frac{m}{k}} $$\n",
    "\n",
    "And in Python, this goes something like,"
   ]
  },
  {
   "cell_type": "code",
   "execution_count": 4,
   "metadata": {},
   "outputs": [],
   "source": [
    "def oscillator_period(m, k):\n",
    "    ''' Return the period, T, of a simple harmonic oscillator.\n",
    "\n",
    "    Uses:\n",
    "\n",
    "        T = 2 * pi * sqrt(m / k)\n",
    "\n",
    "    Args:\n",
    "        m (float):\tmass (kg)\n",
    "        k (float):\tspring constant (N/m)\n",
    "\n",
    "    Returns:\n",
    "        float:\tperiod (s)\n",
    "\n",
    "    '''\n",
    "\n",
    "    return 2 * np.pi * np.sqrt(m / k)"
   ]
  },
  {
   "cell_type": "markdown",
   "metadata": {},
   "source": [
    "Energy in a SHO, at any instant, is given by the equation:\n",
    "\n",
    "$$\n",
    "    E = U_k + U_p + U_g\n",
    "$$\n",
    "\n",
    "$$\n",
    "    E = \\frac{1}{2}mv^2 + \\frac{1}{2}(y + y_0)^2 - mg(y + y_0)\n",
    "$$\n",
    "\n",
    "In python, we have the function,"
   ]
  },
  {
   "cell_type": "code",
   "execution_count": null,
   "metadata": {},
   "outputs": [],
   "source": [
    "def oscillator_energy(x, v, k, m):\n",
    "    ''' Return the energy (J) in an oscillator at any instant of time.\n",
    "    \n",
    "        Uses equation:\n",
    "        \n",
    "            E = 0.5*mv**2 + 0.5*x**2 - mgx\n",
    "            \n",
    "        Assuming the oscillators equilibrium position is 0 m.\n",
    "        \n",
    "        Args:\n",
    "            x (float):   displacement (m)\n",
    "            v (float):   velocity (m/s)\n",
    "            k (float):   spring constant (N/m)\n",
    "            m (float):   mass (kg)\n",
    "            \n",
    "        Returns:\n",
    "            float:    energy of system (J)\n",
    "    \n",
    "    '''\n",
    "    \n",
    "    return 0.5 * m * v**2 + 0.5 * x**2 - m * g * x"
   ]
  },
  {
   "cell_type": "markdown",
   "metadata": {},
   "source": [
    "We will try to encourage code reuse by modifying our previous euler function. This new function has a keyword option that allows ther caller to specify \"modified Euler\""
   ]
  },
  {
   "cell_type": "code",
   "execution_count": 1,
   "metadata": {},
   "outputs": [],
   "source": [
    "def euler_oscillator(t0, x0, v0, k, m, tf, dt, modified=False, verbose=False):\n",
    "    ''' Returns t, x, v, and a lists for Modified Euler Method\n",
    "\n",
    "        Args:\n",
    "            t0 (float):\tinitial time (s)\n",
    "            tf (float): final time (s)\n",
    "            dt (float): time step (s)\n",
    "            x0 (float): initial displacement, downwards positive (m)\n",
    "            v0 (float): intiial velocity, downwards positive (m/s)\n",
    "            k (float):\tspring constant (N/m)\n",
    "            m (float):\tmass (kg)\n",
    "\n",
    "            modified (bool):\tturns on modified euler method.\n",
    "            verbose (bool):\t\tturns on printing of each time-step.\n",
    "\n",
    "        Returns:\n",
    "            float (list): lisf times (s)\n",
    "            float (list): list of positions, downwards positive (m)\n",
    "            float (list): list of velocities, downwards positive (m/s)\n",
    "            float (list): list of acceleration, downwards positive (m/s**2)\n",
    "    '''\n",
    "\n",
    "    t = t0\n",
    "    x = x0\n",
    "    v = v0\n",
    "    a = acceleration(x, k, m)\n",
    "\n",
    "    t_num = [t]\n",
    "    x_num = [x]\n",
    "    v_num = [v]\n",
    "    a_num = [a]\n",
    "\n",
    "    while t < tf:\n",
    "        if verbose: print('{:.3f} {:.3f} {:.3f} {:.3f}'.format(t, x, v, a))\n",
    "\n",
    "        a = acceleration(x, k, m)\n",
    "        t += dt\n",
    "\n",
    "        if modified:\n",
    "            v += dt * a\n",
    "            x += dt * v\n",
    "        else:\n",
    "            x += dt * v\n",
    "            v += dt * a\n",
    "\n",
    "        t_num.append(t)\n",
    "        x_num.append(x)\n",
    "        v_num.append(v)\n",
    "        a_num.append(a)\n",
    "\n",
    "    return t_num, x_num, v_num, a_num"
   ]
  },
  {
   "cell_type": "markdown",
   "metadata": {},
   "source": [
    "As with the previous guided activity, classical physics gives us an exact solution for both displacement and velocity:\n",
    "\n",
    "$$\n",
    "    x(t) = x_0 \\cos\\left(\\sqrt{\\frac{k}{m}t}\\right)\n",
    "$$\n",
    "\n",
    "and, \n",
    "\n",
    "$$\n",
    "    v(t) = -x_0\\sqrt{\\frac{k}{m}}\\sin\\left(\\sqrt{\\frac{k}{m}}t\\right)\n",
    "$$\n",
    "\n",
    "We will also build a convenience function for returning the exact position, velocity, and acceleration in the same format as our Euler method function."
   ]
  },
  {
   "cell_type": "code",
   "execution_count": null,
   "metadata": {},
   "outputs": [],
   "source": [
    "def exact_position(t, x0, k, m):\n",
    "    ''' Returns position as determined by analytical SHO position.\n",
    "    \n",
    "        Uses:\n",
    "            \n",
    "            x(t) = x_0 * cos(sqrt(k/m)*t)\n",
    "            \n",
    "        Args:\n",
    "            t (float):   time (s)\n",
    "            x0 (float):  initial displacement, downwards positive (m)\n",
    "            k (float):   spring constant (N/m)\n",
    "            m (float):   mass (kg)\n",
    "            \n",
    "        Returns:\n",
    "            float: displacement (m)\n",
    "    '''\n",
    "    \n",
    "    return x_0 * np.cos(np.sqrt(k / m) * t)\n",
    "\n",
    "def exact_position(t, x0, k, m):\n",
    "    ''' Returns velocity as determined by analytical SHO position.\n",
    "    \n",
    "        Uses:\n",
    "            \n",
    "            x(t) = -x_0 * sqrt(k/m) * sin(sqrt(k/m)*t)\n",
    "            \n",
    "        Args:\n",
    "            t (float):   time (s)\n",
    "            x0 (float):  initial displacement, downwards positive (m)\n",
    "            k (float):   spring constant (N/m)\n",
    "            m (float):   mass (kg)\n",
    "            \n",
    "        Returns:\n",
    "            float: displacement (m)\n",
    "    '''\n",
    "    \n",
    "    return -x_0 * np.sqrt(k / m) * np.sin(np.sqrt(k / m) * t)\n",
    "\n",
    "def exact_oscillator(times, x0, k, m):\n",
    "    ''' Returns t, x, v, and a lists based on analytical solution to SHO.\n",
    "\n",
    "        Args:\n",
    "            times (list):  list of times to calculate x, v, and a (s)\n",
    "            x0 (float):    initial displacement, downwards positive (m)\n",
    "            k (float):     spring constant (N/m)\n",
    "            m (float):     mass (kg)\n",
    "\n",
    "        Returns:\n",
    "            float (list): lisf times (s)\n",
    "            float (list): list of positions, downwards positive (m)\n",
    "            float (list): list of velocities, downwards positive (m/s)\n",
    "            float (list): list of acceleration, downwards positive (m/s**2)\n",
    "    '''\n",
    "\n",
    "    t_ext = np.asarray(times)\n",
    "    x_ext = exact_position(times)\n",
    "    v_ext = exact_velocity(times)\n",
    "    \n",
    "    return t_ext, x_ext, v_ext"
   ]
  },
  {
   "cell_type": "markdown",
   "metadata": {},
   "source": [
    "### Excercise 1: Euler Algorithm Model of a SHO\n",
    "\n",
    "Build a computational model of a simple hanging harmonic oscillator using the Euler method with MATLAB or C. Use realistic values for the parameters (i.e., spring constant k and attached mass m) such as would be encountered in a typical introductory mechanics laboratory exercise. Also, assume that the mass of the spring is negligible compared to the attached mass, and that the harmonic oscillator has been stretched vertically downward a distance $y_{0}$, relative to its hanging equilibrium position and released from rest. Use the model to produce graphs of the position and velocity of the mass as a function of time, and compare these with the exact functions for the position and velocity, \n",
    "\n",
    "$$y(t)=y_{0}\\cos\\left(\\sqrt{\\frac{k}{m}}t\\right)$$\n",
    "\n",
    "and,\n",
    "\n",
    "$$v(t)=-\\sqrt{\\frac{k}{m}}y_{0}\\sin\\left(\\sqrt{\\frac{k}{m}}t\\right)$$,\n",
    "\n",
    "that result from solving Newton’s 2nd Law analytically. Does the angular frequency match that expected for a simple harmonic oscillator of mass m an spring constant k?"
   ]
  },
  {
   "cell_type": "markdown",
   "metadata": {},
   "source": [
    "### Exercise 2: Artificial Behavior with the Euler Algorithm \n",
    "\n",
    "You may (should!) have noticed that something is not right with the Euler model of your hanging oscillator. Describe in detail the artificial behavior you observe in your model, and explain why it doesn’t represent a realistic oscillating mass. Recall that in the Euler method, the accuracy of the solution can be increased by using a smaller value of $\\Delta t$. Can you get rid of the artificial behavior by making \\Delta t smaller? "
   ]
  },
  {
   "cell_type": "markdown",
   "metadata": {},
   "source": [
    "### Exercise 3: Energy in the Euler Algorithm Model of a SHO \n",
    "\n",
    "Modify your model to produce a graph of the total energy of the oscillator as a function of time. Describe in detail what happens to the energy, and the artificial behavior observed. Can this artificial behavior in the energy be corrected by making $\\Delta t$ smaller? What can you conclude about using the Euler method to model a simple harmonic oscillator?"
   ]
  },
  {
   "cell_type": "markdown",
   "metadata": {},
   "source": [
    "### Exercise 4: Euler-Cromer Algorithm Model of a SHO \n",
    "\n",
    "Build a model of the hanging oscillator using the modified Euler, or Euler-Cromer, numerical method. Compare the results you obtain (i.e. position and velocity vs. time) with those obtained from the simple Euler method, and with the exact solution. Comment in detail on your results."
   ]
  },
  {
   "cell_type": "markdown",
   "metadata": {},
   "source": [
    "### Exercise 5: Energy in the Euler-Cromer Algorithm Model of a SHO \n",
    "\n",
    "Modify your model to produce a graph of the total energy as a function of time. Is energy conserved for the Euler-Cromer algorithm?"
   ]
  },
  {
   "cell_type": "code",
   "execution_count": null,
   "metadata": {},
   "outputs": [],
   "source": []
  }
 ],
 "metadata": {
  "kernelspec": {
   "display_name": "Python 3",
   "language": "python",
   "name": "python3"
  },
  "language_info": {
   "codemirror_mode": {
    "name": "ipython",
    "version": 3
   },
   "file_extension": ".py",
   "mimetype": "text/x-python",
   "name": "python",
   "nbconvert_exporter": "python",
   "pygments_lexer": "ipython3",
   "version": "3.6.2"
  }
 },
 "nbformat": 4,
 "nbformat_minor": 2
}
