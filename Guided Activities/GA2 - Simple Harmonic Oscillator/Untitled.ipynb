{
 "cells": [
  {
   "cell_type": "markdown",
   "metadata": {},
   "source": [
    "# Guided Activity Two\n",
    "## Simple Harmonic Oscillators\n",
    "\n",
    "Time for some more Python!\n",
    "\n",
    "This time we will be exploring simple harmonic oscillators (SHOs). A naive simple Euler method implementation fails to model SHOs accurately because energy is \"not conserved\" with each iteration. Later we will apply a fix for this."
   ]
  },
  {
   "cell_type": "markdown",
   "metadata": {},
   "source": [
    "Set zero is our library imports. We use `matplotlib.pyplot` for graphing, and `numpy` for rapid numerical calculations."
   ]
  },
  {
   "cell_type": "code",
   "execution_count": 2,
   "metadata": {},
   "outputs": [],
   "source": [
    "import matplotlib.pyplot as plt\n",
    "import numpy as np"
   ]
  },
  {
   "cell_type": "markdown",
   "metadata": {},
   "source": [
    "As before, we will build a set of tools that we can use to solve our assignment questions. I will start by encapsulating the exact acceleration function in a Python function.\n",
    "\n",
    "$$\n",
    "    a(t) = -\\frac{k}{m} x^2\n",
    "$$"
   ]
  },
  {
   "cell_type": "code",
   "execution_count": 3,
   "metadata": {},
   "outputs": [],
   "source": [
    "def acceleration(x, k, m):\n",
    "\t''' Returns acceleration of a simple harmonic oscillator based on position\n",
    "\n",
    "\t\tUses the equation:\n",
    "\n",
    "\t\t\t\ta(t) = - (k/m) x**2\n",
    "\n",
    "\t\tArgs:\n",
    "\t\t\tx (float):\tdisplacement, downwards positive (m)\n",
    "\t\t\tk (float):\tspring constant (N/m)\n",
    "\t\t\tm (float):\tmass (kg)\n",
    "\n",
    "\t\tReturns:\n",
    "\t\t\tfloat:\tacceleration, downwards positive (m/s**2)\n",
    "\t'''\n",
    "\n",
    "\treturn -1 * (k/m) * x"
   ]
  },
  {
   "cell_type": "markdown",
   "metadata": {},
   "source": [
    "From classical physics, we know that the period of an SHO is:\n",
    "\n",
    "$$\n",
    "\n"
   ]
  },
  {
   "cell_type": "code",
   "execution_count": 4,
   "metadata": {},
   "outputs": [],
   "source": [
    "def oscillator_period(m, k):\n",
    "    ''' Return the period, T, of a simple harmonic oscillator.\n",
    "\n",
    "    Uses:\n",
    "\n",
    "        T = 2 * pi * sqrt(m / k)\n",
    "\n",
    "    Args:\n",
    "        m (float):\tmass (kg)\n",
    "        k (float):\tspring constant (N/m)\n",
    "\n",
    "    Returns:\n",
    "        float:\tperiod (s)\n",
    "\n",
    "    '''\n",
    "\n",
    "    return 2 * np.pi * np.sqrt(m / k)"
   ]
  },
  {
   "cell_type": "markdown",
   "metadata": {},
   "source": [
    "We will try to encourage code reuse by modifying our previous euler function. This new function has a keyword option that allows ther caller to specify \"modified Euler\""
   ]
  },
  {
   "cell_type": "code",
   "execution_count": 5,
   "metadata": {},
   "outputs": [],
   "source": [
    "def euler_method(t0, x0, v0, k, m, tf, dt, modified=False, verbose=False):\n",
    "\t''' Returns t, x, v, and a lists for Modified Euler Method\n",
    "\n",
    "\t\tArgs:\n",
    "\t\t\tt0 (float):\tinitial time (s)\n",
    "\t\t\ttf (float): final time (s)\n",
    "\t\t\tdt (float): time step (s)\n",
    "\t\t\tx0 (float): initial displacement, downwards positive (m)\n",
    "\t\t\tv0 (float): intiial velocity, downwards positive (m/s)\n",
    "\t\t\tk (float):\tspring constant (N/m)\n",
    "\t\t\tm (float):\tmass (kg)\n",
    "\n",
    "\t\t\tmodified (bool):\tturns on modified euler method.\n",
    "\t\t\tverbose (bool):\t\tturns on printing of each time-step.\n",
    "\n",
    "\t\tReturns:\n",
    "\t\t\tfloat (list): list of times (s)\t\t\t\n",
    "\t\t\tfloat (list): list of positions, downwards positive (m)\n",
    "\t\t\tfloat (list): list of velocities, downwards positive (m/s)\n",
    "\t\t\tfloat (list): list of acceleration, downwards positive (m/s**2)\n",
    "\t'''\n",
    "\n",
    "\tt = t0\n",
    "\tx = x0\n",
    "\tv = v0\n",
    "\ta = acceleration(x, k, m)\n",
    "\n",
    "\tt_num = [t]\n",
    "\tx_num = [x]\n",
    "\tv_num = [v]\n",
    "\ta_num = [a]\n",
    "\n",
    "\twhile t < tf:\n",
    "\t\tif verbose: print('{:.3f} {:.3f} {:.3f} {:.3f}'.format(t, x, v, a))\n",
    "\n",
    "\t\ta = acceleration(x, k, m)\n",
    "\t\tt += dt\n",
    "\n",
    "\t\tif modified:\n",
    "\t\t\tv += dt * a\n",
    "\t\t\tx += dt * v\n",
    "\t\telse:\n",
    "\t\t\tx += dt * v\n",
    "\t\t\tv += dt * a\n",
    "\n",
    "\t\tt_num.append(t)\n",
    "\t\tx_num.append(x)\n",
    "\t\tv_num.append(v)\n",
    "\t\ta_num.append(a)\n",
    "\n",
    "\treturn t_num, x_num, v_num, a_num"
   ]
  }
 ],
 "metadata": {
  "kernelspec": {
   "display_name": "Python 3",
   "language": "python",
   "name": "python3"
  },
  "language_info": {
   "codemirror_mode": {
    "name": "ipython",
    "version": 3
   },
   "file_extension": ".py",
   "mimetype": "text/x-python",
   "name": "python",
   "nbconvert_exporter": "python",
   "pygments_lexer": "ipython3",
   "version": "3.6.2"
  }
 },
 "nbformat": 4,
 "nbformat_minor": 2
}
