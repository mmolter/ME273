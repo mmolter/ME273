{
 "cells": [
  {
   "cell_type": "markdown",
   "metadata": {},
   "source": [
    "# Project II - Simulating a Rocket Launch\n",
    "\n",
    "### M. Molter\n",
    "\n",
    "This is the last excercise of the semester, hopefully, where I will tie in much of what I have learned to simulate the launch of a Saturn V rocket. \n",
    "\n",
    "This is the first project sufficiently complex to warrant using [`classes`](https://docs.python.org/3/tutorial/classes.html). These allow us to store reusable methods and data in a convenient package. Later you will see me modeling a `Stage` in a class. A stage has attributes like `thrust`, `fuel_mass`, and `empty_mass`. The `Stage` also can have operations performed on it, such as `burn(dt=10)`. A class allows the programmer to keep all this code together in a logical way."
   ]
  },
  {
   "cell_type": "markdown",
   "metadata": {},
   "source": [
    "## Exercise 1\n",
    "\n",
    "Your mission is to build a computational model of a Saturn V rocket that indicates the effect of burning the fuel in all three rocket stages. Remember to include detailed comments in your simulation program. Relevant data for the sates of a Saturn V rocket is proved in Table 1. More detailed infromation on the Saturn V rocket can be foudn on the [Saturn V Wikipedia page](https://en.wikipedia.org/wiki/Saturn_V). Launch your rocket from rest in a direction that points radially outward from the center of the Earth (straight up), and maintain this oreintation throughout the rocket's motion. Provde a detailed assesment of the accuracy of your rocket model. By now, you should be able to demonstarte in detail how you would determine a sufficiently small value of $\\Delta t$ to ensure an accurate solution. Produce graphs of the altitude, velocity, and acceleration of the rocket as a function of time from the instant the rocket was launched until the instant the third stage has been jettisoned. **NOTE:** build the model such that the time bettween prior stage jettisoning and current stage ignition is 3--4 seconds.\n",
    "\n",
    "1. Build rocket model for three stages.\n",
    "2. Determine suffient $\\Delta t$\n",
    "3. Plot t, x, v, and a from T=0 to the release of Stage III (i.e. no coasting)\n",
    "\n",
    "|  Stage    | T (N) | $v_e$ (m/s) | empty mass (kg) | fully fueled mass (kg) |\n",
    "|  :---:   | ----: | ----:       | ----:           | ----:                 |\n",
    "| Stage I   | 34,000,000 | 2,580 | 131,000 | 2,300,000 |\n",
    "| Stage II  |  5,000,000 | 4,130 |  36,000 |   480,000 |\n",
    "| Stage III |  1,000,000 | 4,130 |  11,000 |   119,000 |\n",
    "| Payload   |            |       |         |    52,000 |\n",
    "\n",
    "### Solution \n",
    "\n",
    "As usual we start by importing our plotting libraries and numerical computation libraries."
   ]
  },
  {
   "cell_type": "code",
   "execution_count": 1,
   "metadata": {},
   "outputs": [],
   "source": [
    "import matplotlib.pyplot as plt\n",
    "import numpy as np\n",
    "\n",
    "%matplotlib inline"
   ]
  },
  {
   "cell_type": "markdown",
   "metadata": {},
   "source": [
    "Now we can model acceleration. Because we are only working in a single dimension, we can simplifier our function to accept a list of forces and a mass."
   ]
  },
  {
   "cell_type": "code",
   "execution_count": 2,
   "metadata": {},
   "outputs": [],
   "source": [
    "def acceleration(m, *forces):\n",
    "    ''' Return acceleration given a list of forces and mass. '''\n",
    "    \n",
    "    F_net = sum(forces)\n",
    "    return F_net / m    "
   ]
  },
  {
   "cell_type": "markdown",
   "metadata": {},
   "source": [
    "Again, the gravitational force equation is greatly simplified by working in a single spatial dimension."
   ]
  },
  {
   "cell_type": "code",
   "execution_count": 3,
   "metadata": {},
   "outputs": [],
   "source": [
    "def F_g(m, y, R=6.371e6, M=5.972e24, G=6.67408e-11):\n",
    "    ''' Return gaviational force given mass and elevation '''\n",
    "    \n",
    "    return -(m * M * G) / (y + R)**2"
   ]
  },
  {
   "cell_type": "markdown",
   "metadata": {},
   "source": [
    "Now, I have decided to encapsulate the logic and variables regarding a single stage into a class. This class will take care of things like the total mass of the rocket, the thurst, the fuel depletion rate, etc."
   ]
  },
  {
   "cell_type": "code",
   "execution_count": 4,
   "metadata": {},
   "outputs": [],
   "source": [
    "class Stage:\n",
    "    ''' Class for handling stage calculations. '''\n",
    "    \n",
    "    def __init__(self, name=None, empty_mass=0, fuel_mass=0, thrust=0, exhaust_velocity=0):\n",
    "        \n",
    "        self.name = name\n",
    "        \n",
    "        self.thrust = thrust\n",
    "        self.exhaust_velocity = exhaust_velocity\n",
    "        \n",
    "        self.fuel_mass = fuel_mass\n",
    "        self.empty_mass = empty_mass\n",
    "        \n",
    "    def burn(self, dt):\n",
    "        ''' Burn stage for dt seconds, return impulse. '''\n",
    "        \n",
    "        if not self.fuel_empty:\n",
    "            self.fuel_mass -= (self.thrust / self.exhaust_velocity) * dt\n",
    "    \n",
    "    @property\n",
    "    def fuel_empty(self):\n",
    "        ''' Return true if out of fuel. '''\n",
    "        \n",
    "        return not self.fuel_mass > 0\n",
    "            \n",
    "    @property\n",
    "    def mass(self):\n",
    "        ''' Return combined fuel/empty mass. '''\n",
    "        \n",
    "        return self.fuel_mass + self.empty_mass"
   ]
  },
  {
   "cell_type": "markdown",
   "metadata": {},
   "source": [
    "Now we construct a rocket class that handles the logic of a multi-stage launch. Stages are fed into the rocket as a list, and burned in order.\n",
    "\n",
    "This code should obviously requires [refactoring](https://en.wikipedia.org/wiki/Code_refactoring). Notice that the Euler Method is written out three times throughout the class. Putting this in a method--that is flexible enough to handle the on/off nature of the stages--is on the todo list. Regardless, the code runs, and produces the correct solution--its just a small [technical debt](https://en.wikipedia.org/wiki/Technical_debt)"
   ]
  },
  {
   "cell_type": "code",
   "execution_count": 5,
   "metadata": {},
   "outputs": [],
   "source": [
    "class Rocket:\n",
    "    \n",
    "    def __init__(self, stages, stage_delay=3.5):\n",
    "        \n",
    "        self.stages = stages\n",
    "        self.stage_delay = stage_delay\n",
    "    \n",
    "    @property\n",
    "    def mass(self):\n",
    "        ''' Return sum of remaining mass from all stages. '''\n",
    "        \n",
    "        return sum(s.mass for s in self.stages)\n",
    "    \n",
    "    def add_stage(self, stage):\n",
    "        self.stages.append(stage)\n",
    "        \n",
    "    def launch(self, dt, verbose=False):\n",
    "        \n",
    "        t = 0\n",
    "        x = 0\n",
    "        v = 0\n",
    "        a = 0\n",
    "        m = self.mass\n",
    "        \n",
    "        t_list = [t]\n",
    "        x_list = [x]\n",
    "        v_list = [v]\n",
    "        a_list = [a]\n",
    "        m_list = [m]\n",
    "        \n",
    "        for stage in self.stages:\n",
    "            \n",
    "            if verbose: print('Firing %s. t=%.0f, x=%.0f' % (stage.name, t, x))\n",
    "            \n",
    "            # Burn the stage until the stages fuel is depleted.\n",
    "            while not stage.fuel_empty:\n",
    "                a = acceleration(self.mass, stage.thrust, F_g(m=self.mass, y=x))\n",
    "                \n",
    "                t += dt\n",
    "                x += v * dt\n",
    "                v += a * dt\n",
    "                \n",
    "                stage.burn(dt)\n",
    "                \n",
    "                t_list.append(t)\n",
    "                x_list.append(x)\n",
    "                v_list.append(v)\n",
    "                a_list.append(a)\n",
    "                m_list.append(self.mass)\n",
    "            \n",
    "            if verbose: print('%s burn complete. t=%.0f, x=%.0f' % (stage.name, t, x))\n",
    "            \n",
    "            # If the stage is not the payload, coast for 3 seconds.\n",
    "            if stage.name != 'Payload':\n",
    "                pause = t + 3\n",
    "                while t < pause:\n",
    "                    a = acceleration(self.mass, F_g(m=self.mass, y=x))\n",
    "\n",
    "                    t += dt\n",
    "                    x += v * dt\n",
    "                    v += a * dt\n",
    "\n",
    "                    t_list.append(t)\n",
    "                    x_list.append(x)\n",
    "                    v_list.append(v)\n",
    "                    a_list.append(a)\n",
    "                    m_list.append(self.mass)   \n",
    "                    \n",
    "            # If the stage is the payload, coast until v==0\n",
    "            elif stage.name == 'Payload':\n",
    "                if verbose: print('Payload in free-fall.')\n",
    "                \n",
    "                while v > 0:\n",
    "                    a = acceleration(self.mass, F_g(m=self.mass, y=x))\n",
    "\n",
    "                    t += dt\n",
    "                    x += v * dt\n",
    "                    v += a * dt\n",
    "\n",
    "                    t_list.append(t)\n",
    "                    x_list.append(x)\n",
    "                    v_list.append(v)\n",
    "                    a_list.append(a)\n",
    "                    m_list.append(self.mass)\n",
    "                    \n",
    "                if verbose: print('Payload stopped. x=%.0f' % x)\n",
    "            \n",
    "        return t_list, x_list, v_list, a_list, m_list"
   ]
  },
  {
   "cell_type": "markdown",
   "metadata": {},
   "source": [
    "Now we stack the stages onto our rocket using the parameters we were given in the problem statement. Launch the rocket, and plot the trajectory."
   ]
  },
  {
   "cell_type": "code",
   "execution_count": 6,
   "metadata": {},
   "outputs": [
    {
     "name": "stdout",
     "output_type": "stream",
     "text": [
      "Firing Stage I. t=0, x=0\n",
      "Stage I burn complete. t=165, x=88544\n",
      "Firing Stage II. t=168, x=94141\n",
      "Stage II burn complete. t=535, x=693844\n",
      "Firing Stage III. t=538, x=699960\n",
      "Stage III burn complete. t=984, x=1190854\n",
      "Firing Payload. t=987, x=1191868\n",
      "Payload burn complete. t=987, x=1191868\n",
      "Payload in free-fall.\n",
      "Payload stopped. x=1199576\n"
     ]
    },
    {
     "data": {
      "image/png": "[encoded data removed]",
      "text/plain": [
       "<Figure size 576x720 with 3 Axes>"
      ]
     },
     "metadata": {},
     "output_type": "display_data"
    }
   ],
   "source": [
    "payload   = Stage(name='Payload', \n",
    "                  empty_mass=52e3\n",
    "                 )\n",
    "\n",
    "stage_I   = Stage(name='Stage I', \n",
    "                  empty_mass=131e3,\n",
    "                  fuel_mass=2300e3-131e3,\n",
    "                  thrust=34e6,\n",
    "                  exhaust_velocity=2580\n",
    "                 )\n",
    "\n",
    "stage_II  = Stage(name='Stage II', \n",
    "                  empty_mass=36e3,\n",
    "                  fuel_mass=480e3-36e3,\n",
    "                  thrust=5e6,\n",
    "                  exhaust_velocity=4130\n",
    "                 )\n",
    "\n",
    "stage_III = Stage(name='Stage III', \n",
    "                  empty_mass=11e3,\n",
    "                  fuel_mass=119e3-11e3,\n",
    "                  thrust=1e6,\n",
    "                  exhaust_velocity=4130\n",
    "                 )\n",
    "\n",
    "# Fill stages in order of burn!\n",
    "stages = [stage_I, stage_II, stage_III, payload]\n",
    "\n",
    "rocket = Rocket(stages)\n",
    "\n",
    "t, x, v, a, m = rocket.launch(dt=0.1, verbose=True)\n",
    "\n",
    "fig, (ax1, ax2, ax3) = plt.subplots(nrows=3, sharex=True)\n",
    "\n",
    "fig.set_size_inches(8, 10)\n",
    "\n",
    "ax1.plot(t, x, c='black', linewidth=2)\n",
    "ax2.plot(t, v, c='black', linewidth=2)\n",
    "ax3.plot(t, a, c='black', linewidth=2)\n",
    "\n",
    "ax1.set_title('Saturn V Launch')\n",
    "\n",
    "ax1.set_ylabel('Distance (m)')\n",
    "ax2.set_ylabel('Velocity (m/s)')\n",
    "ax3.set_ylabel('Acceleration (m/s/s)')\n",
    "\n",
    "ax3.set_xlabel('Time (s)')\n",
    "\n",
    "ax1.grid(which='both', linestyle=':')\n",
    "ax2.grid(which='both', linestyle=':')\n",
    "ax3.grid(which='both', linestyle=':')\n",
    "\n",
    "plt.show()"
   ]
  },
  {
   "cell_type": "markdown",
   "metadata": {},
   "source": [
    "We need to ensure that our $\\Delta t$ is suffiently small. We will do this by plotting the final position for a number of timesteps, and finding when decreasing the timestep provides neglibile increases in accuracy."
   ]
  },
  {
   "cell_type": "code",
   "execution_count": 7,
   "metadata": {},
   "outputs": [
    {
     "name": "stdout",
     "output_type": "stream",
     "text": [
      "For a dt of 0.01 (s), max(x) = 1201 (km)\n",
      "For a dt of 0.1 (s), max(x) = 1200 (km)\n",
      "For a dt of 1.0 (s), max(x) = 1232 (km)\n",
      "For a dt of 10.0 (s), max(x) = 1841 (km)\n",
      "For a dt of 100.0 (s), max(x) = 1376 (km)\n"
     ]
    }
   ],
   "source": [
    "for dt in [0.01, 0.1, 1.0, 10.0, 100.0]:\n",
    "    payload   = Stage(name='Payload', \n",
    "                      empty_mass=52e3\n",
    "                     )\n",
    "\n",
    "    stage_I   = Stage(name='Stage I', \n",
    "                      empty_mass=131e3,\n",
    "                      fuel_mass=2300e3-131e3,\n",
    "                      thrust=34e6,\n",
    "                      exhaust_velocity=2580\n",
    "                     )\n",
    "\n",
    "    stage_II  = Stage(name='Stage II', \n",
    "                      empty_mass=36e3,\n",
    "                      fuel_mass=480e3-36e3,\n",
    "                      thrust=5e6,\n",
    "                      exhaust_velocity=4130\n",
    "                     )\n",
    "\n",
    "    stage_III = Stage(name='Stage III', \n",
    "                      empty_mass=11e3,\n",
    "                      fuel_mass=119e3-11e3,\n",
    "                      thrust=1e6,\n",
    "                      exhaust_velocity=4130\n",
    "                     )\n",
    "\n",
    "    # Fill stages in order of burn!\n",
    "    stages = [stage_I, stage_II, stage_III, payload]\n",
    "\n",
    "    rocket = Rocket(stages)\n",
    "\n",
    "    t, x, v, a, m = rocket.launch(dt=dt)\n",
    "    \n",
    "    print('For a dt of %s (s), max(x) = %.0f (km)' % (dt, max(x) / 1000.0))"
   ]
  },
  {
   "cell_type": "markdown",
   "metadata": {},
   "source": [
    "It seems the difference between 0.1 seconds and 0.01 seconds is neglibile ($<0.1\\%$). We will use 0.1 s as our dt."
   ]
  },
  {
   "cell_type": "markdown",
   "metadata": {},
   "source": [
    "## Exercise 2\n",
    "\n",
    "The average distance from Earth to the Moon is 384,403 km. Use your model to determine what happens to the rocket after all the fuel in the three stages has been burned, and the stages have been jettisoned. Does you rocket make it to a distance of 384,403 km from Earth? Provide a detailed description of the behavior of your model."
   ]
  },
  {
   "cell_type": "markdown",
   "metadata": {},
   "source": [
    "### Solution\n",
    "\n",
    "Clearly the three rocket stages do not provide sufficient thrust to make it to the Moon. I even hedged my bet by including the coasting phase of the payload (up until velocity falls back down to 0 m/s). \n",
    "\n",
    "For most of the flight of the rocket, it is deaccelerating. For half of Stage II and all of Stage III the rocket is slowing down. This is where a straight up model shows it inaccuracies. The goal of the real Saturn V stages is to put the rocket into orbit. This means that much of the energy of the stages is used to put the rocket into orbit (i.e. horizontal motion). This provides a benefit that is apparent when you compare the simulated plot to that of a real launch (see [Saturn V -- Wikipedia](https://en.wikipedia.org/wiki/Saturn_V))\n",
    "\n",
    "![Trajectory for a the Apollo 17 mission -- Wikipedia](https://upload.wikimedia.org/wikipedia/commons/thumb/2/2c/Apollo17_Ascent_Trajectory.pdf/page1-800px-Apollo17_Ascent_Trajectory.pdf.jpg)"
   ]
  },
  {
   "cell_type": "markdown",
   "metadata": {},
   "source": [
    "The difference is particularly noticble in the Stage II burn. While the Apollo 17 mission is accelerating horizontally, and converting much of its energy to kinetic energy (i.e. speed), our simulate rocket is accelerating vertically, converting all its burned energy to gravitational potential energy, and even contributing some of the kinetic energy from previous stages into additioanl gravitational potential energy."
   ]
  },
  {
   "cell_type": "markdown",
   "metadata": {},
   "source": [
    "## Exercise 3\n",
    "\n",
    "IF you did not make it to the Moon (this is a hint for the result of Exercise 2), can you account for what's missing from the model, even though in the model you have used the correct Saturn V parameters provided by NASA? The answer to this question may require some significant investigation/thinking on your part. Again, provide a detailed answer/analysis to this question.\n",
    "\n",
    "### Solution\n",
    "\n",
    "Here is the trick. The Saturn V rocket does not simply point itself at the moon, and fire its stages one-by-one. The chemical energy in the stages is nowhere near sufficient for overcoming the deep gravitational well of the earth. Instead, the first few stages simply get the rocket into a specific orbit around the earth (i.e. refered to as the [parking orbit](https://en.wikipedia.org/wiki/Parking_orbit)). At the right moment, the remaining stages are fired (essentially horizontal to the surface of the Earth) launching the rocket into an large ellipical trajectory that intersects with the trajectory of the moon. In fact, for most of the trajectory (i.e. the several day trip) the rocket \"coasts\". This manuver is called a [trans-lunar injection](https://en.wikipedia.org/wiki/Trans-lunar_injection). What we had been attempting in our simulation is called a [direct injection](https://en.wikipedia.org/wiki/Parking_orbit)."
   ]
  },
  {
   "cell_type": "markdown",
   "metadata": {},
   "source": [
    "## Exercise 4\n",
    "\n",
    "**WARNING: DO NOT read the following until you have completed Exercise 3; otherwise, it may short-circuit your educational experience.**\n",
    "\n",
    "Starting from the rocket's parking orbit (third stage not completely empty---hopefully you have discovered what the parking orbit is in researching your answer to Exercise 3), produce a detailed *pseudocode* for modeling the tran-lunar injection maneuver. Include the gravitational influence of the Moon in your pseudocode, (i.e. the Earth, the Moon, and the rocket are all interacting via the gravitational force). You are not expect to produce a working code for the trans--lunar injection, but you could try if you have time and sufficent interest. *HINT: IF you decide to try to produce the code for the trans lunar injection, keep it constrianed to a 2D problem*.\n",
    "\n",
    "### Solution\n",
    "\n",
    "Modeling the **trans-lunar injection** starting from the **parking orbit** is more of a *GA3 - Orbital Trajectories* model than what we have simulated above. The code from that activity already has what we need to model the launch---and is designed to handle multiple bodies (i.e. Earth, Moon, and Saturn V rocket).\n",
    "\n",
    "We will make the following assumptions to limit the *scope* of this computational problem:\n",
    "\n",
    "1. The Saturn V rocket is already in orbit around the Earth (i.e. travelling entirely tangentially to the Earth).\n",
    "2. The Moon is orbit around the Earth (i.e. as modeled in *GA3*)\n",
    "3. The injection is perfomed by a single burn leading to a velocity kick on the payload. \n",
    "4. We will ignore changes in mass due to this final burn, assuming it is intantanous, and the final mass is simply the payload mass.\n",
    "\n",
    "I am going to do the *wrong* thing, and copy-and-paste the code from GA3 rather than importing it as a module (its finals week!). Its likely that once the code below compiles, the code above will have namespace collisions and need to be recompiled before it runs again."
   ]
  },
  {
   "cell_type": "markdown",
   "metadata": {},
   "source": [
    "First we need a calculation for computing distances in 2+ dimensions."
   ]
  },
  {
   "cell_type": "code",
   "execution_count": 8,
   "metadata": {},
   "outputs": [],
   "source": [
    "def dist(x):\n",
    "    ''' Return the distance of point x from the origin <0, 0, .., 0>.\n",
    "    \n",
    "        Uses the linear algebra concept of a norm to calculate \n",
    "        Euclidean distance.\n",
    "        \n",
    "        Examples:\n",
    "            Given two vectors A = <0,3,8> and B = <0,3,9>\n",
    "                >>> A = np.asarray([0,3,8])\n",
    "                >>> B = np.asarray([0,3,9])\n",
    "        \n",
    "            Find the length of A.\n",
    "                >>> dist(A)\n",
    "\n",
    "            Find the distance between A and B.\n",
    "                >>> dist(A - B)\n",
    "                \n",
    "            Given a list of vectors C = [<1,1,1>, <2,3,5>, <8,3,7>].\n",
    "                >>> C = np.asarray([[1,1,1], [2,3,5], [8,3,7]])\n",
    "                \n",
    "            Find the distances from the origin, O.\n",
    "                >>> dist(C)\n",
    "                \n",
    "            Find the distances from point B.\n",
    "                >>> dist(C - B)\n",
    "            \n",
    "        Args:\n",
    "            x (np.array):   point or list of points.\n",
    "            \n",
    "        Returns:\n",
    "            np.array: scalar distance or list of scalar distances.\n",
    "    '''\n",
    "    \n",
    "    return np.linalg.norm(x, axis=(x.ndim - 1))"
   ]
  },
  {
   "cell_type": "markdown",
   "metadata": {},
   "source": [
    "It would seem that the simplest approach is to again encapsulate the bodies into a class.\n",
    "\n",
    "We additionally need a helper function to find the [unit vector](https://en.wikipedia.org/wiki/Unit_vector) between two orbital bodies."
   ]
  },
  {
   "cell_type": "code",
   "execution_count": 9,
   "metadata": {},
   "outputs": [],
   "source": [
    "def unit_vector(A, B):\n",
    "    ''' Return unit vector form position A to position B. \n",
    "    \n",
    "        Uses:\n",
    "        \n",
    "                        (A - B) / ||A - B||\n",
    "        \n",
    "        Args:\n",
    "        \n",
    "            A (np.array):    origin vector\n",
    "            B (np.array):    destination vector\n",
    "            \n",
    "        Returns:\n",
    "        \n",
    "            np.array:        unit vector from origin to destination.\n",
    "            \n",
    "        Examples:\n",
    "        \n",
    "            Given two vectors A and B. \n",
    "                >>> A = np.asarray([0, 0])\n",
    "                >>> B = np.asarray([1, 1])\n",
    "            \n",
    "            Find the unit vector from A to B.\n",
    "                >>> unit_vector(A, B)\n",
    "                array([0.70710678, 0.70710678])\n",
    "    '''\n",
    "      \n",
    "    return (B - A) / dist(B - A)"
   ]
  },
  {
   "cell_type": "markdown",
   "metadata": {},
   "source": [
    "Now we can write a class to store data and functions regarding an individual body.\n",
    "\n",
    "A single body has attributes such as position, velocity, and mass; however, must know information about other bodies in the 'universe' to calculate its acceleration. Keeping track of other bodies in the universe is accomplished with  a [class attribute](https://www.python-course.eu/python3_class_and_instance_attributes.php). Class attributes *are not a beginner topic*, so feel free to brush over it if you need. Essentially a class is a pattern from which you create a class instance. That instance will have attributes about itself such as velocity or position. I have created a *class attribute*. This class attribute contains information about the collection of all instances of a class as a whole."
   ]
  },
  {
   "cell_type": "code",
   "execution_count": 10,
   "metadata": {},
   "outputs": [],
   "source": [
    "class Body:\n",
    "    ''' A class to hold the represetation of and orbital body. '''\n",
    "    \n",
    "    # A class atribute to store all bodies in the universe.\n",
    "    all_bodies = []\n",
    "    \n",
    "    def __init__(self, x0, v0, m):\n",
    "        ''' Initialize an orbital body. '''\n",
    "        \n",
    "        self.t = 0.0\n",
    "        self.x = x0\n",
    "        self.v = v0\n",
    "        self.m = m\n",
    "        self.a = 0.0\n",
    "        \n",
    "        self.t_list = [self.t]\n",
    "        self.x_list = [self.x]\n",
    "        self.v_list = [self.v]\n",
    "        self.a_list = [self.a]\n",
    "        \n",
    "        # Add body to universe.\n",
    "        Body.all_bodies.append(self)\n",
    "        \n",
    "    def step(self, dt, modified=True):\n",
    "        ''' Step the simulation forward one time-step, dt. '''\n",
    "        \n",
    "        self.a = self.acceleration()\n",
    "        \n",
    "        if modified:\n",
    "            self.v = self.v + self.a * dt\n",
    "            self.x = self.x + self.v * dt\n",
    "        else:        \n",
    "            self.x = self.x + self.v * dt\n",
    "            self.v = self.v + self.a * dt\n",
    "            \n",
    "        self.t_list.append(self.t)\n",
    "        self.x_list.append(self.x)\n",
    "        self.v_list.append(self.v)\n",
    "        self.a_list.append(self.a)  \n",
    "        \n",
    "    def acceleration(self, G=6.67408e-11):\n",
    "        ''' Return acceleartion vector given x, v, and other bodies. \n",
    "        \n",
    "            Args:\n",
    "                bodies (list):  list of other interacting body objects.\n",
    "                G (float):      gravitational constant (N*m*m/(kg *kg))\n",
    "                \n",
    "            Returns:\n",
    "                ndarray:        acceleration vector\n",
    "        '''\n",
    "        \n",
    "        F_net = np.zeros_like(self.x)\n",
    "        for body in [b for b in Body.all_bodies if b != self]:\n",
    "            # Determine Euclidian distance between two bodies.\n",
    "            r = dist(self.x - body.x)\n",
    "            \n",
    "            # Determine the magnitude of the gravitational force.\n",
    "            F = G * (self.m * body.m / np.power(r, 2)) * unit_vector(self.x, body.x)\n",
    "            \n",
    "            # Sum the forces\n",
    "            F_net = F_net + F\n",
    "\n",
    "        return F_net / self.m\n",
    "    \n",
    "    @classmethod\n",
    "    def big_bang(cls):\n",
    "        ''' Clear all the bodies from the universe. '''\n",
    "        \n",
    "        Body.all_bodies = []\n"
   ]
  },
  {
   "cell_type": "markdown",
   "metadata": {},
   "source": [
    "Now let's try out our new class with a three-body gravitational problem. Here we are entering *analytically impossible* teritory!"
   ]
  },
  {
   "cell_type": "code",
   "execution_count": 11,
   "metadata": {},
   "outputs": [
    {
     "data": {
      "image/png": "[encoded data removed]",
      "text/plain": [
       "<Figure size 432x288 with 1 Axes>"
      ]
     },
     "metadata": {},
     "output_type": "display_data"
    }
   ],
   "source": [
    "Body.big_bang()\n",
    "\n",
    "ball_one = Body(x0 = np.asarray([0.0, 0.0]),\n",
    "                v0 = np.asarray([0.0, 0.0]),\n",
    "                 m = 6e11)\n",
    "\n",
    "ball_two = Body(x0 = np.asarray([10.0, 10.0]),\n",
    "                v0 = np.asarray([-2.0,  0.0]),\n",
    "                 m = 1e10)\n",
    "\n",
    "ball_thr = Body(x0 = np.asarray([0.0, -20.0]),\n",
    "                v0 = np.asarray([0.5,   1.0]),\n",
    "                 m = 1.0e1)\n",
    "\n",
    "dt = 0.01\n",
    "for i in range(15000):\n",
    "    ball_one.step(dt)\n",
    "    ball_two.step(dt)\n",
    "    ball_thr.step(dt)\n",
    "    \n",
    "xs_one = np.vstack(ball_one.x_list)\n",
    "xs_two = np.vstack(ball_two.x_list)\n",
    "xs_thr = np.vstack(ball_thr.x_list)\n",
    "\n",
    "\n",
    "plt.plot(xs_one[:,0], xs_one[:,1], label='body one')\n",
    "plt.plot(xs_two[:,0], xs_two[:,1], label='body two')\n",
    "plt.plot(xs_thr[:,0], xs_thr[:,1], label='body three')\n",
    "\n",
    "plt.legend(loc=1)\n",
    "plt.axis('equal')\n",
    "\n",
    "plt.show()"
   ]
  },
  {
   "cell_type": "markdown",
   "metadata": {},
   "source": [
    "We essentially have a very heavy, stationary object (blue) at (0, 0) getting passed slowly by a slightly lighter, but still massive object (orange). A third, fast moving, light object (green) is thrown at the system, and notice its behavior.\n",
    "\n",
    "It initially orbits the blue body, then begins interacting with the orange body. Eventually, it gets ejected from the whole system! It appears to be some type of gravitational assist. Falling into the gravitational well of one body, gives the light object the acceleration it needs to reach the escape velocity of another body.\n",
    "\n",
    "Now onto the **trans-lunar injection** problem. This is going to be a setup, with a lot of plug and checking.\n",
    "\n",
    "I will start with the official injection parameters for the Apollo 8 mission ([Gravitational Escape Velocity with Saturn V Rocket](https://www.school-for-champions.com/science/gravitation_escape_velocity_saturn_v.htm#.WukqRIgvyUk))"
   ]
  },
  {
   "cell_type": "code",
   "execution_count": 12,
   "metadata": {},
   "outputs": [
    {
     "data": {
      "image/png": "[encoded data removed]",
      "text/plain": [
       "<Figure size 432x288 with 1 Axes>"
      ]
     },
     "metadata": {},
     "output_type": "display_data"
    }
   ],
   "source": [
    "Body.big_bang()\n",
    "\n",
    "r_earth = 6.371e6 # m\n",
    "injection_alt = 334.436e3 # m\n",
    "injection_vel =  10.423e3 # m/s\n",
    "\n",
    "earth = Body(x0 = np.asarray([0.0, 0.0]),\n",
    "             v0 = np.asarray([0.0, 0.0]),\n",
    "               m = 5.9e24)\n",
    "\n",
    "moon = Body(x0 = np.asarray([0, 384.4e6]),\n",
    "            v0 = np.asarray([-1000.0, 0]),\n",
    "             m = 7.3e22)\n",
    "\n",
    "rocket = Body(x0 = np.asarray([injection_alt + r_earth, 0.0]),\n",
    "              v0 = np.asarray([0.0, injection_vel + 317]),\n",
    "               m = 25000)\n",
    "\n",
    "dt = 7\n",
    "for i in range(60*60*24):\n",
    "    earth.step(dt)\n",
    "    moon.step(dt)\n",
    "    rocket.step(dt)\n",
    "    \n",
    "xs_earth =  np.vstack(earth.x_list)\n",
    "xs_moon =   np.vstack(moon.x_list)\n",
    "xs_rocket = np.vstack(rocket.x_list)\n",
    "\n",
    "\n",
    "plt.plot(xs_earth[:,0], xs_earth[:,1], label='earth')\n",
    "plt.plot(xs_moon[:,0], xs_moon[:,1], label='moon')\n",
    "plt.plot(xs_rocket[:,0], xs_rocket[:,1], label='rocket')\n",
    "\n",
    "plt.legend()\n",
    "plt.axis('equal')\n",
    "\n",
    "plt.show()"
   ]
  },
  {
   "cell_type": "markdown",
   "metadata": {},
   "source": [
    "Well, that worked nicely. We just had to increase the injection velocity a bit (317 m/s) to make the orbit *more* eccentric. If the rocket launch was briefly delayed, the rocket would likely intersect with the moon.\n",
    "\n",
    "My model is slightly oversimplified. It doesn't allow you to put the moon wherever you want in its orbit, but it gets the idea across.\n",
    "\n",
    "It even provides a reasonable estimate of the travel time. While the real mission was four days, this takes just over six.\n",
    "\n",
    "Notice that the mass of the moon seems to have very little effect on the trajectory of the rocket! "
   ]
  }
 ],
 "metadata": {
  "anaconda-cloud": {},
  "kernelspec": {
   "display_name": "Python 3",
   "language": "python",
   "name": "python3"
  },
  "language_info": {
   "codemirror_mode": {
    "name": "ipython",
    "version": 3
   },
   "file_extension": ".py",
   "mimetype": "text/x-python",
   "name": "python",
   "nbconvert_exporter": "python",
   "pygments_lexer": "ipython3",
   "version": "3.5.2"
  }
 },
 "nbformat": 4,
 "nbformat_minor": 2
}
