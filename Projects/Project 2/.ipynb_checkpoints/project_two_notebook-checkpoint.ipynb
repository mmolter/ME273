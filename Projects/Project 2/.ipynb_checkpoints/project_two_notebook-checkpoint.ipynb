{
 "cells": [
  {
   "cell_type": "markdown",
   "metadata": {},
   "source": [
    "## Exercise 1\n",
    "\n",
    "Your mission is to build a computational model of a Saturn V rocket that indicates the effect of burning the fuel in all three rocket stages. Remember to include detailed comments in your simulation program. Relevant data for the sates of a Saturn V rocket is proved in Table 1. More detailed infromation on the Saturn V rocket can be foudn on the [Saturn V Wikipedia page](https://en.wikipedia.org/wiki/Saturn_V). Launch your rocket from rest in a direction that points radially outward from the center of the Earth (straight up), and maintain this oreintation throughout the rocket's motion. Provde a detailed assesment of the accuracy of your rocket model. By now, you should be able to demonstarte in detail how you would determine a sufficiently small value of $\\Delta t$ to ensure an accurate solution. Produce graphs of the altitude, velocity, and acceleration of the rocket as a function of time from the instant the rocket was launched until the instant the third stage has been jettisoned. **NOTE:** build the model such that the time bettween prior stage jettisoning and current stage ignition is 3--4 seconds.\n",
    "\n",
    "1. Build rocket model for three stages.\n",
    "2. Determine suffient $\\Delta t$\n",
    "3. Plot t, x, v, and a from T=0 to the release of Stage III (i.e. no coasting)\n",
    "\n",
    "|  Stage    | T (N) | $v_e$ (m/s) | empty mass (kg) | fully fueled mass (kg) |\n",
    "|  :---:   | ----: | ----:       | ----:           | ----:                 |\n",
    "| Stage I   | 34,000,000 | 2,580 | 131,000 | 2,300,000 |\n",
    "| Stage II  |  5,000,000 | 4,130 |  36,000 |   480,000 |\n",
    "| Stage III |  1,000,000 | 4,130 |  11,000 |   119,000 |\n",
    "| Payload   |            |       |         |    52,000 |"
   ]
  },
  {
   "cell_type": "markdown",
   "metadata": {},
   "source": [
    "### Solution \n",
    "\n",
    "As usual we start by importing our plotting libraries and numerical computation libraries."
   ]
  },
  {
   "cell_type": "code",
   "execution_count": 2,
   "metadata": {
    "collapsed": true
   },
   "outputs": [],
   "source": [
    "import matplotlib.pyplot as plt\n",
    "import numpy as np\n",
    "\n",
    "%matplotlib inline"
   ]
  },
  {
   "cell_type": "markdown",
   "metadata": {},
   "source": [
    "Now we can model acceleration. Because we are only working in a single dimension, we can simplifier our function to accept a list of forces and a mass."
   ]
  },
  {
   "cell_type": "code",
   "execution_count": 3,
   "metadata": {
    "collapsed": true
   },
   "outputs": [],
   "source": [
    "def acceleration(m, *forces):\n",
    "    ''' Return acceleration given a list of forces and mass. '''\n",
    "    \n",
    "    F_net = sum(forces)\n",
    "    return F_net / m    "
   ]
  },
  {
   "cell_type": "markdown",
   "metadata": {},
   "source": [
    "Again, the gravitational force equation is greatly simplified by working in a single spatial dimension."
   ]
  },
  {
   "cell_type": "code",
   "execution_count": 4,
   "metadata": {
    "collapsed": true
   },
   "outputs": [],
   "source": [
    "def F_g(m, y, R=6.371e6, M=5.972e24, G=6.67408e-11):\n",
    "    ''' Return gaviational force given mass and elevation '''\n",
    "    \n",
    "    return -(m * M * G) / (y + R)**2"
   ]
  },
  {
   "cell_type": "markdown",
   "metadata": {},
   "source": [
    "Now, I have decided to encapsulate the logic and variables regarding a single stage into a class. This class will take care of things like the total mass of the rocket, the thurst, the fuel depletion rate, etc."
   ]
  },
  {
   "cell_type": "code",
   "execution_count": 5,
   "metadata": {
    "collapsed": true
   },
   "outputs": [],
   "source": [
    "class Stage:\n",
    "    ''' Class for handling stage calculations. '''\n",
    "    \n",
    "    def __init__(self, name=None, empty_mass=0, fuel_mass=0, thrust=0, exhaust_velocity=0):\n",
    "        \n",
    "        self.name = name\n",
    "        \n",
    "        self.thrust = thrust\n",
    "        self.exhaust_velocity = exhaust_velocity\n",
    "        \n",
    "        self.fuel_mass = fuel_mass\n",
    "        self.empty_mass = empty_mass\n",
    "        \n",
    "    def burn(self, dt):\n",
    "        ''' Burn stage for dt seconds, return impulse. '''\n",
    "        \n",
    "        if not self.fuel_empty:\n",
    "            self.fuel_mass -= (self.thrust / self.exhaust_velocity) * dt\n",
    "    \n",
    "    @property\n",
    "    def fuel_empty(self):\n",
    "        ''' Return true if out of fuel. '''\n",
    "        \n",
    "        return not self.fuel_mass > 0\n",
    "            \n",
    "    @property\n",
    "    def mass(self):\n",
    "        ''' Return combined fuel/empty mass. '''\n",
    "        \n",
    "        return self.fuel_mass + self.empty_mass"
   ]
  },
  {
   "cell_type": "markdown",
   "metadata": {},
   "source": [
    "Now we construct a rocket class that handles the logic of a multi-stage launch. Stages are fed into the rocket as a list, and burned in order."
   ]
  },
  {
   "cell_type": "code",
   "execution_count": 6,
   "metadata": {
    "collapsed": true
   },
   "outputs": [],
   "source": [
    "class Rocket:\n",
    "    \n",
    "    def __init__(self, stages, stage_delay=3.5):\n",
    "        \n",
    "        self.stages = stages\n",
    "        self.stage_delay = stage_delay\n",
    "    \n",
    "    @property\n",
    "    def mass(self):\n",
    "        ''' Return sum of remaining mass from all stages. '''\n",
    "        \n",
    "        return sum(s.mass for s in self.stages)\n",
    "    \n",
    "    def add_stage(self, stage):\n",
    "        self.stages.append(stage)\n",
    "        \n",
    "    def launch(self, dt, verbose=False):\n",
    "        \n",
    "        t = 0\n",
    "        x = 0\n",
    "        v = 0\n",
    "        a = 0\n",
    "        m = self.mass\n",
    "        \n",
    "        t_list = [t]\n",
    "        x_list = [x]\n",
    "        v_list = [v]\n",
    "        a_list = [a]\n",
    "        m_list = [m]\n",
    "        \n",
    "        for stage in self.stages:\n",
    "            \n",
    "            if verbose: print('Firing %s. t=%.0f, x=%.0f' % (stage.name, t, x))\n",
    "            \n",
    "            # Burn the stage until the stages fuel is depleted.\n",
    "            while not stage.fuel_empty:\n",
    "                a = acceleration(self.mass, stage.thrust, F_g(m=self.mass, y=x))\n",
    "                \n",
    "                t += dt\n",
    "                x += v * dt\n",
    "                v += a * dt\n",
    "                \n",
    "                stage.burn(dt)\n",
    "                \n",
    "                t_list.append(t)\n",
    "                x_list.append(x)\n",
    "                v_list.append(v)\n",
    "                a_list.append(a)\n",
    "                m_list.append(self.mass)\n",
    "            \n",
    "            if verbose: print('%s burn complete. t=%.0f, x=%.0f' % (stage.name, t, x))\n",
    "            \n",
    "            # If the stage is not the payload, coast for 3 seconds.\n",
    "            if stage.name != 'Payload':\n",
    "                pause = t + 3\n",
    "                while t < pause:\n",
    "                    a = acceleration(self.mass, F_g(m=self.mass, y=x))\n",
    "\n",
    "                    t += dt\n",
    "                    x += v * dt\n",
    "                    v += a * dt\n",
    "\n",
    "                    t_list.append(t)\n",
    "                    x_list.append(x)\n",
    "                    v_list.append(v)\n",
    "                    a_list.append(a)\n",
    "                    m_list.append(self.mass)   \n",
    "                    \n",
    "            # If the stage is the payload, coast until v==0\n",
    "            elif stage.name == 'Payload':\n",
    "                if verbose: print('Payload in free-fall.')\n",
    "                \n",
    "                while v > 0:\n",
    "                    a = acceleration(self.mass, F_g(m=self.mass, y=x))\n",
    "\n",
    "                    t += dt\n",
    "                    x += v * dt\n",
    "                    v += a * dt\n",
    "\n",
    "                    t_list.append(t)\n",
    "                    x_list.append(x)\n",
    "                    v_list.append(v)\n",
    "                    a_list.append(a)\n",
    "                    m_list.append(self.mass)\n",
    "                    \n",
    "                if verbose: print('Payload stopped. x=%.0f' % x)\n",
    "            \n",
    "        return t_list, x_list, v_list, a_list, m_list"
   ]
  },
  {
   "cell_type": "markdown",
   "metadata": {},
   "source": [
    "Now we stack the stages onto our rocket using the parameters we were given in the problem statement. Launch the rocket, and plot the trajectory."
   ]
  },
  {
   "cell_type": "code",
   "execution_count": 9,
   "metadata": {
    "collapsed": false
   },
   "outputs": [
    {
     "name": "stdout",
     "output_type": "stream",
     "text": [
      "Firing Stage I. t=0, x=0\n",
      "Stage I burn complete. t=165, x=88544\n",
      "Firing Stage II. t=168, x=94141\n",
      "Stage II burn complete. t=535, x=693844\n",
      "Firing Stage III. t=538, x=699960\n",
      "Stage III burn complete. t=984, x=1190854\n",
      "Firing Payload. t=987, x=1191868\n",
      "Payload burn complete. t=987, x=1191868\n",
      "Payload in free-fall.\n",
      "Payload stopped. x=1199576\n"
     ]
    },
    {
     "name": "stderr",
     "output_type": "stream",
     "text": [
      "C:\\Anaconda3\\lib\\site-packages\\matplotlib\\figure.py:397: UserWarning: matplotlib is currently using a non-GUI backend, so cannot show the figure\n",
      "  \"matplotlib is currently using a non-GUI backend, \"\n"
     ]
    },
    {
     "data": {
      "image/png": "[encoded data removed]",
      "text/plain": [
       "<matplotlib.figure.Figure at 0x74b4128>"
      ]
     },
     "metadata": {},
     "output_type": "display_data"
    }
   ],
   "source": [
    "payload   = Stage(name='Payload', \n",
    "                  empty_mass=52e3\n",
    "                 )\n",
    "\n",
    "stage_I   = Stage(name='Stage I', \n",
    "                  empty_mass=131e3,\n",
    "                  fuel_mass=2300e3-131e3,\n",
    "                  thrust=34e6,\n",
    "                  exhaust_velocity=2580\n",
    "                 )\n",
    "\n",
    "stage_II  = Stage(name='Stage II', \n",
    "                  empty_mass=36e3,\n",
    "                  fuel_mass=480e3-36e3,\n",
    "                  thrust=5e6,\n",
    "                  exhaust_velocity=4130\n",
    "                 )\n",
    "\n",
    "stage_III = Stage(name='Stage III', \n",
    "                  empty_mass=11e3,\n",
    "                  fuel_mass=119e3-11e3,\n",
    "                  thrust=1e6,\n",
    "                  exhaust_velocity=4130\n",
    "                 )\n",
    "\n",
    "# Fill stages in order of burn!\n",
    "stages = [stage_I, stage_II, stage_III, payload]\n",
    "\n",
    "rocket = Rocket(stages)\n",
    "\n",
    "t, x, v, a, m = rocket.launch(dt=0.1, verbose=True)\n",
    "\n",
    "fig, (ax1, ax2, ax3) = plt.subplots(nrows=3, sharex=True)\n",
    "\n",
    "fig.set_size_inches(8, 10)\n",
    "\n",
    "ax1.plot(t, x, c='black', linewidth=2)\n",
    "ax2.plot(t, v, c='black', linewidth=2)\n",
    "ax3.plot(t, a, c='black', linewidth=2)\n",
    "\n",
    "ax1.set_title('Saturn V Launch')\n",
    "\n",
    "ax1.set_ylabel('Distance (m)')\n",
    "ax2.set_ylabel('Velocity (m/s)')\n",
    "ax3.set_ylabel('Acceleration (m/s/s)')\n",
    "\n",
    "ax3.set_xlabel('Time (s)')\n",
    "\n",
    "ax1.grid(which='both', linestyle=':')\n",
    "ax2.grid(which='both', linestyle=':')\n",
    "ax3.grid(which='both', linestyle=':')\n",
    "\n",
    "fig.show()"
   ]
  },
  {
   "cell_type": "markdown",
   "metadata": {},
   "source": [
    "We need to ensure that our $\\Delta t$ is suffiently small. We will do this by plotting the final position for a number of timesteps, and finding when decreasing the timestep provides neglibile increases in accuracy."
   ]
  },
  {
   "cell_type": "code",
   "execution_count": 13,
   "metadata": {
    "collapsed": false
   },
   "outputs": [
    {
     "name": "stdout",
     "output_type": "stream",
     "text": [
      "For a dt of 0.01 (s), max(x) = 1201 (km)\n",
      "For a dt of 0.1 (s), max(x) = 1200 (km)\n",
      "For a dt of 1.0 (s), max(x) = 1232 (km)\n",
      "For a dt of 10.0 (s), max(x) = 1841 (km)\n",
      "For a dt of 100.0 (s), max(x) = 1376 (km)\n"
     ]
    }
   ],
   "source": [
    "for dt in [0.01, 0.1, 1.0, 10.0, 100.0]:\n",
    "    payload   = Stage(name='Payload', \n",
    "                      empty_mass=52e3\n",
    "                     )\n",
    "\n",
    "    stage_I   = Stage(name='Stage I', \n",
    "                      empty_mass=131e3,\n",
    "                      fuel_mass=2300e3-131e3,\n",
    "                      thrust=34e6,\n",
    "                      exhaust_velocity=2580\n",
    "                     )\n",
    "\n",
    "    stage_II  = Stage(name='Stage II', \n",
    "                      empty_mass=36e3,\n",
    "                      fuel_mass=480e3-36e3,\n",
    "                      thrust=5e6,\n",
    "                      exhaust_velocity=4130\n",
    "                     )\n",
    "\n",
    "    stage_III = Stage(name='Stage III', \n",
    "                      empty_mass=11e3,\n",
    "                      fuel_mass=119e3-11e3,\n",
    "                      thrust=1e6,\n",
    "                      exhaust_velocity=4130\n",
    "                     )\n",
    "\n",
    "    # Fill stages in order of burn!\n",
    "    stages = [stage_I, stage_II, stage_III, payload]\n",
    "\n",
    "    rocket = Rocket(stages)\n",
    "\n",
    "    t, x, v, a, m = rocket.launch(dt=dt)\n",
    "    \n",
    "    print('For a dt of %s (s), max(x) = %.0f (km)' % (dt, max(x) / 1000.0))"
   ]
  },
  {
   "cell_type": "markdown",
   "metadata": {},
   "source": [
    "It seems the difference between 0.1 seconds and 0.01 seconds is neglibile ($<0.1\\%$). We will use 0.1 s as our dt."
   ]
  },
  {
   "cell_type": "markdown",
   "metadata": {},
   "source": [
    "## Exercise 2\n",
    "\n",
    "The average distance from Earth to the Moon is 384,403 km. Use your model to determine what happens to the rocket after all the fuel in the three stages has been burned, and the stages have been jettisoned. Does you rocket make it to a distance of 384,403 km from Earth? Provide a detailed description of the behavior of your model."
   ]
  },
  {
   "cell_type": "markdown",
   "metadata": {},
   "source": [
    "### Solution\n",
    "\n",
    "Our model predicts that the rocket only travels 1,200 (km). This is nowhere nead the requird distance of 384,403 (km).\n",
    "\n",
    "### Stage I\n",
    "\n",
    "During the Stage I burn, the rocket accelerates rapidly reaching a peak acceleration of "
   ]
  },
  {
   "cell_type": "markdown",
   "metadata": {},
   "source": [
    "## Exercise 3\n",
    "\n",
    "IF you did not make it to the Moon (this is a hint for the result of Exercise 2), can you account for what's missing from the model, even though in the model you have used the correct Saturn V parameters provided by NASA? The answer to this question may require some significant investigation/thinking on your part. Again, provide a detailed answer/analysis to this question."
   ]
  },
  {
   "cell_type": "markdown",
   "metadata": {},
   "source": [
    "## Exercise 4\n",
    "\n",
    "**WARNING: DO NOT read the following until you have completed Exercise 3; otherwise, it may short-circuit your educational experience.**\n",
    "\n",
    "Starting from the rocket's parking orbit (third stage not completely empty---hopefully you have discovered what the parking orbit is in researching your answer to Exercise 3), produce a detailed *pseudocode* for modeling the tran-lunar injection maneuver. Include the gravitational influence of the Moon in your pseudocode, (i.e. the Earth, the Moon, and the rocket are all interacting via the gravitational force). You are not expect to produce a working code for the trans--lunar injection, but you could try if you have time and sufficent interest. *HINT: IF you decide to try to produce the code for the trans lunar injection, keep it constrianed to a 2D problem*."
   ]
  }
 ],
 "metadata": {
  "anaconda-cloud": {},
  "kernelspec": {
   "display_name": "Python [Root]",
   "language": "python",
   "name": "Python [Root]"
  },
  "language_info": {
   "codemirror_mode": {
    "name": "ipython",
    "version": 3
   },
   "file_extension": ".py",
   "mimetype": "text/x-python",
   "name": "python",
   "nbconvert_exporter": "python",
   "pygments_lexer": "ipython3",
   "version": "3.5.2"
  }
 },
 "nbformat": 4,
 "nbformat_minor": 2
}
