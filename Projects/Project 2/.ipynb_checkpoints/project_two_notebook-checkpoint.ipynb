{
 "cells": [
  {
   "cell_type": "code",
   "execution_count": 1,
   "metadata": {},
   "outputs": [],
   "source": [
    "import matplotlib.pyplot as plt\n",
    "import numpy as np"
   ]
  },
  {
   "cell_type": "code",
   "execution_count": 4,
   "metadata": {},
   "outputs": [
    {
     "data": {
      "text/plain": [
       "False"
      ]
     },
     "execution_count": 4,
     "metadata": {},
     "output_type": "execute_result"
    }
   ],
   "source": [
    "a = np.asarray([1, 2, 3])\n",
    "b = np.asarray([5, 6, 7])\n",
    "c = np.asarray([8, 9, 10, 10])\n",
    "\n",
    "len(set(i.shape for i in [a, b, c])) <= 1"
   ]
  },
  {
   "cell_type": "code",
   "execution_count": 72,
   "metadata": {},
   "outputs": [],
   "source": [
    "def acceleration(m, *forces):\n",
    "    ''' Return acceleration given a list of forces and mass. '''\n",
    "    \n",
    "    F_net = sum(forces)\n",
    "    return F_net / m    "
   ]
  },
  {
   "cell_type": "code",
   "execution_count": 78,
   "metadata": {},
   "outputs": [],
   "source": [
    "def F_g(m, y, R=6.371e6, M=5.972e24, G=6.67408e-11):\n",
    "    ''' Return gaviational force given mass and elevation '''\n",
    "    \n",
    "    return -(m * M * G) / (y + R)**2"
   ]
  },
  {
   "cell_type": "code",
   "execution_count": 108,
   "metadata": {},
   "outputs": [
    {
     "name": "stdout",
     "output_type": "stream",
     "text": [
      "Firing Stage I. t=0, x=0\n",
      "Stage I burn complete. t=16.5, x=913.993229834\n",
      "Firing Stage II. t=19.5, x=1437.7664968\n",
      "Stage II burn complete. t=56.2, x=6489.40088883\n",
      "Firing Stage III. t=59.2, x=6959.29572963\n",
      "Stage III burn complete. t=103.9, x=7263.43201744\n",
      "Firing Payload. t=107.0, x=6860.64522893\n",
      "Payload burn complete. t=107.0, x=6860.64522893\n",
      "Payload in free-fall.\n"
     ]
    },
    {
     "data": {
      "image/png": "[encoded data removed]",
      "text/plain": [
       "<matplotlib.figure.Figure at 0x7f439cf42650>"
      ]
     },
     "metadata": {},
     "output_type": "display_data"
    },
    {
     "data": {
      "image/png": "[encoded data removed]",
      "text/plain": [
       "<matplotlib.figure.Figure at 0x7f439ac51390>"
      ]
     },
     "metadata": {},
     "output_type": "display_data"
    }
   ],
   "source": [
    "class Stage:\n",
    "    ''' Class for handling stage calculations. '''\n",
    "    \n",
    "    def __init__(self, name=None, empty_mass=0, fuel_mass=0, thrust=0, exhaust_velocity=0):\n",
    "        \n",
    "        self.name = name\n",
    "        \n",
    "        self.thrust = thrust\n",
    "        self.exhaust_velocity = exhaust_velocity\n",
    "        \n",
    "        self.fuel_mass = fuel_mass\n",
    "        self.empty_mass = empty_mass\n",
    "        \n",
    "    def burn(self, dt):\n",
    "        ''' Burn stage for dt seconds, return impulse. '''\n",
    "        \n",
    "        if not self.fuel_empty:\n",
    "            self.fuel_mass -= self.thrust / self.exhaust_velocity\n",
    "            return self.thrust * dt\n",
    "        else:\n",
    "            return 0\n",
    "    \n",
    "    @property\n",
    "    def fuel_empty(self):\n",
    "        ''' Return true if out of fuel. '''\n",
    "        \n",
    "        return not self.fuel_mass > 0\n",
    "            \n",
    "    @property\n",
    "    def mass(self):\n",
    "        ''' Return combined fuel/empty mass. '''\n",
    "        \n",
    "        return self.fuel_mass + self.empty_mass\n",
    "                \n",
    "        \n",
    "class Rocket:\n",
    "    \n",
    "    def __init__(self, stages, stage_delay=3.5):\n",
    "        \n",
    "        self.stages = stages\n",
    "        self.stage_delay = stage_delay\n",
    "    \n",
    "    @property\n",
    "    def mass(self):\n",
    "        ''' Return sum of remaining mass from all stages. '''\n",
    "        \n",
    "        return sum(s.mass for s in self.stages)\n",
    "    \n",
    "    def add_stage(self, stage):\n",
    "        self.stages.append(stage)\n",
    "        \n",
    "    def launch(self, dt, verbose=False):\n",
    "        \n",
    "        t = 0\n",
    "        x = 0\n",
    "        v = 0\n",
    "        a = 0\n",
    "        m = self.mass\n",
    "        \n",
    "        t_list = [t]\n",
    "        x_list = [x]\n",
    "        v_list = [v]\n",
    "        a_list = [a]\n",
    "        m_list = [m]\n",
    "        \n",
    "        for stage in self.stages:\n",
    "            \n",
    "            if verbose: print('Firing %s. t=%s, x=%s' % (stage.name, t, x))\n",
    "            \n",
    "            while not stage.fuel_empty:\n",
    "                a = acceleration(self.mass, stage.burn(dt) / dt, F_g(self.mass, x))\n",
    "                \n",
    "                t += dt\n",
    "                x += v * dt\n",
    "                v += a * dt\n",
    "                \n",
    "                t_list.append(t)\n",
    "                x_list.append(x)\n",
    "                v_list.append(v)\n",
    "                a_list.append(a)\n",
    "                m_list.append(self.mass)\n",
    "            \n",
    "            if verbose: print('%s burn complete. t=%s, x=%s' % (stage.name, t, x))\n",
    "            \n",
    "            if stage.name != 'Payload':\n",
    "                pause = t + 3\n",
    "                while t < pause:\n",
    "                    a = acceleration(self.mass, F_g(self.mass, x))\n",
    "\n",
    "                    t += dt\n",
    "                    x += v * dt\n",
    "                    v += a * dt\n",
    "\n",
    "                    t_list.append(t)\n",
    "                    x_list.append(x)\n",
    "                    v_list.append(v)\n",
    "                    a_list.append(a)\n",
    "                    m_list.append(self.mass)     \n",
    "            else:\n",
    "                if verbose: print('Payload in free-fall.')\n",
    "                \n",
    "                #dt = 60.0\n",
    "                while v > 0:\n",
    "                    a = acceleration(self.mass, F_g(self.mass, x))\n",
    "\n",
    "                    t += dt\n",
    "                    x += v * dt\n",
    "                    v += a * dt\n",
    "\n",
    "                    t_list.append(t)\n",
    "                    x_list.append(x)\n",
    "                    v_list.append(v)\n",
    "                    a_list.append(a)\n",
    "                    m_list.append(self.mass) \n",
    "            \n",
    "        return t_list, x_list, v_list, a_list, m_list\n",
    "        \n",
    "if __name__ == '__main__':\n",
    "    \n",
    "    payload   = Stage(name='Payload', \n",
    "                      empty_mass=25e3\n",
    "                     )\n",
    "    \n",
    "    stage_I   = Stage(name='Stage I', \n",
    "                      empty_mass=131e3,\n",
    "                      fuel_mass=2.3e6-131e3,\n",
    "                      thrust=34e6,\n",
    "                      exhaust_velocity=2580\n",
    "                     )\n",
    "    \n",
    "    stage_II  = Stage(name='Stage II', \n",
    "                      empty_mass=36e3,\n",
    "                      fuel_mass=480e3-36e3,\n",
    "                      thrust=5e6,\n",
    "                      exhaust_velocity=4130\n",
    "                     )\n",
    "    \n",
    "    stage_III = Stage(name='Stage III', \n",
    "                      empty_mass=11e3,\n",
    "                      fuel_mass=119e3-11e3,\n",
    "                      thrust=1e6,\n",
    "                      exhaust_velocity=4130\n",
    "                     )\n",
    "    \n",
    "    # Fill stages in order of burn!\n",
    "    stages = [stage_I, stage_II, stage_III, payload]\n",
    "    \n",
    "    rocket = Rocket(stages)\n",
    "    \n",
    "    t, x, v, a, m = rocket.launch(0.1, verbose=True)\n",
    "    \n",
    "    plt.plot(t, x)\n",
    "    plt.show()\n",
    "    \n",
    "    plt.plot(t, a)\n",
    "    plt.show()"
   ]
  },
  {
   "cell_type": "markdown",
   "metadata": {},
   "source": [
    "Things are really getting down to the wire here, so lets do this the quick way. Rather than building up abstraction, classes, functions, etc. I am going to write this problem procedurally. It will look much more like a MATLAB script, probably be a bit less clear, be far less extensible, *but it will be fast to write*. "
   ]
  },
  {
   "cell_type": "code",
   "execution_count": null,
   "metadata": {},
   "outputs": [],
   "source": []
  }
 ],
 "metadata": {
  "kernelspec": {
   "display_name": "Python 2",
   "language": "python",
   "name": "python2"
  },
  "language_info": {
   "codemirror_mode": {
    "name": "ipython",
    "version": 2
   },
   "file_extension": ".py",
   "mimetype": "text/x-python",
   "name": "python",
   "nbconvert_exporter": "python",
   "pygments_lexer": "ipython2",
   "version": "2.7.14"
  }
 },
 "nbformat": 4,
 "nbformat_minor": 2
}
