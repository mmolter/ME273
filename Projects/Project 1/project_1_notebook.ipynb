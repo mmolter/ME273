{
 "cells": [
  {
   "cell_type": "markdown",
   "metadata": {},
   "source": [
    "# Project 1 - Air Resistance in a 2D Projectile\n",
    "## M. Molter\n",
    "\n",
    "So far, we've completed three guided activities focused on applying the Euler Method to numerical modeling problems. In Project 1, I will be applying the skills gained in the previous exercises to modeling the trajectory of a AP Mark 8 shell fired from a 16\" naval canon.\n",
    "\n",
    "Not much has changed in my programming style; however, I am not including hyperlinks to [relevant documentation](https://docs.python.org/3/) in the notes for your grading convenience.\n",
    "\n",
    "Let's get started!\n",
    "\n",
    "Start by importing [`numpy`](http://www.numpy.org/) for numerical computations and [`matplotlib`](https://matplotlib.org/) for plotting. That should be all we need for now."
   ]
  },
  {
   "cell_type": "code",
   "execution_count": 1,
   "metadata": {},
   "outputs": [],
   "source": [
    "import matplotlib.pyplot as plt\n",
    "import numpy as np"
   ]
  },
  {
   "cell_type": "markdown",
   "metadata": {},
   "source": [
    "Now we need to model our system in terms of forces acting on the projectile. Gravity is the simplest force:\n",
    "\n",
    "$$ F_g = -mg $$"
   ]
  },
  {
   "cell_type": "code",
   "execution_count": 2,
   "metadata": {},
   "outputs": [],
   "source": [
    "def gravitational_force(m, g=9.80665, dimensions=2, vertical_axis=1):\n",
    "    ''' Return gravitational force on a projectile subject to gravity.\n",
    "        \n",
    "        Returns downward force vector in netwons. \n",
    "\n",
    "                  F_g = g * m  \n",
    "\n",
    "        Args:\n",
    "            \n",
    "            m (np.array):           mass of the object (kg) \n",
    "            g (np.float64):         gravitational acceleration (m/s**2)\n",
    "            dimensions (int):       number of dimensions in return vector\n",
    "            vertical_axis (int):    axis which gravitional force acts on\n",
    "\n",
    "        Returns:\n",
    "\n",
    "            (np.array):             gravitational force vector (N)\n",
    "    '''\n",
    "\n",
    "    force = np.zeros(dimensions)\n",
    "    force[vertical_axis] = -g * m\n",
    "    \n",
    "    return force"
   ]
  },
  {
   "cell_type": "markdown",
   "metadata": {},
   "source": [
    "Drag force is a little more complex, it involves calculation of air resistance.\n",
    "\n",
    "$$\n",
    "    F_d = \\frac{D \\rho A}{2} |v|^2\n",
    "$$\n",
    "\n",
    "We will need to be able to calculated the magnitude of a multi-dimensional velocity vector, so we should create a quite helper function."
   ]
  },
  {
   "cell_type": "code",
   "execution_count": 3,
   "metadata": {},
   "outputs": [],
   "source": [
    "def magnitude(x):\n",
    "    ''' Return mangitude of vector x. \n",
    "\n",
    "        Args:\n",
    "\n",
    "            x (np.array):   input vector\n",
    "\n",
    "        Returns\n",
    "            \n",
    "            (np.float64):   magnitude of x \n",
    "    '''\n",
    "\n",
    "    return np.sqrt(np.sum(x * x))"
   ]
  },
  {
   "cell_type": "markdown",
   "metadata": {},
   "source": [
    "The drag force is orientated in the opposite direction of the velocity vector. The easiest way to handle this geometrically is using unit vectors, hence another helper function."
   ]
  },
  {
   "cell_type": "code",
   "execution_count": 4,
   "metadata": {},
   "outputs": [],
   "source": [
    "def unit_vector(x):\n",
    "    ''' Return unit vector for vector x. \n",
    "\n",
    "        Args:\n",
    "\n",
    "            x (np.array):   input vector\n",
    "\n",
    "        Returns\n",
    "            \n",
    "            (np.array):     unit vector for x\n",
    "    '''\n",
    "\n",
    "    return x / magnitude(x)"
   ]
  },
  {
   "cell_type": "markdown",
   "metadata": {},
   "source": [
    "Now we can use these two tools to finally build our drag force function."
   ]
  },
  {
   "cell_type": "code",
   "execution_count": 5,
   "metadata": {},
   "outputs": [],
   "source": [
    "def drag_force(v, D, rho, A):\n",
    "    ''' Return drag force on a projectile subject to air resistance.\n",
    "        \n",
    "        Returns a force vector in the opposite direction as the velocity\n",
    "        vector with a magnitude determined by the drag equation below.\n",
    "\n",
    "                    F_d = (D * rho * A) / 2 * v**2\n",
    "\n",
    "        Args:\n",
    "            \n",
    "            v (np.array):       velocity vector \n",
    "            D (np.float64):     drag coefficient\n",
    "            rho (np.float64):   air density (units)\n",
    "            A (np.float64):     cross-sectional area (m**2)\n",
    "\n",
    "        Returns:\n",
    "\n",
    "            (np.array):         drag force vector \n",
    "    '''\n",
    "\n",
    "    F_d = ((D * rho * A) / 2) * magnitude(v)**2\n",
    "    \n",
    "    return F_d * (-1) * unit_vector(v)"
   ]
  },
  {
   "cell_type": "markdown",
   "metadata": {},
   "source": [
    "Acceleration of the projectile follows Newtons Law:\n",
    "\n",
    "$$\n",
    "    \\sum F_i = ma\n",
    "$$\n",
    "\n",
    "We have already accounted for our major forces (i.e. gravity and drag), so now we just build them into a function."
   ]
  },
  {
   "cell_type": "code",
   "execution_count": 6,
   "metadata": {},
   "outputs": [],
   "source": [
    "def acceleration(x, v, A=1, D=0.5, rho=1.2, m=1225, density_correction=False, vertical_axis=1):\n",
    "    ''' Return the acceleration vector for a projectile subject to \n",
    "        air resistance.\n",
    "        \n",
    "        Uses:\n",
    "\n",
    "                        a = F_net / m\n",
    "\n",
    "        Args:\n",
    "            \n",
    "            v (np.array):       velocity vector \n",
    "            D (np.float64):     drag coefficient\n",
    "            rho (np.float64):   air density (units)\n",
    "            A (np.float64):     cross-sectional area (m**2)\n",
    "            m (np.float64):     mass of the projectile (kg)\n",
    "            density_correction: allows for air-density correction\n",
    "\n",
    "        Returns:\n",
    "\n",
    "            (np.array):         acceleration vector \n",
    "    '''\n",
    "\n",
    "    if density_correction:\n",
    "        rho = air_density(x[vertical_axis])\n",
    "    \n",
    "    F_d = drag_force(v, D, rho, A)\n",
    "    F_g = gravitational_force(m)\n",
    "\n",
    "    return (F_d + F_g) / m"
   ]
  },
  {
   "cell_type": "markdown",
   "metadata": {},
   "source": [
    "Finally, we copy over our Euler Method from GA3. We spent the time then to ensure that the function could handle multi-dimensional input. In this latest version, I built in some convient stopping conditions. The Euler Method will stop the computation once the projectile hits `(x, 0)` if `stop_mode='projectile'`.\n",
    "\n",
    "The function is noticebly more complex, because we no longer know how large of an array to allocate at the start of the method. This function instead pre--allocates 128 points, and doubles the number of points everytime the algorithm reaches the end of the array."
   ]
  },
  {
   "cell_type": "code",
   "execution_count": 7,
   "metadata": {},
   "outputs": [],
   "source": [
    "def euler_method(acceleration, t0=0, tf=None, dt=0.1, x0=0, v0=0, modified=False, \n",
    "                 stop_mode='normal', vertical_axis=1, **kwargs):\n",
    "    ''' Returns t, x, v, and a arrays for Euler Method\n",
    "\n",
    "    Args:\n",
    "        acceleration (func):    acceleration function **\n",
    "\n",
    "        t0 (float):             initial time (s)\n",
    "        tf (float):             final time (s)\n",
    "        dt (float):             time step (s)\n",
    "        \n",
    "        x0 (np.array):          initial displacement (m)\n",
    "        v0 (np.array):          initial velocity (m/s)\n",
    "        \n",
    "        stop_mode:              'normal'     run from t0 to tf\n",
    "                                'projectile' run until y=0\n",
    "                                \n",
    "        vertical_axis           vertical axis for 'projectile' stop mode.\n",
    "        \n",
    "        **kwargs:               any additional parameters required for\n",
    "                                    acceleration function.\n",
    "\n",
    "    Returns:\n",
    "        np.float64 (np.array):  list of times (s)\n",
    "        np.float64 (np.array):  list positions (m)\n",
    "        np.float64 (np.array):  list velocities (m/s)\n",
    "        np.float64 (np.array):  list accelerations (m/s**2)\n",
    "    '''\n",
    "    \n",
    "    # Allocate initial array size.\n",
    "    n = 128\n",
    "    t = np.empty(n)\n",
    "    x = np.empty([n, 2])\n",
    "    v = np.empty([n, 2])\n",
    "    a = np.empty([n, 2])\n",
    "        \n",
    "    # Set initial conditions.\n",
    "    t[0] = t0\n",
    "    x[0] = x0\n",
    "    v[0] = v0\n",
    "    a[0] = acceleration(x0, v0, **kwargs)\n",
    "    \n",
    "    i = 0\n",
    "    while True:\n",
    "        # If array is too small, reallocate\n",
    "        i += 1\n",
    "        if i >= n:\n",
    "            t = np.append(t, np.empty(n))\n",
    "            x = np.append(x, np.empty([n, 2]), axis=0)\n",
    "            v = np.append(v, np.empty([n, 2]), axis=0)\n",
    "            a = np.append(a, np.empty([n, 2]), axis=0)\n",
    "            \n",
    "            n *= 2\n",
    "        \n",
    "        # Run Euler Method\n",
    "        a[i] = acceleration(x[i-1], v[i-1], **kwargs)\n",
    "        \n",
    "        if modified:\n",
    "            v[i] = v[i-1] + dt * a[i]\n",
    "            x[i] = x[i-1] + dt * v[i]\n",
    "        else:\n",
    "            x[i] = x[i-1] + dt * v[i-1]\n",
    "            v[i] = v[i-1] + dt * a[i]\n",
    "            \n",
    "        t[i] = t[i-1] + dt\n",
    "        \n",
    "        # Evaluate stopping conditions.\n",
    "        if stop_mode == 'normal':\n",
    "            if t[i] > tf: \n",
    "                break\n",
    "        elif stop_mode == 'projectile':\n",
    "            if (t[i] > t0) and x[i,vertical_axis] <= 0: \n",
    "                break\n",
    "\n",
    "    # Truncate unused portion of arrays\n",
    "    t = t[0:i+1]\n",
    "    x = x[0:i+1,:]\n",
    "    v = v[0:i+1,:]\n",
    "    a = a[0:i+1,:]\n",
    "            \n",
    "    return t, x, v, a"
   ]
  },
  {
   "cell_type": "markdown",
   "metadata": {},
   "source": [
    "We just need one last helper function. The initial velocity of a projectile is often specified as a velocity magnitude and an incline. The most convient form for our calculations is x, y (, and z) velocity components. They are found through some basic trigonometry.\n",
    "\n",
    "$$ x = v_0 \\cos(\\phi) $$\n",
    "$$ y = v_0 \\sin(\\phi) $$\n",
    "\n",
    "To make thinigs unnecessarily complex, this function also handles azimuth. I am considering doing these problems in 3-dimensions so I can play with coriolis, ship velocity and bearing, and wind velocity. "
   ]
  },
  {
   "cell_type": "code",
   "execution_count": 8,
   "metadata": {},
   "outputs": [],
   "source": [
    "def launch_vector(mag, incline, azimuth=False, radians=False):\n",
    "    ''' Return v0 vector for given scalar magnitude and incline above the horizon. \n",
    "\n",
    "        Args:\n",
    "            magnitude (float):      magnitude of v0 (m/s)\n",
    "            incline (float):        angle above horizon (degrees)\n",
    "            azimuth (float):        angle in plane of horizon (degrees)\n",
    "            radians (bool):         option for using radian incline\n",
    "\n",
    "        Returns:\n",
    "            np.array (np.float64):  vector with launch velocity components\n",
    "    '''\n",
    "    \n",
    "    if not radians:\n",
    "        incline = incline * (np.pi / 180.0)\n",
    "\n",
    "        if azimuth:\n",
    "            azimuth = azimuth * (np.pi / 180.0)\n",
    "    \n",
    "    if azimuth:\n",
    "        z = mag * np.sin(incline)\n",
    "        h = mag * np.cos(incline)\n",
    "\n",
    "        x = h * np.cos(azimuth)\n",
    "        y = h * np.sin(azimuth)\n",
    "\n",
    "        return np.asarray([x, y, z])\n",
    "\n",
    "    else:\n",
    "        x = mag * np.cos(incline)\n",
    "        y = mag * np.sin(incline)\n",
    "\n",
    "        return np.asarray([x, y])\n"
   ]
  },
  {
   "cell_type": "markdown",
   "metadata": {},
   "source": [
    "## Exercise 1\n",
    "### 2D Projectile with Air Resistance\n",
    "#### Requirements\n",
    "\n",
    "1. Build a computational model of a 2D projectile subject to air resistance.\n",
    "2. Assume air density and the drag coefficient remain constant.\n",
    "3. Model inputs must be magnitude and angle of initial velocity.\n",
    "4. Determine accuracy of model.\n",
    "5. Determine adequate $\\Delta t$ for model.\n",
    "6. Plot a set of parameters of your choosing."
   ]
  },
  {
   "cell_type": "markdown",
   "metadata": {},
   "source": [
    "#### Solution\n",
    "\n",
    "I'll start by trying out the intial velocity function."
   ]
  },
  {
   "cell_type": "code",
   "execution_count": 9,
   "metadata": {},
   "outputs": [
    {
     "data": {
      "text/plain": [
       "array([97.81476007, 20.79116908])"
      ]
     },
     "execution_count": 9,
     "metadata": {},
     "output_type": "execute_result"
    }
   ],
   "source": [
    "launch_vector(mag=100, incline=12)"
   ]
  },
  {
   "cell_type": "markdown",
   "metadata": {},
   "source": [
    "Now lets run the Modified Euler Method. We'll fire a 10 $cm^2$ shell with a drage coefficient of 0.5 at 100 $m/s$ and a $40^\\circ$ incline."
   ]
  },
  {
   "cell_type": "code",
   "execution_count": 22,
   "metadata": {},
   "outputs": [
    {
     "data": {
      "image/png": "[encoded data removed]",
      "text/plain": [
       "<matplotlib.figure.Figure at 0x7f4bfccefa10>"
      ]
     },
     "metadata": {},
     "output_type": "display_data"
    }
   ],
   "source": [
    "vi = 250 # Initial velocity, (m/s)\n",
    "inc = 45  # Inline for gun (degrees)\n",
    "area = 0.01 # Cross sectional area, 10x10 cm.\n",
    "D = 0.1\n",
    "\n",
    "dt = 0.001 # s\n",
    "\n",
    "t, x, v, a =  euler_method(acceleration, \n",
    "                           dt=dt, \n",
    "                           x0=np.asarray([0,0]), \n",
    "                           v0=launch_vector(vi, inc), \n",
    "                           modified=True, \n",
    "                           stop_mode='projectile', \n",
    "                           A=area,\n",
    "                           D=D)\n",
    "    \n",
    "plt.plot(x[:,0], x[:,1])\n",
    "plt.grid(which='both', linestyle=':')\n",
    "plt.title('Quick Test Trajectory')\n",
    "plt.xlabel('Horizontal Position (m)')\n",
    "plt.ylabel('Altitude (m)')\n",
    "plt.ylim(ymin=0)\n",
    "plt.axis('equal')\n",
    "plt.show()"
   ]
  },
  {
   "cell_type": "markdown",
   "metadata": {},
   "source": [
    "## Exercise 2\n",
    "### Shape of the 2D Projectile Trajectory\n",
    "#### Requirements\n",
    "\n",
    "1. Compare your model to a parabola, are they the same?\n",
    "\n",
    "#### Solution\n",
    "\n",
    "Lets create a quick helper function for plotting parabolas."
   ]
  },
  {
   "cell_type": "code",
   "execution_count": 11,
   "metadata": {},
   "outputs": [],
   "source": [
    "def parabola(x, a, b, c):\n",
    "    ''' Return a parabola given entered in standard form. '''\n",
    "    \n",
    "    return a * x**2 + b * x + c"
   ]
  },
  {
   "cell_type": "markdown",
   "metadata": {},
   "source": [
    "Now we have to find a way to compare the modeled trajectory to that of a parabola. We will use the first few data points from the Euler method (before drag takes a significant effect) to fit the a standard parabola (See [`curve_fit()`](https://docs.scipy.org/doc/scipy/reference/generated/scipy.optimize.curve_fit.html))."
   ]
  },
  {
   "cell_type": "code",
   "execution_count": 12,
   "metadata": {},
   "outputs": [
    {
     "data": {
      "image/png": "[encoded data removed]",
      "text/plain": [
       "<matplotlib.figure.Figure at 0x7f4bfab6e710>"
      ]
     },
     "metadata": {},
     "output_type": "display_data"
    }
   ],
   "source": [
    "from scipy.optimize import curve_fit\n",
    "\n",
    "vi = 750 # Initial velocity, (m/s)\n",
    "inc = 45  # Inline for gun (degrees)\n",
    "area = 0.10 # Cross sectional area, 10x10 cm.\n",
    "mass = 1225 # Mass (kg)\n",
    "D = 0.1\n",
    "\n",
    "dt = 0.001 # s\n",
    "\n",
    "t, x, v, a =  euler_method(acceleration, \n",
    "                           dt=dt, \n",
    "                           x0=np.asarray([0,0]), \n",
    "                           v0=launch_vector(vi, inc), \n",
    "                           modified=True, \n",
    "                           stop_mode='projectile', \n",
    "                           A=area,\n",
    "                           D=D,\n",
    "                           m=mass)\n",
    "\n",
    "# Fit parameters a, b, and c (into popt).\n",
    "popt, pcov = curve_fit(parabola, x[0:10,0], x[0:10,1])\n",
    "\n",
    "# Plot the Euler Method results.\n",
    "plt.plot(x[:,0], x[:,1], label='euler')\n",
    "\n",
    "# Plot the parabola fitted to the first 10 data points.\n",
    "px = np.linspace(0, 57500, 10000)\n",
    "plt.plot(px, parabola(px, *popt), label='parabola')\n",
    "\n",
    "# Setup the graph.\n",
    "plt.grid(which='both', linestyle=':')\n",
    "plt.xlabel('Horizontal Position (m)')\n",
    "plt.ylabel('Altitude (m)')\n",
    "plt.axis('equal')\n",
    "plt.ylim(ymin=0)\n",
    "plt.xlim(xmin=0)\n",
    "plt.title(r'Firing a 1,225 kg shell (D=0.1, v=750 m/s, $\\theta=45^\\circ$)')\n",
    "plt.legend()\n",
    "plt.show()"
   ]
  },
  {
   "cell_type": "markdown",
   "metadata": {},
   "source": [
    "While the parabola models the inital portion of the trajectory well, the real shell falls off far sooner."
   ]
  },
  {
   "cell_type": "markdown",
   "metadata": {},
   "source": [
    "# Exercise 3\n",
    "### Angle for Maximum Projectile Range\n",
    "#### Requirements\n",
    "\n",
    "1. What angles of $\\theta$ ($\\pm 0.1^\\circ$) maximize the range? Use three very differnt drag coefficients.\n",
    "2. Plot all three trajectories together. Label max range, angle, and drag coefficient for each series.\n"
   ]
  },
  {
   "cell_type": "markdown",
   "metadata": {},
   "source": [
    "#### Solution\n",
    "\n",
    "Let's start by building a `find_range()` function that takes an initial velocity, area, drag coeffient, etc. and simply returns the maximum horizontal range."
   ]
  },
  {
   "cell_type": "code",
   "execution_count": 13,
   "metadata": {},
   "outputs": [
    {
     "data": {
      "text/plain": [
       "19124.98474211602"
      ]
     },
     "execution_count": 13,
     "metadata": {},
     "output_type": "execute_result"
    }
   ],
   "source": [
    "def find_range(v0, area=0.1, D=0.3, dt=0.01, **kwargs):\n",
    "    ''' Returns the horizonal range for a given set of firing conditions. \n",
    "    \n",
    "        Args:\n",
    "        \n",
    "            v0 (np.array):      inital velocity components (m/s)\n",
    "            area (np.float64):  cross-sectional area (m**2)\n",
    "            D (np.float64):     drag coefficient\n",
    "            dt (np.float64):    simulation timestep\n",
    "            **kwargs:           other simulation keyword paramters\n",
    "    \n",
    "    '''\n",
    "    t, x, v, a =  euler_method(acceleration, \n",
    "                           dt=dt, \n",
    "                           x0=np.asarray([0,0]), \n",
    "                           v0=v0, \n",
    "                           modified=True, \n",
    "                           stop_mode='projectile', \n",
    "                           A=area,\n",
    "                           D=D,\n",
    "                           **kwargs)\n",
    "    \n",
    "    return max(x[:, 0])\n",
    "\n",
    "find_range(launch_vector(750, 12))"
   ]
  },
  {
   "cell_type": "markdown",
   "metadata": {},
   "source": [
    "Now lets take advantage of the scipy optimization functions to find the angle, $\\theta$, that maximizes the range subject to the constraint $0\\le\\theta\\le90^\\circ$.\n",
    "\n",
    "We are trying to \"maximize\" range, but SciPy only supports minimization ([`minimize_scalar()`](https://docs.scipy.org/doc/scipy-0.19.1/reference/generated/scipy.optimize.minimize_scalar.html)). In practice, these are the same thing, and we can write a lambda function such that:\n",
    "\n",
    "$$\\max \\left(f(x)\\right) = \\min \\left(-f(x)\\right)$$\n",
    "\n",
    "Let's try out the minimization, so it's clear how it works."
   ]
  },
  {
   "cell_type": "code",
   "execution_count": 14,
   "metadata": {},
   "outputs": [
    {
     "name": "stdout",
     "output_type": "stream",
     "text": [
      "For a muzzle velocity of 750.00 m/s,the maximum range is 36155 m at an incline of 41.64 degrees\n"
     ]
    }
   ],
   "source": [
    "from scipy.optimize import minimize_scalar as minimize\n",
    "\n",
    "vi = 750 # Initial muzzle velocity (m/s)\n",
    "D  = 0.3   # Drag coefficient\n",
    "\n",
    "res = minimize(lambda theta: -1 * find_range(launch_vector(vi, theta), D=D))\n",
    "\n",
    "max_range = res.fun * -1\n",
    "max_angle = res.x\n",
    "\n",
    "print('For a muzzle velocity of {:.2f} m/s,'\n",
    "      'the maximum range is {:.0f} m at an '\n",
    "      'incline of {:.2f} degrees'.format(vi, max_range, max_angle))"
   ]
  },
  {
   "cell_type": "markdown",
   "metadata": {},
   "source": [
    "Now lets try a D of 0.1, 0.2, and 0.5:"
   ]
  },
  {
   "cell_type": "code",
   "execution_count": 15,
   "metadata": {},
   "outputs": [
    {
     "name": "stdout",
     "output_type": "stream",
     "text": [
      "Drag Coeff:\t0.10\tAngle:\t43.46 (deg)\tRange:\t47410 m\n",
      "Drag Coeff:\t0.20\tAngle:\t42.49 (deg)\tRange:\t40861 m\n",
      "Drag Coeff:\t0.50\tAngle:\t40.00 (deg)\tRange:\t29747 m\n"
     ]
    },
    {
     "data": {
      "image/png": "[encoded data removed]",
      "text/plain": [
       "<matplotlib.figure.Figure at 0x7f4bfab0a910>"
      ]
     },
     "metadata": {},
     "output_type": "display_data"
    }
   ],
   "source": [
    "vi = 750 # Initial muzzle velocity (m/s)\n",
    "area = 0.1 # Shell cross-sectional area (m**2)\n",
    "mass = 100 # kg\n",
    "\n",
    "for D in [0.1, 0.2, 0.5]:\n",
    "    \n",
    "    # Find the maximum angle.\n",
    "    res = minimize(lambda t: -1 * find_range(launch_vector(vi, t), D=D, area=area))\n",
    "    \n",
    "    max_range = res.fun * -1\n",
    "    max_angle = res.x \n",
    "    \n",
    "    print('Drag Coeff:\\t{:.2f}\\tAngle:\\t{:.2f} (deg)\\tRange:\\t{:.0f} m'.format(D, max_angle, max_range))\n",
    "    \n",
    "    # Plot the graph of maximum angle.\n",
    "    t, x, v, a =  euler_method(acceleration, \n",
    "                       dt=dt, \n",
    "                       x0=np.asarray([0,0]), \n",
    "                       v0=launch_vector(vi, max_angle), \n",
    "                       modified=True, \n",
    "                       stop_mode='projectile', \n",
    "                       A=area,\n",
    "                       D=D,\n",
    "                       m=mass)\n",
    "    \n",
    "    plt.plot(x[:,0], x[:,1], label='D={}'.format(D))\n",
    "    \n",
    "# Setup the graph.\n",
    "plt.grid(which='both', linestyle=':')\n",
    "plt.xlabel('Horizontal Position (m)')\n",
    "plt.ylabel('Altitude (m)')\n",
    "plt.axis('equal')\n",
    "plt.ylim(ymin=0)\n",
    "plt.xlim(xmin=0)\n",
    "plt.title('Firing 100 kg shell at 750 m/s at maximum range')\n",
    "plt.legend()\n",
    "plt.show()"
   ]
  },
  {
   "cell_type": "markdown",
   "metadata": {},
   "source": [
    "# Exercise 4\n",
    "### 2D Model with Air Resistance--Naval Gun\n",
    "#### Requirements\n",
    "\n",
    "1. Goto http://www.navweaps.com/Weapons/WNUS_1650_mk6.php and retrieve real parameters (i.e. mass, frontal area, initial velocity) for a 16\" naval gun.\n",
    "2. Account for changes in air density.\n",
    "3. Determine a constant drag coefficient, D, by fiting your model to the following data. Use \"new gun\" muzzle velocities.\n",
    "\n",
    "\n",
    "|**Elevation ($^\\circ$)**|**AP Mark 8 (m)**|**HC Mark 13 (m)**| \n",
    "|:-----:|:-----:|:-----:|\n",
    "|10|16139|16642| \n",
    "|15|21854|22037| \n",
    "|20|26518|26335| \n",
    "|25|30450|29901| \n",
    "|30|33558|32918| \n",
    "|35|36119|35342| \n",
    "|40|37884|37163| \n",
    "|45|38720|38059|     \n",
    "\n",
    "#### Solution\n",
    "\n",
    "According to (http://www.navweaps.com/Weapons/WNUS_1650_mk6.php), a 16\" Mark 7 naval gun firing a AP Mark 8 shell has the following physical parameters.\n",
    "\n",
    "|**Measurement**|**Value**|**Unit**|\n",
    "| :---: | :---: | :---: |\n",
    "| Muzzle Velocity | 762 | m/s |\n",
    "| Shell Diameter | 16 | inch |\n",
    "| Cross-sectional Area | 0.1297 | m$^2$ |\n",
    "| Shell Mass | 1,225 | kg|\n",
    "\n",
    "Lets do the easy part next: modeling altitude--dependent air density. Near the Earth (< 10,000 m), air density follows the following relasion:\n",
    "\n",
    "$$\n",
    "    \\rho(y) = \\rho_o \\left( 1 - \\frac{cy}{T_o} \\right)^\\alpha\n",
    "$$\n",
    "\n",
    "&nbsp;&nbsp;&nbsp;&nbsp;&nbsp;where,\n",
    "    \n",
    "&nbsp;&nbsp;&nbsp;&nbsp;&nbsp;$\\rho_o=1.2$ is the air density at sea level ($\\text{kg}/\\text{m}^3$) \n",
    "\n",
    "&nbsp;&nbsp;&nbsp;&nbsp;&nbsp;$c=6.5\\times10^{-3}$ is the change in temperaure with altitude ($K/m$)\n",
    "\n",
    "&nbsp;&nbsp;&nbsp;&nbsp;&nbsp;$T_o=300$ is the temperature at sea level ($K$)\n",
    "\n",
    "&nbsp;&nbsp;&nbsp;&nbsp;&nbsp;$\\alpha=2.5$ is...I have no idea..."
   ]
  },
  {
   "cell_type": "code",
   "execution_count": 16,
   "metadata": {},
   "outputs": [],
   "source": [
    "def air_density(y, rho0=1.2, c=6.5e-3, T0=300, alpha=2.5):\n",
    "    ''' Return altitude dependent air density, rho.\n",
    "\n",
    "        Derrived from thermodynamic calculations and remains\n",
    "        a good approximation upt to 10 km (Roos, 2018).\n",
    "\n",
    "        Uses:\n",
    "\n",
    "            rho(y) = rho0 (1 - (cy/T0))**alpha\n",
    "\n",
    "        Args:\n",
    "\n",
    "            y (float):      altitude (m)\n",
    "            rho (float):    air density as sea level (kg/m**3)\n",
    "            c (float):      temperature fall (K/m)\n",
    "            T0 (float):     temperature at sea level (K)\n",
    "            alpha (float):  unknown?\n",
    "\n",
    "        Returns:\n",
    "            \n",
    "            (float):        air density at altitude (kg/m**3)\n",
    "    '''\n",
    "\n",
    "    return rho0 * (1 - c * y / T0)**alpha"
   ]
  },
  {
   "cell_type": "markdown",
   "metadata": {},
   "source": [
    "Lets fire a quick plot of that."
   ]
  },
  {
   "cell_type": "code",
   "execution_count": 17,
   "metadata": {},
   "outputs": [
    {
     "data": {
      "image/png": "[encoded data removed]",
      "text/plain": [
       "<matplotlib.figure.Figure at 0x7f4bfcc18490>"
      ]
     },
     "metadata": {},
     "output_type": "display_data"
    }
   ],
   "source": [
    "y = np.linspace(0, 10000, 1000)\n",
    "rho = air_density(y)\n",
    "\n",
    "plt.plot(rho, y)\n",
    "plt.title('Air Density as a Function of Altitude')\n",
    "plt.xlabel('Air Density ($kg/m^3$)')\n",
    "plt.ylabel('Altitude (m)')\n",
    "\n",
    "plt.grid(which='both', linestyle=':')\n",
    "plt.tick_params(which='both', direction='in')\n",
    "\n",
    "plt.show()"
   ]
  },
  {
   "cell_type": "markdown",
   "metadata": {},
   "source": [
    "Let's try a trajectory with, and without air density correction (assume $\\rho_o = 1.2$)."
   ]
  },
  {
   "cell_type": "code",
   "execution_count": 21,
   "metadata": {},
   "outputs": [
    {
     "data": {
      "image/png": "[encoded data removed]",
      "text/plain": [
       "<matplotlib.figure.Figure at 0x7f4bfaa9ecd0>"
      ]
     },
     "metadata": {},
     "output_type": "display_data"
    }
   ],
   "source": [
    "t_simp, x_simp, v_simp, a_simp =  euler_method(acceleration, \n",
    "                                               dt=0.01, \n",
    "                                               x0=np.asarray([0,0]), \n",
    "                                               v0=launch_vector(750, 45), \n",
    "                                               modified=True, \n",
    "                                               stop_mode='projectile', \n",
    "                                               A=0.1,\n",
    "                                               D=0.1,\n",
    "                                               rho=1.2)\n",
    "\n",
    "t_comp, x_comp, v_comp, a_comp =  euler_method(acceleration, \n",
    "                                               dt=0.01, \n",
    "                                               x0=np.asarray([0,0]), \n",
    "                                               v0=launch_vector(750, 45), \n",
    "                                               modified=True, \n",
    "                                               stop_mode='projectile', \n",
    "                                               A=0.1,\n",
    "                                               D=0.1,\n",
    "                                               density_correction=True)\n",
    "\n",
    "\n",
    "    \n",
    "plt.plot(x_simp[:,0], x_simp[:,1], label=r'$\\rho_o$')\n",
    "plt.plot(x_comp[:,0], x_comp[:,1], label=r'$\\rho(y)$')\n",
    "\n",
    "plt.grid(which='both', linestyle=':')\n",
    "plt.title('Shell Trajectory with and without Density-Dependent Air Density')\n",
    "plt.xlabel('Horizontal Position (m)')\n",
    "plt.ylabel('Altitude (m)')\n",
    "plt.ylim(ymin=0)\n",
    "plt.axis('equal')\n",
    "plt.legend()\n",
    "plt.show()"
   ]
  },
  {
   "cell_type": "markdown",
   "metadata": {},
   "source": [
    "The air density correction accounts for the reduced drag on the shell at higher altitudes. At long ranges, this leads to a significant increase in range."
   ]
  },
  {
   "cell_type": "code",
   "execution_count": 19,
   "metadata": {},
   "outputs": [
    {
     "name": "stdout",
     "output_type": "stream",
     "text": [
      "50294.865747899246\n",
      "47350.46825929259\n"
     ]
    }
   ],
   "source": [
    "print(find_range(launch_vector(750, 45), area=0.1, D=0.1, density_correction=True))\n",
    "print(find_range(launch_vector(750, 45), area=0.1, D=0.1, density_correction=False))"
   ]
  },
  {
   "cell_type": "markdown",
   "metadata": {},
   "source": [
    "Now lets find a realistic value for the drag coeffient of the AP Mark 8 shell. To my unfortunate surprise, [`curve_fit()`](https://docs.scipy.org/doc/scipy/reference/generated/scipy.optimize.curve_fit.html) requires the fitting function to accept `numpy` array [broadcasting](https://docs.scipy.org/doc/numpy-1.14.0/user/basics.broadcasting.html)--my `euler_method()` function definetly doesn't do that. We'll just have to roll our own using `minimize_scalar()` again."
   ]
  },
  {
   "cell_type": "code",
   "execution_count": 24,
   "metadata": {},
   "outputs": [
    {
     "name": "stdout",
     "output_type": "stream",
     "text": [
      "D=0.297 most closely models the empirical data.\n"
     ]
    }
   ],
   "source": [
    "from scipy.optimize import minimize_scalar\n",
    "\n",
    "# Empirical Data\n",
    "elevations = [10, 15, 20, 25, 30, 35, 40, 45]\n",
    "ranges = [16139, 21854, 26518, 30450, 33558, 36119, 37884, 38720]\n",
    "\n",
    "def sum_of_squares(elv, rng, D):\n",
    "    ''' Return Sum of Squares (SS) given D for numerical model'''\n",
    "    \n",
    "    ss = 0\n",
    "    for e, r in zip(elv, rng):\n",
    "        num_range = find_range(launch_vector(762, e), area=0.1297, D=D, m=1225, density_correction=True)\n",
    "        ss += (num_range - r)**2\n",
    "        \n",
    "    return ss\n",
    "        \n",
    "res = minimize(lambda D: sum_of_squares(elevations, ranges, D))\n",
    "real_D = res.x\n",
    "\n",
    "print('A drag coefficient of {:.3f} most closely models the empirical data.'.format(real_D))"
   ]
  },
  {
   "cell_type": "markdown",
   "metadata": {},
   "source": [
    "Now let's see how well our \"optimum\" drag coefficent fits the empirical data."
   ]
  },
  {
   "cell_type": "code",
   "execution_count": 26,
   "metadata": {},
   "outputs": [
    {
     "data": {
      "image/png": "[encoded data removed]",
      "text/plain": [
       "<matplotlib.figure.Figure at 0x7f4bf497f750>"
      ]
     },
     "metadata": {},
     "output_type": "display_data"
    }
   ],
   "source": [
    "# Empirical Data\n",
    "elevations = [10, 15, 20, 25, 30, 35, 40, 45]\n",
    "real_ranges = [16139, 21854, 26518, 30450, 33558, 36119, 37884, 38720]\n",
    "num_ranges = [find_range(launch_vector(762, e), area=0.1297, D=real_D, m=1225, density_correction=True) for e in elevations]\n",
    "\n",
    "plt.plot(elevations, real_ranges, label='empirical')\n",
    "plt.plot(elevations, num_ranges, label='numerical')\n",
    "\n",
    "plt.grid(linestyle=':')\n",
    "plt.xlabel('Elevation (degrees)')\n",
    "plt.ylabel('Range (m)')\n",
    "plt.title('Modeled v. Empirical Shell Ranges (D=0.297)')\n",
    "plt.legend()\n",
    "\n",
    "plt.show()"
   ]
  },
  {
   "cell_type": "markdown",
   "metadata": {},
   "source": [
    "# Exercise 5\n",
    "### Angle for Maximum Range\n",
    "#### Requirements\n",
    "\n",
    "1. Find the maximum angle for the naval projectile using the accurate parameters from Exercise 4.\n",
    "2. Is the angle greater or smaller than $45^\\circ$"
   ]
  },
  {
   "cell_type": "markdown",
   "metadata": {},
   "source": []
  }
 ],
 "metadata": {
  "anaconda-cloud": {},
  "kernelspec": {
   "display_name": "Python 2",
   "language": "python",
   "name": "python2"
  },
  "language_info": {
   "codemirror_mode": {
    "name": "ipython",
    "version": 2
   },
   "file_extension": ".py",
   "mimetype": "text/x-python",
   "name": "python",
   "nbconvert_exporter": "python",
   "pygments_lexer": "ipython2",
   "version": "2.7.14"
  }
 },
 "nbformat": 4,
 "nbformat_minor": 1
}
