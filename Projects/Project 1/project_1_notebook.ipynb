{
 "cells": [
  {
   "cell_type": "markdown",
   "metadata": {},
   "source": [
    "# Project 1 - Air Resistance in a 2D Projectile"
   ]
  },
  {
   "cell_type": "markdown",
   "metadata": {},
   "source": [
    "Start by importing `numpy` for numerical computations and `matplotlib` for plotting. That should be all we need for now."
   ]
  },
  {
   "cell_type": "code",
   "execution_count": 4,
   "metadata": {},
   "outputs": [],
   "source": [
    "import matplotlib.pyplot as plt\n",
    "import numpy as np"
   ]
  },
  {
   "cell_type": "markdown",
   "metadata": {},
   "source": [
    "Now we need to model our system in terms of forces acting on the projectile. Gravity is the simplest force:\n",
    "\n",
    "$$ F_g = -mg $$"
   ]
  },
  {
   "cell_type": "code",
   "execution_count": 5,
   "metadata": {},
   "outputs": [],
   "source": [
    "def gravitational_force(m, g=9.80665, dimensions=2, vertical_axis=1):\n",
    "    ''' Return gravitational force on a projectile subject to gravity.\n",
    "        \n",
    "        Returns downward force vector in netwons. \n",
    "\n",
    "                  F_g = g * m  \n",
    "\n",
    "        Args:\n",
    "            \n",
    "            m (np.array):           mass of the object (kg) \n",
    "            g (np.float64):         gravitational acceleration (m/s**2)\n",
    "            dimensions (int):       number of dimensions in return vector\n",
    "            vertical_axis (int):    axis which gravitional force acts on\n",
    "\n",
    "        Returns:\n",
    "\n",
    "            (np.array):             gravitational force vector (N)\n",
    "    '''\n",
    "\n",
    "    force = np.zeros(dimensions)\n",
    "    force[vertical_axis] = -g * m\n",
    "    \n",
    "    return force"
   ]
  },
  {
   "cell_type": "markdown",
   "metadata": {},
   "source": [
    "Drag force is a little more complex, it involves calculation of air resistance.\n",
    "\n",
    "$$\n",
    "    F_d = \\frac{D \\rho A}{2} |v|^2\n",
    "$$\n",
    "\n",
    "We will need to be able to calculated the magnitude of a multi-dimensional velocity vector, so we should create a quite helper function."
   ]
  },
  {
   "cell_type": "code",
   "execution_count": 6,
   "metadata": {},
   "outputs": [],
   "source": [
    "def magnitude(x):\n",
    "    ''' Return mangitude of vector x. \n",
    "\n",
    "        Args:\n",
    "\n",
    "            x (np.array):   input vector\n",
    "\n",
    "        Returns\n",
    "            \n",
    "            (np.float64):   magnitude of x \n",
    "    '''\n",
    "\n",
    "    return np.sqrt(np.sum(x * x))"
   ]
  },
  {
   "cell_type": "markdown",
   "metadata": {},
   "source": [
    "The drag force is orientated in the opposite direction of the velocity vector. The easiest way to handle this geometrically is using unit vectors, hence another helper function."
   ]
  },
  {
   "cell_type": "code",
   "execution_count": 7,
   "metadata": {},
   "outputs": [],
   "source": [
    "def unit_vector(x):\n",
    "    ''' Return unit vector for vector x. \n",
    "\n",
    "        Args:\n",
    "\n",
    "            x (np.array):   input vector\n",
    "\n",
    "        Returns\n",
    "            \n",
    "            (np.array):     unit vector for x\n",
    "    '''\n",
    "\n",
    "    return x / magnitude(x)"
   ]
  },
  {
   "cell_type": "markdown",
   "metadata": {},
   "source": [
    "Now we can use these two tools to finally build our drag force function."
   ]
  },
  {
   "cell_type": "code",
   "execution_count": 8,
   "metadata": {},
   "outputs": [],
   "source": [
    "def drag_force(v, D, rho, A):\n",
    "    ''' Return drag force on a projectile subject to air resistance.\n",
    "        \n",
    "        Returns a force vector in the opposite direction as the velocity\n",
    "        vector with a magnitude determined by the drag equation below.\n",
    "\n",
    "                    F_d = (D * rho * A) / 2 * v**2\n",
    "\n",
    "        Args:\n",
    "            \n",
    "            v (np.array):       velocity vector \n",
    "            D (np.float64):     drag coefficient\n",
    "            rho (np.float64):   air density (units)\n",
    "            A (np.float64):     cross-sectional area (m**2)\n",
    "\n",
    "        Returns:\n",
    "\n",
    "            (np.array):         drag force vector \n",
    "    '''\n",
    "\n",
    "    F_d = ((D * rho * A) / 2) * magnitude(v)**2\n",
    "    \n",
    "    return F_d * (-1) * unit_vector(v)"
   ]
  },
  {
   "cell_type": "markdown",
   "metadata": {},
   "source": [
    "Acceleration of the projectile follows Newtons Law:\n",
    "\n",
    "$$\n",
    "    \\sum F_i = ma\n",
    "$$\n",
    "\n",
    "We have already accounted for our major forces (i.e. gravity and drag), so now we just build them into a function."
   ]
  },
  {
   "cell_type": "code",
   "execution_count": 9,
   "metadata": {},
   "outputs": [],
   "source": [
    "def acceleration(x, v, A=1, D=0.5, rho=1.2, m=1):\n",
    "    ''' Return the acceleration vector for a projectile subject to \n",
    "        air resistance.\n",
    "        \n",
    "        Uses:\n",
    "\n",
    "                        a = F_net / m\n",
    "\n",
    "        Args:\n",
    "            \n",
    "            v (np.array):       velocity vector \n",
    "            D (np.float64):     drag coefficient\n",
    "            rho (np.float64):   air density (units)\n",
    "            A (np.float64):     cross-sectional area (m**2)\n",
    "            m (np.float64):     mass of the projectile (kg)\n",
    "\n",
    "        Returns:\n",
    "\n",
    "            (np.array):         acceleration vector \n",
    "    '''\n",
    "\n",
    "    F_d = drag_force(v, D, rho, A)\n",
    "    F_g = gravitational_force(m)\n",
    "\n",
    "    return (F_d + F_g) / m"
   ]
  },
  {
   "cell_type": "markdown",
   "metadata": {},
   "source": [
    "Finally, we copy over our Euler Method from GA3. We spent the time then to ensure that the function could handle multi-dimensional input. In this latest version, I built in some convient stopping conditions. The Euler Method will stop the computation once the projectile hits (x, 0) if `stop_mode='projectile'`.\n",
    "\n",
    "The function is noticebly more complex, because we no longer know how large of an array to allocate at the start of the method. This function instead pre--allocates 128 points, and doubles the number of points everytime the algorithm reaches the end of the array."
   ]
  },
  {
   "cell_type": "code",
   "execution_count": 43,
   "metadata": {},
   "outputs": [],
   "source": [
    "def euler_method(acceleration, t0=0, tf=None, dt=0.1, x0=0, v0=0, modified=False, \n",
    "                 stop_mode='normal', vertical_axis=1, **kwargs):\n",
    "    ''' Returns t, x, v, and a arrays for Euler Method\n",
    "\n",
    "    Args:\n",
    "        acceleration (func):    acceleration function **\n",
    "\n",
    "        t0 (float):             initial time (s)\n",
    "        tf (float):             final time (s)\n",
    "        dt (float):             time step (s)\n",
    "        \n",
    "        x0 (np.array):          initial displacement (m)\n",
    "        v0 (np.array):          initial velocity (m/s)\n",
    "        \n",
    "        stop_mode:              'normal'     run from t0 to tf\n",
    "                                'projectile' run until y=0\n",
    "                                \n",
    "        vertical_axis           vertical axis for 'projectile' stop mode.\n",
    "        \n",
    "        **kwargs:               any additional parameters required for\n",
    "                                    acceleration function.\n",
    "\n",
    "    Returns:\n",
    "        np.float64 (np.array):  list of times (s)\n",
    "        np.float64 (np.array):  list positions (m)\n",
    "        np.float64 (np.array):  list velocities (m/s)\n",
    "        np.float64 (np.array):  list accelerations (m/s**2)\n",
    "    '''\n",
    "    \n",
    "    # Allocate initial array size.\n",
    "    n = 128\n",
    "    t = np.empty(n)\n",
    "    x = np.empty([n, 2])\n",
    "    v = np.empty([n, 2])\n",
    "    a = np.empty([n, 2])\n",
    "        \n",
    "    # Set initial conditions.\n",
    "    t[0] = t0\n",
    "    x[0] = x0\n",
    "    v[0] = v0\n",
    "    a[0] = acceleration(x0, v0, **kwargs)\n",
    "    \n",
    "    i = 0\n",
    "    while True:\n",
    "        # If array is too small, reallocate\n",
    "        i += 1\n",
    "        if i >= n:\n",
    "            t = np.append(t, np.empty(n))\n",
    "            x = np.append(x, np.empty([n, 2]), axis=0)\n",
    "            v = np.append(v, np.empty([n, 2]), axis=0)\n",
    "            a = np.append(a, np.empty([n, 2]), axis=0)\n",
    "            \n",
    "            n *= 2\n",
    "        \n",
    "        # Run Euler Method\n",
    "        a[i] = acceleration(x[i-1], v[i-1], **kwargs)\n",
    "        \n",
    "        if modified:\n",
    "            v[i] = v[i-1] + dt * a[i]\n",
    "            x[i] = x[i-1] + dt * v[i]\n",
    "        else:\n",
    "            x[i] = x[i-1] + dt * v[i-1]\n",
    "            v[i] = v[i-1] + dt * a[i]\n",
    "            \n",
    "        t[i] = t[i-1] + dt\n",
    "        \n",
    "        # Evaluate stopping conditions.\n",
    "        if stop_mode == 'normal':\n",
    "            if t[i] > tf: \n",
    "                break\n",
    "        elif stop_mode == 'projectile':\n",
    "            if (t[i] > t0) and x[i,vertical_axis] <= 0: \n",
    "                break\n",
    "\n",
    "    # Truncate unused portion of arrays\n",
    "    t = t[0:i+1]\n",
    "    x = x[0:i+1,:]\n",
    "    v = v[0:i+1,:]\n",
    "    a = a[0:i+1,:]\n",
    "            \n",
    "    return t, x, v, a"
   ]
  },
  {
   "cell_type": "markdown",
   "metadata": {},
   "source": [
    "We just need one last helper function. The initial velocity of a projectile is often specified as a velocity magnitude and an incline. The most convient form for our calculations is x, y (, and z) velocity components. They are found through some basic trigonometry.\n",
    "\n",
    "$$ x = v_0 \\cos(\\phi) $$\n",
    "$$ y = v_0 \\sin(\\phi) $$\n",
    "\n",
    "To make thinigs unnecessarily complex, this function also handles azimuth. I am considering doing these problems in 3-dimensions so I can play with coriolis, ship velocity and bearing, and wind velocity. "
   ]
  },
  {
   "cell_type": "code",
   "execution_count": 12,
   "metadata": {},
   "outputs": [],
   "source": [
    "def launch_vector(mag, incline, azimuth=False, radians=False):\n",
    "    ''' Return v0 vector for given scalar magnitude and incline above the horizon. \n",
    "\n",
    "        Args:\n",
    "            magnitude (float):      magnitude of v0 (m/s)\n",
    "            incline (float):        angle above horizon (degrees)\n",
    "            azimuth (float):        angle in plane of horizon (degrees)\n",
    "            radians (bool):         option for using radian incline\n",
    "\n",
    "        Returns:\n",
    "            np.array (np.float64):  vector with launch velocity components\n",
    "    '''\n",
    "    \n",
    "    if not radians:\n",
    "        incline = incline * (np.pi / 180.0)\n",
    "\n",
    "        if azimuth:\n",
    "            azimuth = azimuth * (np.pi / 180.0)\n",
    "    \n",
    "    if azimuth:\n",
    "        z = mag * np.sin(incline)\n",
    "        h = mag * np.cos(incline)\n",
    "\n",
    "        x = h * np.cos(azimuth)\n",
    "        y = h * np.sin(azimuth)\n",
    "\n",
    "        return np.asarray([x, y, z])\n",
    "\n",
    "    else:\n",
    "        x = mag * np.cos(incline)\n",
    "        y = mag * np.sin(incline)\n",
    "\n",
    "        return np.asarray([x, y])\n"
   ]
  },
  {
   "cell_type": "markdown",
   "metadata": {},
   "source": [
    "## Exercise 1\n",
    "### 2D Projectile with Air Resistance\n",
    "#### Requirements\n",
    "\n",
    "1. Build a computational model of a 2D projectile subject to air resistance.\n",
    "2. Assume air density and the drag coefficient remain constant.\n",
    "3. Model inputs must be magnitude and angle of initial velocity.\n",
    "4. Determine accuracy of model.\n",
    "5. Determine adequate $\\Delta t$ for model.\n",
    "6. Plot a set of parameters of your choosing."
   ]
  },
  {
   "cell_type": "markdown",
   "metadata": {},
   "source": [
    "#### Solution\n",
    "\n",
    "I'll start by trying out the intial velocity function."
   ]
  },
  {
   "cell_type": "code",
   "execution_count": 13,
   "metadata": {},
   "outputs": [
    {
     "data": {
      "text/plain": [
       "array([97.81476007, 20.79116908])"
      ]
     },
     "execution_count": 13,
     "metadata": {},
     "output_type": "execute_result"
    }
   ],
   "source": [
    "launch_vector(mag=100, incline=12)"
   ]
  },
  {
   "cell_type": "markdown",
   "metadata": {},
   "source": [
    "Now lets run the Modified Euler Method. We'll fire a 10 $cm^2$ shell with a drage coefficient of 0.5 at 100 $m/s$ and a $40^\\circ$ incline."
   ]
  },
  {
   "cell_type": "code",
   "execution_count": 41,
   "metadata": {},
   "outputs": [
    {
     "name": "stdout",
     "output_type": "stream",
     "text": [
      "1\n"
     ]
    },
    {
     "data": {
      "image/png": "[encoded data removed]",
      "text/plain": [
       "<matplotlib.figure.Figure at 0x7f5a8dd8cf10>"
      ]
     },
     "metadata": {},
     "output_type": "display_data"
    }
   ],
   "source": [
    "t, x, v, a =  fast_euler_method(acceleration, \n",
    "                           dt=0.1, \n",
    "                           x0=np.asarray([0,0]), \n",
    "                           v0=launch_vector(100, 45), \n",
    "                           modified=True, \n",
    "                           stop_mode='projectile', \n",
    "                           A=0.01)\n",
    "    \n",
    "plt.plot(x[:,0], x[:,1])\n",
    "plt.grid(which='both', linestyle=':')\n",
    "plt.xlabel('Horizontal Position (m)')\n",
    "plt.ylabel('Altitude (m)')\n",
    "plt.axis('equal')\n",
    "plt.ylim(ymin=0)\n",
    "plt.show()"
   ]
  },
  {
   "cell_type": "markdown",
   "metadata": {},
   "source": [
    "## Exercise 2\n",
    "### Shape of the 2D Projectile Trajectory\n",
    "#### Requirements\n",
    "\n",
    "1. Compare your model to a parabola, are they the same?"
   ]
  },
  {
   "cell_type": "markdown",
   "metadata": {},
   "source": [
    "#### Solution\n",
    "\n",
    "Lets create a quick helper function for plotting parabolas."
   ]
  },
  {
   "cell_type": "code",
   "execution_count": null,
   "metadata": {},
   "outputs": [],
   "source": [
    "def parabola(x, a, b, c):\n",
    "    ''' Return a parabola given entered in standard form. '''\n",
    "    \n",
    "    return a * x**2 + b * x + c"
   ]
  },
  {
   "cell_type": "markdown",
   "metadata": {},
   "source": [
    "# Exercise 3\n",
    "### Angle for Maximum Projectile Range\n",
    "#### Requirements\n",
    "\n",
    "1. What angles of $\\theta$ ($\\pm 0.1^\\circ$) maximize the range? Use three very differnt drag coefficients.\n",
    "2. Plot all three trajectories together. Label max range, angle, and drag coefficient for each series.\n"
   ]
  },
  {
   "cell_type": "markdown",
   "metadata": {},
   "source": [
    "# Exercise 4\n",
    "### 2D Model with Air Resistance--Naval Gun\n",
    "#### Requirements\n",
    "\n",
    "1. Goto http://www.navweaps.com/Weapons/WNUS_1650_mk6.php and retrieve real parameters (i.e. mass, frontal area, initial velocity) for a 16\" naval gun.\n",
    "2. Account for changes in air density.\n",
    "3. Determine a constant drag coefficient, D, by fiting your model to the following data. Use \"new gun\" muzzle velocities.\n",
    "\n",
    "\n",
    "|**Elevation ($^\\circ$)**|**AP Mark 8 (m)**|**HC Mark13 (m)**| \n",
    "|:-----:|:-----:|:-----:|\n",
    "|10|16139|16642| \n",
    "|15|21854|22037| \n",
    "|20|26518|26335| \n",
    "|25|30450|29901| \n",
    "|30|33558|32918| \n",
    "|35|36119|35342| \n",
    "|40|37884|37163| \n",
    "|45|38720|38059|     \n",
    "\n",
    "#### Solution\n",
    "\n",
    "Lets do the easy part first: modeling altitude--dependent air density. Near the Earth (< 10,000 m), air density follows the following relasion:\n",
    "\n",
    "$$\n",
    "    \\rho(y) = \\rho_o \\left( 1 - \\frac{cy}{T_o} \\right)^\\alpha\n",
    "$$\n",
    "\n",
    "&nbsp;&nbsp;&nbsp;&nbsp;&nbsp;where,\n",
    "    \n",
    "&nbsp;&nbsp;&nbsp;&nbsp;&nbsp;$\\rho_o=1.2$ is the air density at sea level ($\\text{kg}/\\text{m}^3$) \n",
    "\n",
    "&nbsp;&nbsp;&nbsp;&nbsp;&nbsp;$c=6.5\\times10^{-3}$ is the change in temperaure with altitude ($K/m$)\n",
    "\n",
    "&nbsp;&nbsp;&nbsp;&nbsp;&nbsp;$T_o=300$ is the temperature at sea level ($K$)\n",
    "\n",
    "&nbsp;&nbsp;&nbsp;&nbsp;&nbsp;$\\alpha=2.5$ is...I have no idea..."
   ]
  },
  {
   "cell_type": "code",
   "execution_count": null,
   "metadata": {},
   "outputs": [],
   "source": [
    "def air_density(y, rho0=1.2, c=6.5e-3, T0=300, alpha=2.5):\n",
    "    ''' Return altitude dependent air density, rho.\n",
    "\n",
    "        Derrived from thermodynamic calculations and remains\n",
    "        a good approximation upt to 10 km (Roos, 2018).\n",
    "\n",
    "        Uses:\n",
    "\n",
    "            rho(y) = rho0 (1 - (cy/T0))**alpha\n",
    "\n",
    "        Args:\n",
    "\n",
    "            y (float):      altitude (m)\n",
    "            rho (float):    air density as sea level (kg/m**3)\n",
    "            c (float):      temperature fall (K/m)\n",
    "            T0 (float):     temperature at sea level (K)\n",
    "            alpha (float):  unknown?\n",
    "\n",
    "        Returns:\n",
    "            \n",
    "            (float):        air density at altitude (kg/m**3)\n",
    "    '''\n",
    "\n",
    "    return (rho0 * (1 - c * y / T0))**alpha"
   ]
  },
  {
   "cell_type": "markdown",
   "metadata": {},
   "source": [
    "Lets fire a quick plot of that."
   ]
  },
  {
   "cell_type": "code",
   "execution_count": null,
   "metadata": {},
   "outputs": [],
   "source": [
    "y = np.linspace(0, 10000, 1000)\n",
    "rho = air_density(y)\n",
    "\n",
    "plt.plot(rho, y)\n",
    "plt.title('Air Density as a Function of Altitude')\n",
    "plt.xlabel('Air Density ($kg/m^3$)')\n",
    "plt.ylabel('Altitude (m)')\n",
    "\n",
    "plt.grid(which='both', linestyle=':')\n",
    "plt.tick_params(which='both', direction='in')\n",
    "\n",
    "plt.show()"
   ]
  },
  {
   "cell_type": "markdown",
   "metadata": {},
   "source": [
    "# Exercise 5\n",
    "### Angle for Maximum Range\n",
    "#### Requirements\n",
    "\n",
    "1. Find the maximum angle for the naval projectile using the accurate paramter from Exercise 4.\n",
    "2. Is the angle greater or smaller than $45^\\circ$"
   ]
  },
  {
   "cell_type": "markdown",
   "metadata": {},
   "source": []
  }
 ],
 "metadata": {
  "anaconda-cloud": {},
  "kernelspec": {
   "display_name": "Python 2",
   "language": "python",
   "name": "python2"
  },
  "language_info": {
   "codemirror_mode": {
    "name": "ipython",
    "version": 2
   },
   "file_extension": ".py",
   "mimetype": "text/x-python",
   "name": "python",
   "nbconvert_exporter": "python",
   "pygments_lexer": "ipython2",
   "version": "2.7.14"
  }
 },
 "nbformat": 4,
 "nbformat_minor": 1
}
